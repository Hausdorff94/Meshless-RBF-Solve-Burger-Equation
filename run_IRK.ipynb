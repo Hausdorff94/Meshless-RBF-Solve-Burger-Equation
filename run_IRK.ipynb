{
 "cells": [
  {
   "cell_type": "code",
   "execution_count": 1,
   "metadata": {},
   "outputs": [],
   "source": [
    "import numpy as np\n",
    "\n",
    "from halton_points import HaltonPoints\n",
    "from function_Fm import *\n",
    "from explicit_RK import *\n",
    "from analytical_solution import *\n",
    "\n",
    "from scipy.sparse import csc_matrix\n",
    "from scipy.sparse.linalg import gmres\n",
    "import time"
   ]
  },
  {
   "cell_type": "markdown",
   "metadata": {},
   "source": [
    "## Boundary"
   ]
  },
  {
   "cell_type": "code",
   "execution_count": 2,
   "metadata": {},
   "outputs": [],
   "source": [
    "nf = 13#(2**3+1)**2\n",
    "r = HaltonPoints(2, nf).haltonPoints()\n",
    "fxl = r.copy()\n",
    "fxl[:, 0] = 0\n",
    "fxr = r.copy()\n",
    "fxr[:, 0] = 1\n",
    "fyu = r.copy()\n",
    "fyu[:, 1] = 0\n",
    "fyd = r.copy()\n",
    "fyd[:, 1] = 1\n",
    "Mb = np.vstack((fxl, fxr, fyu, fyd))"
   ]
  },
  {
   "cell_type": "markdown",
   "metadata": {},
   "source": [
    "## Interior"
   ]
  },
  {
   "cell_type": "code",
   "execution_count": 3,
   "metadata": {},
   "outputs": [],
   "source": [
    "poly_b = np.array([[-1, -1, 1], [1/2, 3/2, -1], [3/2, 1/8, -3/8]])\n",
    "npnts = (2**2+1)**2\n",
    "\n",
    "uh = solve_matrix(Mb=Mb, npnts=npnts, poly_b=poly_b, rbf='TPS')\n",
    "uh.exact_solution = \"2\"\n",
    "uh.nu = 0.0005\n",
    "uh.c = 1/4\n",
    "uh.pols = 'Hermite'\n",
    "\n",
    "domain = create_domain(uh.Mi, radius=0.35, c_y=0.5, c_x=0.5)\n",
    "\n",
    "#unit_square\n",
    "#circle_centre\n",
    "\n",
    "uh.Mi, new_boundary = domain.setup(domain='unit_square', bound_points=12)\n",
    "uh.Mb = np.vstack((uh.Mb, new_boundary))\n",
    "uh.ni = uh.Mi.shape[0]\n",
    "uh.nb = uh.Mb.shape[0]\n",
    "X0 = uh.X_0()"
   ]
  },
  {
   "cell_type": "code",
   "execution_count": 4,
   "metadata": {},
   "outputs": [
    {
     "name": "stdout",
     "output_type": "stream",
     "text": [
      "Interior points: 1,089 \n",
      "Boundary points: 52 \n",
      "Total points: 1,141\n"
     ]
    }
   ],
   "source": [
    "print(\"Interior points: {:,.0f} \\nBoundary points: {:,.0f} \\nTotal points: {:,.0f}\".format(uh.Mi.shape[0], uh.Mb.shape[0], uh.Mi.shape[0] + uh.Mb.shape[0]))"
   ]
  },
  {
   "cell_type": "code",
   "execution_count": 5,
   "metadata": {},
   "outputs": [
    {
     "name": "stdout",
     "output_type": "stream",
     "text": [
      "Condition number: 163 \n",
      "Determinant: -29,528,166,481,646,343,004,618,752.000000000\n"
     ]
    }
   ],
   "source": [
    "#uh.epsilon = 5.956\n",
    "cond = np.linalg.cond(uh.ACaps())\n",
    "det = np.linalg.det(uh.ACaps())\n",
    "print('Condition number: {:,.0f} \\nDeterminant: {:,.9f}'.format(cond, det))"
   ]
  },
  {
   "cell_type": "markdown",
   "metadata": {},
   "source": [
    "# Solve Matrix RK-Newthon"
   ]
  },
  {
   "cell_type": "markdown",
   "metadata": {},
   "source": [
    "```python\n",
    "Y = np.vstack((X0, X0))\n",
    "dt = 0.1\n",
    "uh.variables(X0, dt, Y)\n",
    "#rr = uh.Rk(0.02)\n",
    "```"
   ]
  },
  {
   "cell_type": "markdown",
   "metadata": {},
   "source": [
    "```python\n",
    "for t in range(1,11):\n",
    "    error = list()\n",
    "    for _ in range(10):\n",
    "        uh.Y = Y\n",
    "        A, b = uh.inexact_Newthon(t/10)\n",
    "        u, exitCodeu = gmres(A, b[:,0].reshape(-1,1))\n",
    "        v, exitCodev = gmres(A, b[:,1].reshape(-1,1))\n",
    "        Sp = np.hstack((u.reshape(-1,1), v.reshape(-1,1)))\n",
    "        Y = Y - Sp\n",
    "\n",
    "    Xk = uh.step(t/10)\n",
    "    u_exact = exact_solution(uh.Mi, uh.nu).u(t/10)\n",
    "    e = np.linalg.norm(u_exact - Xk)/np.linalg.norm(u_exact)\n",
    "    print('tiempo: {} \\t error: {:,.6f}'.format(t/10, e))\n",
    "    error.append(e)\n",
    "    uh.Xk = Xk\n",
    "    uh.Y = np.vstack((Xk, Xk))\n",
    "```"
   ]
  },
  {
   "cell_type": "code",
   "execution_count": 6,
   "metadata": {},
   "outputs": [],
   "source": [
    "t0, te = 0, 1\n",
    "N = 10\n",
    "exp_RK = explicit_RungeKutta(Fm, X0, t0, te, N, uh)"
   ]
  },
  {
   "cell_type": "code",
   "execution_count": null,
   "metadata": {},
   "outputs": [],
   "source": [
    "start_time = time.time()\n",
    "exp_RK.solve()\n",
    "time.time() - start_time"
   ]
  },
  {
   "cell_type": "code",
   "execution_count": null,
   "metadata": {},
   "outputs": [],
   "source": [
    "# for _ in range(50):\n",
    "#     A, b = uh.inexact_Newthon(0.01)\n",
    "#     Sp = np.linalg.inv(A).dot(b)\n",
    "#     Y =  Y - Sp\n",
    "#     uh.Y = Y\n",
    "#     print(np.linalg.norm(Y, 'fro'))"
   ]
  }
 ],
 "metadata": {
  "interpreter": {
   "hash": "d77697815d4265ed8aea6c9072aebcc1fd7d3b7c82495dbb54be4f3932164dd9"
  },
  "kernelspec": {
   "display_name": "Python 3.7.6 64-bit ('.env': virtualenv)",
   "name": "python3"
  },
  "language_info": {
   "codemirror_mode": {
    "name": "ipython",
    "version": 3
   },
   "file_extension": ".py",
   "mimetype": "text/x-python",
   "name": "python",
   "nbconvert_exporter": "python",
   "pygments_lexer": "ipython3",
   "version": "3.7.6"
  }
 },
 "nbformat": 4,
 "nbformat_minor": 2
}

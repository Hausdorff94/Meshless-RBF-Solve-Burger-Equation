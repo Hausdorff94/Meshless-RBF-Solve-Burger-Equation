{
 "cells": [
  {
   "cell_type": "code",
   "execution_count": 15,
   "source": [
    "import numpy as np\r\n",
    "\r\n",
    "from halton_points import HaltonPoints\r\n",
    "from function_Fm import *\r\n",
    "from explicit_RK import *\r\n",
    "from analytical_solution import *\r\n",
    "\r\n",
    "from scipy.sparse import csc_matrix\r\n",
    "from scipy.sparse.linalg import gmres"
   ],
   "outputs": [],
   "metadata": {}
  },
  {
   "cell_type": "markdown",
   "source": [
    "## Boundary"
   ],
   "metadata": {}
  },
  {
   "cell_type": "code",
   "execution_count": 16,
   "source": [
    "nf = (2**0+1)**2\r\n",
    "r = HaltonPoints(2, nf).haltonPoints()\r\n",
    "fxl = r.copy()\r\n",
    "fxl[:, 0] = 0\r\n",
    "fxr = r.copy()\r\n",
    "fxr[:, 0] = 1\r\n",
    "fyu = r.copy()\r\n",
    "fyu[:, 1] = 0\r\n",
    "fyd = r.copy()\r\n",
    "fyd[:, 1] = 1\r\n",
    "Mb = np.vstack((fxl, fxr, fyu, fyd))"
   ],
   "outputs": [],
   "metadata": {}
  },
  {
   "cell_type": "markdown",
   "source": [
    "## Interior"
   ],
   "metadata": {}
  },
  {
   "cell_type": "code",
   "execution_count": 17,
   "source": [
    "poly_b = np.array([[-1, -1, 1], [1/2, 3/2, -1], [3/2, 1/8, -3/8]])\r\n",
    "npnts = (2**4+1)**2\r\n",
    "\r\n",
    "uh = solve_matrix(Mb=Mb, npnts=npnts, poly_b=poly_b, rbf='TPS')\r\n",
    "uh.exact_solution = \"2\"\r\n",
    "uh.nu = 0.001\r\n",
    "uh.c = 1/4\r\n",
    "uh.pols = 'Hermite'\r\n",
    "\r\n",
    "domain = create_domain(uh.Mi, radius=0.35, c_y=0.5, c_x=0.5)\r\n",
    "\r\n",
    "#unit_square\r\n",
    "#circle_centre\r\n",
    "\r\n",
    "uh.Mi, new_boundary = domain.setup(domain='unit_square', bound_points=12)\r\n",
    "uh.Mb = np.vstack((uh.Mb, new_boundary))\r\n",
    "uh.ni = uh.Mi.shape[0]\r\n",
    "uh.nb = uh.Mb.shape[0]\r\n",
    "X0 = uh.X_0()"
   ],
   "outputs": [],
   "metadata": {}
  },
  {
   "cell_type": "code",
   "execution_count": 18,
   "source": [
    "print(\"Interior points: {:,.0f} \\nBoundary points: {:,.0f} \\nTotal points: {:,.0f}\".format(uh.Mi.shape[0], uh.Mb.shape[0], uh.Mi.shape[0] + uh.Mb.shape[0]))"
   ],
   "outputs": [
    {
     "output_type": "stream",
     "name": "stdout",
     "text": [
      "Interior points: 289 \n",
      "Boundary points: 16 \n",
      "Total points: 305\n"
     ]
    }
   ],
   "metadata": {}
  },
  {
   "cell_type": "code",
   "execution_count": 19,
   "source": [
    "#uh.epsilon = 5.956\r\n",
    "cond = np.linalg.cond(uh.ACaps())\r\n",
    "det = np.linalg.det(uh.ACaps())\r\n",
    "print('Condition number: {:,.0f} \\nDeterminant: {:,.9f}'.format(cond, det))"
   ],
   "outputs": [
    {
     "output_type": "stream",
     "name": "stdout",
     "text": [
      "Condition number: 54 \n",
      "Determinant: -177,348,695,872,234.562500000\n"
     ]
    }
   ],
   "metadata": {}
  },
  {
   "cell_type": "markdown",
   "source": [
    "# Solve Matrix RK-Newthon"
   ],
   "metadata": {}
  },
  {
   "cell_type": "code",
   "execution_count": 20,
   "source": [
    "Y = np.vstack((X0, X0))\r\n",
    "dt = 0.1\r\n",
    "uh.variables(X0, dt, Y)\r\n",
    "#rr = uh.Rk(0.02)"
   ],
   "outputs": [],
   "metadata": {}
  },
  {
   "cell_type": "code",
   "execution_count": 21,
   "source": [
    "for t in range(1,11):\r\n",
    "    error = list()\r\n",
    "    for _ in range(10):\r\n",
    "        uh.Y = Y\r\n",
    "        A, b = uh.inexact_Newthon(t/10)\r\n",
    "        u, exitCodeu = gmres(A, b[:,0].reshape(-1,1))\r\n",
    "        v, exitCodev = gmres(A, b[:,1].reshape(-1,1))\r\n",
    "        Sp = np.hstack((u.reshape(-1,1), v.reshape(-1,1)))\r\n",
    "        Y = Y - Sp\r\n",
    "\r\n",
    "    Xk = uh.step(t/10)\r\n",
    "    u_exact = exact_solution(uh.Mi, uh.nu).u(t/10)\r\n",
    "    e = np.linalg.norm(u_exact - Xk)/np.linalg.norm(u_exact)\r\n",
    "    print('tiempo: {} \\t error: {:,.6f}'.format(t/10, e))\r\n",
    "    error.append(e)\r\n",
    "    uh.Xk = Xk\r\n",
    "    uh.Y = np.vstack((Xk, Xk))"
   ],
   "outputs": [
    {
     "output_type": "stream",
     "name": "stdout",
     "text": [
      "tiempo: 0.1 \t error: 0.037423\n",
      "tiempo: 0.2 \t error: 0.062549\n"
     ]
    }
   ],
   "metadata": {}
  },
  {
   "cell_type": "code",
   "execution_count": null,
   "source": [
    "error"
   ],
   "outputs": [],
   "metadata": {}
  },
  {
   "cell_type": "code",
   "execution_count": null,
   "source": [
    "# for _ in range(50):\r\n",
    "#     A, b = uh.inexact_Newthon(0.01)\r\n",
    "#     Sp = np.linalg.inv(A).dot(b)\r\n",
    "#     Y =  Y - Sp\r\n",
    "#     uh.Y = Y\r\n",
    "#     print(np.linalg.norm(Y, 'fro'))"
   ],
   "outputs": [],
   "metadata": {}
  }
 ],
 "metadata": {
  "orig_nbformat": 4,
  "language_info": {
   "name": "python",
   "version": "3.7.6",
   "mimetype": "text/x-python",
   "codemirror_mode": {
    "name": "ipython",
    "version": 3
   },
   "pygments_lexer": "ipython3",
   "nbconvert_exporter": "python",
   "file_extension": ".py"
  },
  "kernelspec": {
   "name": "python3",
   "display_name": "Python 3.7.6 64-bit ('.env': virtualenv)"
  },
  "interpreter": {
   "hash": "d77697815d4265ed8aea6c9072aebcc1fd7d3b7c82495dbb54be4f3932164dd9"
  }
 },
 "nbformat": 4,
 "nbformat_minor": 2
}
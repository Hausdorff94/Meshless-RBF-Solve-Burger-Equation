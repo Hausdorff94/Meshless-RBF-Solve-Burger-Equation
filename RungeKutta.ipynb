{
 "cells": [
  {
   "cell_type": "code",
   "execution_count": 1,
   "source": [
    "import numpy as np\r\n",
    "from scipy.linalg import lu_factor, lu_solve\r\n",
    "from halton_points import HaltonPoints\r\n",
    "from expressions import *\r\n",
    "import matplotlib.pyplot as plt"
   ],
   "outputs": [],
   "metadata": {}
  },
  {
   "cell_type": "code",
   "execution_count": 6,
   "source": [
    "def test(a):\r\n",
    "    #mdict = dict()\r\n",
    "    for t in range(5):\r\n",
    "        a+=t\r\n",
    "        #mdict[t] = a\r\n",
    "        yield t,a\r\n",
    "\r\n",
    "dict(test(1))"
   ],
   "outputs": [
    {
     "output_type": "execute_result",
     "data": {
      "text/plain": [
       "{0: 1, 1: 2, 2: 4, 3: 7, 4: 11}"
      ]
     },
     "metadata": {},
     "execution_count": 6
    }
   ],
   "metadata": {}
  },
  {
   "cell_type": "markdown",
   "source": [
    "# One step method"
   ],
   "metadata": {}
  },
  {
   "cell_type": "code",
   "execution_count": 40,
   "source": [
    "class Onestepmethod(object):\r\n",
    "    def __init__(self, t0, te, N, tol, Mb, npnts, poly_b, uh):\r\n",
    "        #self.f = f\r\n",
    "        self.t0 = t0\r\n",
    "        self.interval = [t0, te]\r\n",
    "        self.grid = np.linspace(t0, te, N+2)\r\n",
    "        self.h = (te-t0)/(N+1)\r\n",
    "        self.N = N\r\n",
    "        self.tol = tol\r\n",
    "        self.s = len(self.b)\r\n",
    "        self.Mb = Mb\r\n",
    "        self.npnts = npnts,\r\n",
    "        self.poly_b = poly_b\r\n",
    "        self.uh = uh#assembled_matrix(Mb=self.Mb, npnts=self.npnts, beta=2, c=1, poly_b=self.poly_b)\r\n",
    "        self.y0 = self.uh.X_0()\r\n",
    "        self.dm = self.y0.ndim\r\n",
    "        self.y0 = self.y0[0]\r\n",
    "        self.J = self.uh.J()\r\n",
    "\r\n",
    "    def f(self, t, X0):\r\n",
    "        for xn in self.uh.Mi:\r\n",
    "            self.uh.x = xn\r\n",
    "            yield uh.F_m(X0)[0]\r\n",
    "\r\n",
    "    def step(self):\r\n",
    "        ti, yi = self.grid[0], self.y0\r\n",
    "        t_i = ti\r\n",
    "        yield np.array([ti]), yi\r\n",
    "            \r\n",
    "        for ti in self.grid[1:]:\r\n",
    "            yi = yi + self.h*self.phi(t_i, yi)\r\n",
    "            t_i = ti\r\n",
    "            yield np.array([ti]), yi\r\n",
    "\r\n",
    "    def solve(self):\r\n",
    "        #print(np.array(list(self.step()))[:,:,0])\r\n",
    "        self.solution = np.array(list(self.step()))"
   ],
   "outputs": [],
   "metadata": {}
  },
  {
   "cell_type": "markdown",
   "source": [
    "# RK Implicit"
   ],
   "metadata": {}
  },
  {
   "cell_type": "code",
   "execution_count": 41,
   "source": [
    "class RungeKutta_implicit(Onestepmethod):\r\n",
    "    def phi(self, ti, yi):\r\n",
    "        '''\r\n",
    "        Calculates the sum of b_j*Y_j in one step of the Runge-Kutta method with y_{n+1}= y_n + h*sum_{j=1}^s b_j *Y\r\n",
    "        where j=1,2,...,s and s is the number of stages, b the notes and Y the stages values.\r\n",
    "\r\n",
    "        Parameters:\r\n",
    "        ----------------\r\n",
    "        t0 = float, current timestep\r\n",
    "        y0 = 1xm vector, the last solution y_n. Where m is the lenght of the IC y_0 of IVP.\r\n",
    "\r\n",
    "        '''\r\n",
    "        M = 10\r\n",
    "        # Initial value Y'_0\r\n",
    "        stageDer = np.vstack(self.s*[np.vstack(tuple(self.f(ti, yi)))])\r\n",
    "        #J = nd.Jacobian(self.f)([t0, y0[0]])\r\n",
    "        # J = nd.Jacobian(self.f, t0, y0)\r\n",
    "\r\n",
    "        #J = np.array([-5])\r\n",
    "        #J = np.array([[0, 1], [-1, 0]])\r\n",
    "        J = self.J\r\n",
    "        #J = np.array([[0, 1], [-9.8*np.cos(yi[0]), 0]])\r\n",
    "        stageVal = self.phi_solve(ti, yi, stageDer, J, M)\r\n",
    "        return np.dot(self.b, stageVal.reshape(self.s, self.dm))\r\n",
    "        # -|-return np.array([np.dot(self.b, stageVal.reshape(self.s, self.dm)[:, j]) for j in range(self.dm)])\r\n",
    "\r\n",
    "    def phi_solve(self, t0, y0, initVal, J, M):\r\n",
    "        '''\r\n",
    "        This function solves the sm x sm system\r\n",
    "        F(Y_i)=0 by Newton method with initial guess initVal.\r\n",
    "\r\n",
    "        Parameters:\r\n",
    "        ______________\r\n",
    "        t0 = float, current timestep.\r\n",
    "        y0 = 1 x m vector, the last solution y_n.\r\n",
    "            Where m is the length on the initial condition\r\n",
    "            y_0 of the IVP.\r\n",
    "        initVal = Initial guess for the Newton iteration.\r\n",
    "        J = m x m matrix, the Jacobian matrix of f()\r\n",
    "            evaluated in y_i\r\n",
    "        M = Maximal number of Newton iterations\r\n",
    "\r\n",
    "        Returns:\r\n",
    "        ______________\r\n",
    "        The stage derivative Y'_i               \r\n",
    "        '''\r\n",
    "        JJ = np.eye(self.s * self.dm) - self.h * np.kron(self.A, J)\r\n",
    "        luFactor = lu_factor(JJ)\r\n",
    "\r\n",
    "        for i in range(M):\r\n",
    "            initVal, norm_d = self.phi_newtonstep(t0, y0, initVal, luFactor)\r\n",
    "            if norm_d < self.tol:\r\n",
    "                print('Newton converged in {} steps'.format(i))\r\n",
    "            elif i == M-1:\r\n",
    "                raise ValueError('The Newton iteration did not converge.')\r\n",
    "\r\n",
    "        return initVal\r\n",
    "\r\n",
    "    def phi_newtonstep(self, t0, y0, initVal, luFactor):\r\n",
    "        '''\r\n",
    "        Takes one Newton step by solving\r\n",
    "            G'(Y_i)(Y^{n+1}_{i} - Y^{n}_{i}) = -G(Y_i)\r\n",
    "\r\n",
    "        where,\r\n",
    "            G(Y_i) = Y_i - y_n - h * sum(a_{ij} * Y'_j)\r\n",
    "                for j = 1,...,s\r\n",
    "\r\n",
    "        Parameters:\r\n",
    "        ______________\r\n",
    "        t0 = \r\n",
    "        y0 =\r\n",
    "        '''\r\n",
    "\r\n",
    "        d = lu_solve(luFactor, -self.F(initVal.flatten(), t0, y0))\r\n",
    "\r\n",
    "        return initVal.flatten() + d, np.linalg.norm(d)\r\n",
    "\r\n",
    "    def F(self, stageDer, t_n, y_i):\r\n",
    "        '''\r\n",
    "        Returns the substraction Y'_i-\r\n",
    "        '''\r\n",
    "        stageDer_new = np.empty((self.s, self.dm))\r\n",
    "        # print(stageDer.shape)\r\n",
    "\r\n",
    "        for i in range(self.s):\r\n",
    "\r\n",
    "            stageVal = y_i + self.h * np.dot(\r\n",
    "                self.A[i, :], stageDer.reshape(self.s, self.dm))\r\n",
    "            # -|-stageVal = y_i + np.array([self.h * np.dot(\r\n",
    "            #     self.A[i, :], stageDer.reshape(self.s, self.dm)[:, j]) for j in range(self.dm)])\r\n",
    "\r\n",
    "            stageDer_new[i, :] = self.f(t_n + self.c[i] * self.h, stageVal)\r\n",
    "\r\n",
    "        return stageDer - stageDer_new.reshape(-1)\r\n"
   ],
   "outputs": [],
   "metadata": {}
  },
  {
   "cell_type": "markdown",
   "source": [
    "# SDIRK"
   ],
   "metadata": {}
  },
  {
   "cell_type": "code",
   "execution_count": 42,
   "source": [
    "class SDIRK(RungeKutta_implicit):\r\n",
    "    def phi_solve(self, t0, y0, initVal, J, M):\r\n",
    "        '''\r\n",
    "        This function solves F(Y_i)=0\r\n",
    "        '''\r\n",
    "        #print('phi_solve')\r\n",
    "        alpha = self.A[0, 0]\r\n",
    "\r\n",
    "        JJ = np.eye(self.dm) - self.h * alpha * J\r\n",
    "\r\n",
    "        luFactor = lu_factor(JJ)\r\n",
    "\r\n",
    "        for i in range(M):\r\n",
    "            initVal, norm_d = self.phi_newtonstep(\r\n",
    "                t0, y0, initVal, J, luFactor)\r\n",
    "            if norm_d < self.tol:\r\n",
    "                print('Newton converged in {} steps'.format(i))\r\n",
    "                break\r\n",
    "            elif i == M-1:\r\n",
    "                raise ValueError('The Newton iteration did not converge.')\r\n",
    "\r\n",
    "        return initVal\r\n",
    "\r\n",
    "    def phi_newtonstep(self, t0, y0, initVal, J, luFactor):\r\n",
    "        '''\r\n",
    "        Takes on Newton step by solving\r\n",
    "        '''\r\n",
    "        #print('phi_newtonstep')\r\n",
    "        x = []\r\n",
    "        for i in range(self.s):\r\n",
    "            rhs = -self.F(initVal.flatten(), t0, y0)[i * self.dm:(i+1) * self.dm] + np.sum(\r\n",
    "                [self.h * self.A[i, j] * np.dot(J, x[j]) for j in range(i)], axis=0)\r\n",
    "            d = lu_solve(luFactor, rhs)\r\n",
    "            x.append(d)\r\n",
    "\r\n",
    "        return initVal + x, np.linalg.norm(x)"
   ],
   "outputs": [],
   "metadata": {}
  },
  {
   "cell_type": "markdown",
   "source": [
    "# Gauss"
   ],
   "metadata": {}
  },
  {
   "cell_type": "code",
   "execution_count": 43,
   "source": [
    "class Gauss(RungeKutta_implicit):\r\n",
    "    A = np. array([\r\n",
    "        [5/36, 2/9 - np.sqrt(15)/15, 5/36 - np.sqrt(15)/30],\r\n",
    "        [5/36 + np.sqrt(15)/24, 2/9, 5/36 - np.sqrt(15)/24],\r\n",
    "        [5/36 + np.sqrt(15)/30, 2/9 + np.sqrt(15)/15, 5/36]\r\n",
    "    ])\r\n",
    "    b = np.array([5/18, 4/9, 5/18])\r\n",
    "    c = np.array([1/2-np.sqrt(15)/10, 1/2, 1/2 + np.sqrt(15)/10])"
   ],
   "outputs": [],
   "metadata": {}
  },
  {
   "cell_type": "markdown",
   "source": [
    "# SDIRK 2 stages"
   ],
   "metadata": {}
  },
  {
   "cell_type": "code",
   "execution_count": 44,
   "source": [
    "class SDIRK_tableau2s(SDIRK):\r\n",
    "    p = (3 - np.sqrt(3))/6\r\n",
    "    A = np.array([[p, 0], [1 - 2*p, p]])\r\n",
    "    b = np.array([1/2, 1/2])\r\n",
    "    c = np.array([p, 1-p])\r\n"
   ],
   "outputs": [],
   "metadata": {}
  },
  {
   "cell_type": "markdown",
   "source": [
    "# SDIRK 5 stages"
   ],
   "metadata": {}
  },
  {
   "cell_type": "code",
   "execution_count": 45,
   "source": [
    "class SDIRK_tableau5s(SDIRK):\r\n",
    "    A = np.array([\r\n",
    "        [1/4, 0, 0, 0, 0],\r\n",
    "        [1/2, 1/4, 0, 0, 0],\r\n",
    "        [17/50, -1/25, 1/4, 0, 0],\r\n",
    "        [371/1360, -137/2720, 15/544, 1/4, 0],\r\n",
    "        [25/24, -49/48, 125/16, -85/12, 1/4]\r\n",
    "    ])\r\n",
    "    b = np.array([25/24, -49/48, 125/16, -85/12, 1/4])\r\n",
    "    c = np.array([1/4, 3/4, 11/20, 1/2, 1])"
   ],
   "outputs": [],
   "metadata": {}
  },
  {
   "cell_type": "markdown",
   "source": [
    "# Test scalar"
   ],
   "metadata": {}
  },
  {
   "cell_type": "code",
   "execution_count": 46,
   "source": [
    "# t0, te = 0, 1.\r\n",
    "# tol_newton = 1e-9\r\n",
    "# tol_sol = 1e-5\r\n",
    "# N = 20\r\n",
    "\r\n",
    "# y0 = np.array([1])\r\n",
    "# def f(t, y): return -5*y\r\n",
    "\r\n",
    "# scalar = Gauss(f, y0, t0, te, N, tol_newton)\r\n",
    "\r\n",
    "# scalar.solve()\r\n",
    "# S = scalar.solution\r\n",
    "# t = S[:, 0]\r\n",
    "# y = S[:, 1]\r\n",
    "# a = np.exp((-5*t))\r\n",
    "# error = np.abs(y-a)\r\n",
    "\r\n",
    "# plt.plot(t, error)\r\n",
    "# plt.show()"
   ],
   "outputs": [],
   "metadata": {}
  },
  {
   "cell_type": "markdown",
   "source": [
    "# Test system"
   ],
   "metadata": {}
  },
  {
   "cell_type": "code",
   "execution_count": 47,
   "source": [
    "# # np.vstack(y)\r\n",
    "# t0, te = 0, 1.\r\n",
    "# tol_newton = 1e-9\r\n",
    "# tol_sol = 1e-5\r\n",
    "# N = 500\r\n",
    "\r\n",
    "# y0 = np.array([2., 3.])\r\n",
    "# M = np.array([[0, 1], [-1, 0]])\r\n",
    "# def f(t,y): return np.dot(M, y)\r\n",
    "# system = SDIRK_tableau2s(f, y0, t0, te, N, tol_newton)\r\n",
    "\r\n",
    "\r\n",
    "# timegrid  = np.linspace(t0, te, N+2)\r\n",
    "# def exact_sol(timegrid):\r\n",
    "#     for t in timegrid:\r\n",
    "#         y1 = np.array([2*np.cos(t) + 3*np.sin(t)])\r\n",
    "#         y2 = np.array([-2*np.sin(t)+ 3*np.cos(t)])\r\n",
    "#         yield np.hstack((y1,y2))\r\n",
    "\r\n",
    "# system.solve()\r\n",
    "# S = system.solution\r\n",
    "# t = S[:, 0]\r\n",
    "# y = S[:, 1]\r\n",
    "# a = np.vstack(tuple(exact_sol(timegrid)))\r\n",
    "# error = np.linalg.norm(np.vstack(y)-a, axis=-1)\r\n",
    "# plt.plot(np.vstack(t), error)\r\n",
    "# plt.show()"
   ],
   "outputs": [],
   "metadata": {}
  },
  {
   "cell_type": "markdown",
   "source": [
    "# Test thesis"
   ],
   "metadata": {}
  },
  {
   "cell_type": "code",
   "execution_count": 48,
   "source": [
    "Mb = np.array([\r\n",
    "    [0., 0.],\r\n",
    "    [0., 0.5],\r\n",
    "    [0., 1.],\r\n",
    "    [0.5, 1.],\r\n",
    "    [1., 1.],\r\n",
    "    [1., 0.5],\r\n",
    "    [1., 0.],\r\n",
    "    [0.5, 0.]\r\n",
    "])\r\n",
    "\r\n",
    "poly_b = np.array([[-1, -1, 1], [1/2, 3/2, -1], [3/2, 1/8, -3/8]])\r\n",
    "x = np.array([0.16, .093])\r\n",
    "npnts = 1\r\n",
    "\r\n",
    "t0, te = 0, 1.\r\n",
    "tol_newton = 1e-9\r\n",
    "tol_sol = 1e-5\r\n",
    "N = 500\r\n",
    "\r\n",
    "uh = assembled_matrix(Mb, npnts, beta=2, c=1, poly_b=poly_b)"
   ],
   "outputs": [],
   "metadata": {}
  },
  {
   "cell_type": "code",
   "execution_count": 49,
   "source": [
    "# def Fm(uh, X0, ti=0):\r\n",
    "#     for xn in uh.Mi:\r\n",
    "#         uh.x = xn\r\n",
    "#         yield uh.F_m(X0)[0], uh.J(X0)[0]"
   ],
   "outputs": [],
   "metadata": {}
  },
  {
   "cell_type": "code",
   "execution_count": 50,
   "source": [
    "#(self, t0, te, N, tol, Mb, npnts, poly_b):"
   ],
   "outputs": [],
   "metadata": {}
  },
  {
   "cell_type": "code",
   "execution_count": 51,
   "source": [
    "# \r\n",
    "#(self, t0, te, N, tol, Mb, npnts, poly_b):\r\n",
    "\r\n",
    "system = SDIRK_tableau2s(t0=t0, te=te, N=N, tol=tol_newton, Mb=Mb, npnts=npnts, poly_b=poly_b, uh=uh)\r\n",
    "\r\n",
    "\r\n",
    "# timegrid  = np.linspace(t0, te, N+2)\r\n",
    "# def exact_sol(timegrid):\r\n",
    "#     for t in timegrid:\r\n",
    "#         y1 = np.array([2*np.cos(t) + 3*np.sin(t)])\r\n",
    "#         y2 = np.array([-2*np.sin(t)+ 3*np.cos(t)])\r\n",
    "#         yield np.hstack((y1,y2))\r\n",
    "\r\n",
    "system.solve()\r\n",
    "# S = system.solution\r\n",
    "# t = S[:, 0]\r\n",
    "# y = S[:, 1]\r\n",
    "# a = np.vstack(tuple(exact_sol(timegrid)))\r\n",
    "# error = np.linalg.norm(np.vstack(y)-a, axis=-1)\r\n",
    "# plt.plot(np.vstack(t), error)\r\n",
    "# plt.show()"
   ],
   "outputs": [
    {
     "output_type": "error",
     "ename": "ValueError",
     "evalue": "cannot reshape array of size 2 into shape (1,)",
     "traceback": [
      "\u001b[1;31m---------------------------------------------------------------------------\u001b[0m",
      "\u001b[1;31mValueError\u001b[0m                                Traceback (most recent call last)",
      "\u001b[1;32mC:\\Users\\JOHNYV~1\\AppData\\Local\\Temp/ipykernel_10940/2857749311.py\u001b[0m in \u001b[0;36m<module>\u001b[1;34m\u001b[0m\n\u001b[0;32m      2\u001b[0m \u001b[1;31m#(self, t0, te, N, tol, Mb, npnts, poly_b):\u001b[0m\u001b[1;33m\u001b[0m\u001b[1;33m\u001b[0m\u001b[1;33m\u001b[0m\u001b[0m\n\u001b[0;32m      3\u001b[0m \u001b[1;33m\u001b[0m\u001b[0m\n\u001b[1;32m----> 4\u001b[1;33m \u001b[0msystem\u001b[0m \u001b[1;33m=\u001b[0m \u001b[0mSDIRK_tableau2s\u001b[0m\u001b[1;33m(\u001b[0m\u001b[0mt0\u001b[0m\u001b[1;33m=\u001b[0m\u001b[0mt0\u001b[0m\u001b[1;33m,\u001b[0m \u001b[0mte\u001b[0m\u001b[1;33m=\u001b[0m\u001b[0mte\u001b[0m\u001b[1;33m,\u001b[0m \u001b[0mN\u001b[0m\u001b[1;33m=\u001b[0m\u001b[0mN\u001b[0m\u001b[1;33m,\u001b[0m \u001b[0mtol\u001b[0m\u001b[1;33m=\u001b[0m\u001b[0mtol_newton\u001b[0m\u001b[1;33m,\u001b[0m \u001b[0mMb\u001b[0m\u001b[1;33m=\u001b[0m\u001b[0mMb\u001b[0m\u001b[1;33m,\u001b[0m \u001b[0mnpnts\u001b[0m\u001b[1;33m=\u001b[0m\u001b[0mnpnts\u001b[0m\u001b[1;33m,\u001b[0m \u001b[0mpoly_b\u001b[0m\u001b[1;33m=\u001b[0m\u001b[0mpoly_b\u001b[0m\u001b[1;33m,\u001b[0m \u001b[0muh\u001b[0m\u001b[1;33m=\u001b[0m\u001b[0muh\u001b[0m\u001b[1;33m)\u001b[0m\u001b[1;33m\u001b[0m\u001b[1;33m\u001b[0m\u001b[0m\n\u001b[0m\u001b[0;32m      5\u001b[0m \u001b[1;33m\u001b[0m\u001b[0m\n\u001b[0;32m      6\u001b[0m \u001b[1;33m\u001b[0m\u001b[0m\n",
      "\u001b[1;32mC:\\Users\\JOHNYV~1\\AppData\\Local\\Temp/ipykernel_10940/1526787605.py\u001b[0m in \u001b[0;36m__init__\u001b[1;34m(self, t0, te, N, tol, Mb, npnts, poly_b, uh)\u001b[0m\n\u001b[0;32m     15\u001b[0m         \u001b[0mself\u001b[0m\u001b[1;33m.\u001b[0m\u001b[0my0\u001b[0m \u001b[1;33m=\u001b[0m \u001b[0mself\u001b[0m\u001b[1;33m.\u001b[0m\u001b[0muh\u001b[0m\u001b[1;33m.\u001b[0m\u001b[0mX_0\u001b[0m\u001b[1;33m(\u001b[0m\u001b[1;33m)\u001b[0m\u001b[1;33m\u001b[0m\u001b[1;33m\u001b[0m\u001b[0m\n\u001b[0;32m     16\u001b[0m         \u001b[0mself\u001b[0m\u001b[1;33m.\u001b[0m\u001b[0mdm\u001b[0m \u001b[1;33m=\u001b[0m \u001b[0mself\u001b[0m\u001b[1;33m.\u001b[0m\u001b[0my0\u001b[0m\u001b[1;33m.\u001b[0m\u001b[0mndim\u001b[0m\u001b[1;33m\u001b[0m\u001b[1;33m\u001b[0m\u001b[0m\n\u001b[1;32m---> 17\u001b[1;33m         \u001b[0mself\u001b[0m\u001b[1;33m.\u001b[0m\u001b[0my0\u001b[0m \u001b[1;33m=\u001b[0m \u001b[0mself\u001b[0m\u001b[1;33m.\u001b[0m\u001b[0my0\u001b[0m\u001b[1;33m.\u001b[0m\u001b[0mreshape\u001b[0m\u001b[1;33m(\u001b[0m\u001b[1;36m1\u001b[0m\u001b[1;33m,\u001b[0m\u001b[1;33m)\u001b[0m\u001b[1;33m\u001b[0m\u001b[1;33m\u001b[0m\u001b[0m\n\u001b[0m\u001b[0;32m     18\u001b[0m         \u001b[0mself\u001b[0m\u001b[1;33m.\u001b[0m\u001b[0mJ\u001b[0m \u001b[1;33m=\u001b[0m \u001b[0mself\u001b[0m\u001b[1;33m.\u001b[0m\u001b[0muh\u001b[0m\u001b[1;33m.\u001b[0m\u001b[0mJ\u001b[0m\u001b[1;33m(\u001b[0m\u001b[1;33m)\u001b[0m\u001b[1;33m\u001b[0m\u001b[1;33m\u001b[0m\u001b[0m\n\u001b[0;32m     19\u001b[0m \u001b[1;33m\u001b[0m\u001b[0m\n",
      "\u001b[1;31mValueError\u001b[0m: cannot reshape array of size 2 into shape (1,)"
     ]
    }
   ],
   "metadata": {}
  },
  {
   "cell_type": "code",
   "execution_count": 17,
   "source": [
    "assembled_matrix(Mb=Mb, npnts=npnts, beta=2, c=1, poly_b=poly_b).Mi"
   ],
   "outputs": [
    {
     "output_type": "execute_result",
     "data": {
      "text/plain": [
       "array([[0.5       , 0.33333333]])"
      ]
     },
     "metadata": {},
     "execution_count": 17
    }
   ],
   "metadata": {}
  },
  {
   "cell_type": "code",
   "execution_count": null,
   "source": [],
   "outputs": [],
   "metadata": {}
  }
 ],
 "metadata": {
  "orig_nbformat": 4,
  "language_info": {
   "name": "python",
   "version": "3.7.6",
   "mimetype": "text/x-python",
   "codemirror_mode": {
    "name": "ipython",
    "version": 3
   },
   "pygments_lexer": "ipython3",
   "nbconvert_exporter": "python",
   "file_extension": ".py"
  },
  "kernelspec": {
   "name": "python3",
   "display_name": "Python 3.7.6 64-bit ('.env': virtualenv)"
  },
  "interpreter": {
   "hash": "d77697815d4265ed8aea6c9072aebcc1fd7d3b7c82495dbb54be4f3932164dd9"
  }
 },
 "nbformat": 4,
 "nbformat_minor": 2
}
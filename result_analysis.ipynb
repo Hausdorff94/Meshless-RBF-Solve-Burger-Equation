{
 "cells": [
  {
   "cell_type": "code",
   "execution_count": 1,
   "metadata": {},
   "outputs": [],
   "source": [
    "import pandas as pd\n",
    "import json\n",
    "from analytical_solution import *\n",
    "from halton_points import *\n",
    "from expressions import * \n",
    "\n",
    "import numpy as np\n",
    "from scipy.interpolate import griddata\n",
    "\n",
    "import matplotlib.pyplot as plt\n",
    "from mpl_toolkits.mplot3d.axes3d import *\n",
    "\n",
    "from mpl_toolkits.axes_grid1 import make_axes_locatable\n",
    "\n",
    "import plotly.graph_objects as go"
   ]
  },
  {
   "cell_type": "code",
   "execution_count": 2,
   "metadata": {},
   "outputs": [],
   "source": [
    "with open('solutionTPS.json', 'r') as f:\n",
    "    dataTPS = json.load(f)\n",
    "\n",
    "with open('solutionMQ.json', 'r') as f:\n",
    "    dataMQ = json.load(f)\n",
    "    \n",
    "with open('solutionTPS_arb_pol.json', 'r') as f:\n",
    "    dataTPSarb = json.load(f)"
   ]
  },
  {
   "cell_type": "code",
   "execution_count": 3,
   "metadata": {},
   "outputs": [],
   "source": [
    "def extract_param(data, t):\n",
    "    nu = data['nu']\n",
    "    RBF = data['RBF']\n",
    "    Mi = np.array(data['points']['Interior'])\n",
    "    Mb = np.array(data['points']['boundary'])\n",
    "    t = t\n",
    "    uh = np.array(data['solution'][str(t)])\n",
    "\n",
    "    sol_exact = exact_solution(Mi, nu)\n",
    "    ue = sol_exact.u(t)\n",
    "\n",
    "    error = abs(uh-ue)/ue\n",
    "\n",
    "    return nu, RBF, Mi, Mb, t, uh, ue, error"
   ]
  },
  {
   "cell_type": "code",
   "execution_count": 4,
   "metadata": {},
   "outputs": [],
   "source": [
    "#nf = (2**2+1)**2\n",
    "#r = HaltonPoints(2, nf).haltonPoints()\n",
    "##fxl = r.copy()\n",
    "#fxl[:, 0] = 0\n",
    "#fxr = r.copy()\n",
    "#fxr[:, 0] = 1\n",
    "#fyu = r.copy()\n",
    "#fyu[:, 1] = 0\n",
    "#fyd = r.copy()\n",
    "#fyd[:, 1] = 1\n",
    "#Mb = np.vstack((fxl, fxr, fyu, fyd))\n",
    "\n",
    "#Mi = HaltonPoints(2, 81).haltonPoints()\n",
    "#domain = create_domain(Mi, radius=0.15, c_y=0.5, c_x=0.5)\n",
    "\n",
    "#Mi, new_boundary = domain.setup(domain='circle_centre', bound_points=40)\n",
    "#Mb = np.vstack((Mb, new_boundary))\n",
    "\n",
    "#X = np.vstack((Mi, Mb))\n",
    "\n",
    "#sol_exact = exact_solution(Mi, 0.01)\n",
    "#ue = sol_exact.u(0.45)\n",
    "#ue = np.vstack((ue, np.zeros(Mb.shape)))\n",
    "\n",
    "#x = np.vstack((X, new_boundary))[:,0]\n",
    "#y = np.vstack((X, new_boundary))[:, 1]\n",
    "#z = ue[:, 0]"
   ]
  },
  {
   "cell_type": "code",
   "execution_count": 5,
   "metadata": {},
   "outputs": [],
   "source": [
    "#domain = create_domain(Mi, radius=0.15, c_y=0.5, c_x=0.5)\n",
    "nu, RBF, Mi, Mb, t, uh, ue, error = extract_param(dataMQ, 0.05)\n",
    "X = Mi.copy()"
   ]
  },
  {
   "cell_type": "code",
   "execution_count": 8,
   "metadata": {},
   "outputs": [
    {
     "data": {
      "image/png": "[encoded data removed]",
      "text/plain": [
       "<Figure size 720x720 with 2 Axes>"
      ]
     },
     "metadata": {
      "needs_background": "light"
     },
     "output_type": "display_data"
    }
   ],
   "source": [
    "# data coordinates and values\n",
    "x = X[:,0]\n",
    "y = X[:,1]\n",
    "z = uh[:, 0]\n",
    "\n",
    "# target grid to interpolate to\n",
    "xi = yi = np.arange(0, 1, 1/(X.shape[0]))\n",
    "xi,yi = np.meshgrid(xi,yi)\n",
    "\n",
    "# set mask\n",
    "#mask = np.sqrt((xi - domain.c_x)**2 + (yi - domain.c_y)**2) < domain.radius\n",
    "\n",
    "# interpolate\n",
    "zi = griddata((x,y),z,(xi,yi), method='cubic')\n",
    "\n",
    "# mask out the field\n",
    "#zi[mask] = np.nan\n",
    "\n",
    "# plot\n",
    "fig = plt.figure(figsize=(10,10))\n",
    "ax = fig.add_subplot(111)\n",
    "im = plt.contourf(xi,yi,zi)\n",
    "plt.plot(x,y,'k.')\n",
    "plt.xlabel('$x$')\n",
    "plt.ylabel('$y$')\n",
    "divider = make_axes_locatable(ax)\n",
    "cax = divider.append_axes(\"right\", size=\"5%\", pad=0.05)\n",
    "\n",
    "plt.colorbar(im, cax=cax)\n",
    "#plt.savefig('interpolated.png',dpi=100)\n",
    "plt.show()"
   ]
  },
  {
   "cell_type": "code",
   "execution_count": 9,
   "metadata": {},
   "outputs": [
    {
     "data": {
      "application/vnd.plotly.v1+json": {
       "config": {
        "plotlyServerURL": "https://plot.ly"
       },
       "data": [
        {
         "colorscale": [
          [
           0,
           "#440154"
          ],
          [
           0.1111111111111111,
           "#482878"
          ],
          [
           0.2222222222222222,
           "#3e4989"
          ],
          [
           0.3333333333333333,
           "#31688e"
          ],
          [
           0.4444444444444444,
           "#26828e"
          ],
          [
           0.5555555555555556,
           "#1f9e89"
          ],
          [
           0.6666666666666666,
           "#35b779"
          ],
          [
           0.7777777777777778,
           "#6ece58"
          ],
          [
           0.8888888888888888,
           "#b5de2b"
          ],
          [
           1,
           "#fde725"
          ]
         ],
         "contours": {
          "z": {
           "highlightcolor": "limegreen",
           "project": {
            "z": true
           },
           "show": true,
           "usecolormap": true
          }
         },
         "type": "surface",
         "x": [
          [
           0,
           0.04,
           0.08,
           0.12,
           0.16,
           0.2,
           0.24,
           0.28,
           0.32,
           0.36,
           0.4,
           0.44,
           0.48,
           0.52,
           0.56,
           0.6,
           0.64,
           0.68,
           0.72,
           0.76,
           0.8,
           0.84,
           0.88,
           0.92,
           0.96
          ],
          [
           0,
           0.04,
           0.08,
           0.12,
           0.16,
           0.2,
           0.24,
           0.28,
           0.32,
           0.36,
           0.4,
           0.44,
           0.48,
           0.52,
           0.56,
           0.6,
           0.64,
           0.68,
           0.72,
           0.76,
           0.8,
           0.84,
           0.88,
           0.92,
           0.96
          ],
          [
           0,
           0.04,
           0.08,
           0.12,
           0.16,
           0.2,
           0.24,
           0.28,
           0.32,
           0.36,
           0.4,
           0.44,
           0.48,
           0.52,
           0.56,
           0.6,
           0.64,
           0.68,
           0.72,
           0.76,
           0.8,
           0.84,
           0.88,
           0.92,
           0.96
          ],
          [
           0,
           0.04,
           0.08,
           0.12,
           0.16,
           0.2,
           0.24,
           0.28,
           0.32,
           0.36,
           0.4,
           0.44,
           0.48,
           0.52,
           0.56,
           0.6,
           0.64,
           0.68,
           0.72,
           0.76,
           0.8,
           0.84,
           0.88,
           0.92,
           0.96
          ],
          [
           0,
           0.04,
           0.08,
           0.12,
           0.16,
           0.2,
           0.24,
           0.28,
           0.32,
           0.36,
           0.4,
           0.44,
           0.48,
           0.52,
           0.56,
           0.6,
           0.64,
           0.68,
           0.72,
           0.76,
           0.8,
           0.84,
           0.88,
           0.92,
           0.96
          ],
          [
           0,
           0.04,
           0.08,
           0.12,
           0.16,
           0.2,
           0.24,
           0.28,
           0.32,
           0.36,
           0.4,
           0.44,
           0.48,
           0.52,
           0.56,
           0.6,
           0.64,
           0.68,
           0.72,
           0.76,
           0.8,
           0.84,
           0.88,
           0.92,
           0.96
          ],
          [
           0,
           0.04,
           0.08,
           0.12,
           0.16,
           0.2,
           0.24,
           0.28,
           0.32,
           0.36,
           0.4,
           0.44,
           0.48,
           0.52,
           0.56,
           0.6,
           0.64,
           0.68,
           0.72,
           0.76,
           0.8,
           0.84,
           0.88,
           0.92,
           0.96
          ],
          [
           0,
           0.04,
           0.08,
           0.12,
           0.16,
           0.2,
           0.24,
           0.28,
           0.32,
           0.36,
           0.4,
           0.44,
           0.48,
           0.52,
           0.56,
           0.6,
           0.64,
           0.68,
           0.72,
           0.76,
           0.8,
           0.84,
           0.88,
           0.92,
           0.96
          ],
          [
           0,
           0.04,
           0.08,
           0.12,
           0.16,
           0.2,
           0.24,
           0.28,
           0.32,
           0.36,
           0.4,
           0.44,
           0.48,
           0.52,
           0.56,
           0.6,
           0.64,
           0.68,
           0.72,
           0.76,
           0.8,
           0.84,
           0.88,
           0.92,
           0.96
          ],
          [
           0,
           0.04,
           0.08,
           0.12,
           0.16,
           0.2,
           0.24,
           0.28,
           0.32,
           0.36,
           0.4,
           0.44,
           0.48,
           0.52,
           0.56,
           0.6,
           0.64,
           0.68,
           0.72,
           0.76,
           0.8,
           0.84,
           0.88,
           0.92,
           0.96
          ],
          [
           0,
           0.04,
           0.08,
           0.12,
           0.16,
           0.2,
           0.24,
           0.28,
           0.32,
           0.36,
           0.4,
           0.44,
           0.48,
           0.52,
           0.56,
           0.6,
           0.64,
           0.68,
           0.72,
           0.76,
           0.8,
           0.84,
           0.88,
           0.92,
           0.96
          ],
          [
           0,
           0.04,
           0.08,
           0.12,
           0.16,
           0.2,
           0.24,
           0.28,
           0.32,
           0.36,
           0.4,
           0.44,
           0.48,
           0.52,
           0.56,
           0.6,
           0.64,
           0.68,
           0.72,
           0.76,
           0.8,
           0.84,
           0.88,
           0.92,
           0.96
          ],
          [
           0,
           0.04,
           0.08,
           0.12,
           0.16,
           0.2,
           0.24,
           0.28,
           0.32,
           0.36,
           0.4,
           0.44,
           0.48,
           0.52,
           0.56,
           0.6,
           0.64,
           0.68,
           0.72,
           0.76,
           0.8,
           0.84,
           0.88,
           0.92,
           0.96
          ],
          [
           0,
           0.04,
           0.08,
           0.12,
           0.16,
           0.2,
           0.24,
           0.28,
           0.32,
           0.36,
           0.4,
           0.44,
           0.48,
           0.52,
           0.56,
           0.6,
           0.64,
           0.68,
           0.72,
           0.76,
           0.8,
           0.84,
           0.88,
           0.92,
           0.96
          ],
          [
           0,
           0.04,
           0.08,
           0.12,
           0.16,
           0.2,
           0.24,
           0.28,
           0.32,
           0.36,
           0.4,
           0.44,
           0.48,
           0.52,
           0.56,
           0.6,
           0.64,
           0.68,
           0.72,
           0.76,
           0.8,
           0.84,
           0.88,
           0.92,
           0.96
          ],
          [
           0,
           0.04,
           0.08,
           0.12,
           0.16,
           0.2,
           0.24,
           0.28,
           0.32,
           0.36,
           0.4,
           0.44,
           0.48,
           0.52,
           0.56,
           0.6,
           0.64,
           0.68,
           0.72,
           0.76,
           0.8,
           0.84,
           0.88,
           0.92,
           0.96
          ],
          [
           0,
           0.04,
           0.08,
           0.12,
           0.16,
           0.2,
           0.24,
           0.28,
           0.32,
           0.36,
           0.4,
           0.44,
           0.48,
           0.52,
           0.56,
           0.6,
           0.64,
           0.68,
           0.72,
           0.76,
           0.8,
           0.84,
           0.88,
           0.92,
           0.96
          ],
          [
           0,
           0.04,
           0.08,
           0.12,
           0.16,
           0.2,
           0.24,
           0.28,
           0.32,
           0.36,
           0.4,
           0.44,
           0.48,
           0.52,
           0.56,
           0.6,
           0.64,
           0.68,
           0.72,
           0.76,
           0.8,
           0.84,
           0.88,
           0.92,
           0.96
          ],
          [
           0,
           0.04,
           0.08,
           0.12,
           0.16,
           0.2,
           0.24,
           0.28,
           0.32,
           0.36,
           0.4,
           0.44,
           0.48,
           0.52,
           0.56,
           0.6,
           0.64,
           0.68,
           0.72,
           0.76,
           0.8,
           0.84,
           0.88,
           0.92,
           0.96
          ],
          [
           0,
           0.04,
           0.08,
           0.12,
           0.16,
           0.2,
           0.24,
           0.28,
           0.32,
           0.36,
           0.4,
           0.44,
           0.48,
           0.52,
           0.56,
           0.6,
           0.64,
           0.68,
           0.72,
           0.76,
           0.8,
           0.84,
           0.88,
           0.92,
           0.96
          ],
          [
           0,
           0.04,
           0.08,
           0.12,
           0.16,
           0.2,
           0.24,
           0.28,
           0.32,
           0.36,
           0.4,
           0.44,
           0.48,
           0.52,
           0.56,
           0.6,
           0.64,
           0.68,
           0.72,
           0.76,
           0.8,
           0.84,
           0.88,
           0.92,
           0.96
          ],
          [
           0,
           0.04,
           0.08,
           0.12,
           0.16,
           0.2,
           0.24,
           0.28,
           0.32,
           0.36,
           0.4,
           0.44,
           0.48,
           0.52,
           0.56,
           0.6,
           0.64,
           0.68,
           0.72,
           0.76,
           0.8,
           0.84,
           0.88,
           0.92,
           0.96
          ],
          [
           0,
           0.04,
           0.08,
           0.12,
           0.16,
           0.2,
           0.24,
           0.28,
           0.32,
           0.36,
           0.4,
           0.44,
           0.48,
           0.52,
           0.56,
           0.6,
           0.64,
           0.68,
           0.72,
           0.76,
           0.8,
           0.84,
           0.88,
           0.92,
           0.96
          ],
          [
           0,
           0.04,
           0.08,
           0.12,
           0.16,
           0.2,
           0.24,
           0.28,
           0.32,
           0.36,
           0.4,
           0.44,
           0.48,
           0.52,
           0.56,
           0.6,
           0.64,
           0.68,
           0.72,
           0.76,
           0.8,
           0.84,
           0.88,
           0.92,
           0.96
          ],
          [
           0,
           0.04,
           0.08,
           0.12,
           0.16,
           0.2,
           0.24,
           0.28,
           0.32,
           0.36,
           0.4,
           0.44,
           0.48,
           0.52,
           0.56,
           0.6,
           0.64,
           0.68,
           0.72,
           0.76,
           0.8,
           0.84,
           0.88,
           0.92,
           0.96
          ]
         ],
         "y": [
          [
           0,
           0,
           0,
           0,
           0,
           0,
           0,
           0,
           0,
           0,
           0,
           0,
           0,
           0,
           0,
           0,
           0,
           0,
           0,
           0,
           0,
           0,
           0,
           0,
           0
          ],
          [
           0.04,
           0.04,
           0.04,
           0.04,
           0.04,
           0.04,
           0.04,
           0.04,
           0.04,
           0.04,
           0.04,
           0.04,
           0.04,
           0.04,
           0.04,
           0.04,
           0.04,
           0.04,
           0.04,
           0.04,
           0.04,
           0.04,
           0.04,
           0.04,
           0.04
          ],
          [
           0.08,
           0.08,
           0.08,
           0.08,
           0.08,
           0.08,
           0.08,
           0.08,
           0.08,
           0.08,
           0.08,
           0.08,
           0.08,
           0.08,
           0.08,
           0.08,
           0.08,
           0.08,
           0.08,
           0.08,
           0.08,
           0.08,
           0.08,
           0.08,
           0.08
          ],
          [
           0.12,
           0.12,
           0.12,
           0.12,
           0.12,
           0.12,
           0.12,
           0.12,
           0.12,
           0.12,
           0.12,
           0.12,
           0.12,
           0.12,
           0.12,
           0.12,
           0.12,
           0.12,
           0.12,
           0.12,
           0.12,
           0.12,
           0.12,
           0.12,
           0.12
          ],
          [
           0.16,
           0.16,
           0.16,
           0.16,
           0.16,
           0.16,
           0.16,
           0.16,
           0.16,
           0.16,
           0.16,
           0.16,
           0.16,
           0.16,
           0.16,
           0.16,
           0.16,
           0.16,
           0.16,
           0.16,
           0.16,
           0.16,
           0.16,
           0.16,
           0.16
          ],
          [
           0.2,
           0.2,
           0.2,
           0.2,
           0.2,
           0.2,
           0.2,
           0.2,
           0.2,
           0.2,
           0.2,
           0.2,
           0.2,
           0.2,
           0.2,
           0.2,
           0.2,
           0.2,
           0.2,
           0.2,
           0.2,
           0.2,
           0.2,
           0.2,
           0.2
          ],
          [
           0.24,
           0.24,
           0.24,
           0.24,
           0.24,
           0.24,
           0.24,
           0.24,
           0.24,
           0.24,
           0.24,
           0.24,
           0.24,
           0.24,
           0.24,
           0.24,
           0.24,
           0.24,
           0.24,
           0.24,
           0.24,
           0.24,
           0.24,
           0.24,
           0.24
          ],
          [
           0.28,
           0.28,
           0.28,
           0.28,
           0.28,
           0.28,
           0.28,
           0.28,
           0.28,
           0.28,
           0.28,
           0.28,
           0.28,
           0.28,
           0.28,
           0.28,
           0.28,
           0.28,
           0.28,
           0.28,
           0.28,
           0.28,
           0.28,
           0.28,
           0.28
          ],
          [
           0.32,
           0.32,
           0.32,
           0.32,
           0.32,
           0.32,
           0.32,
           0.32,
           0.32,
           0.32,
           0.32,
           0.32,
           0.32,
           0.32,
           0.32,
           0.32,
           0.32,
           0.32,
           0.32,
           0.32,
           0.32,
           0.32,
           0.32,
           0.32,
           0.32
          ],
          [
           0.36,
           0.36,
           0.36,
           0.36,
           0.36,
           0.36,
           0.36,
           0.36,
           0.36,
           0.36,
           0.36,
           0.36,
           0.36,
           0.36,
           0.36,
           0.36,
           0.36,
           0.36,
           0.36,
           0.36,
           0.36,
           0.36,
           0.36,
           0.36,
           0.36
          ],
          [
           0.4,
           0.4,
           0.4,
           0.4,
           0.4,
           0.4,
           0.4,
           0.4,
           0.4,
           0.4,
           0.4,
           0.4,
           0.4,
           0.4,
           0.4,
           0.4,
           0.4,
           0.4,
           0.4,
           0.4,
           0.4,
           0.4,
           0.4,
           0.4,
           0.4
          ],
          [
           0.44,
           0.44,
           0.44,
           0.44,
           0.44,
           0.44,
           0.44,
           0.44,
           0.44,
           0.44,
           0.44,
           0.44,
           0.44,
           0.44,
           0.44,
           0.44,
           0.44,
           0.44,
           0.44,
           0.44,
           0.44,
           0.44,
           0.44,
           0.44,
           0.44
          ],
          [
           0.48,
           0.48,
           0.48,
           0.48,
           0.48,
           0.48,
           0.48,
           0.48,
           0.48,
           0.48,
           0.48,
           0.48,
           0.48,
           0.48,
           0.48,
           0.48,
           0.48,
           0.48,
           0.48,
           0.48,
           0.48,
           0.48,
           0.48,
           0.48,
           0.48
          ],
          [
           0.52,
           0.52,
           0.52,
           0.52,
           0.52,
           0.52,
           0.52,
           0.52,
           0.52,
           0.52,
           0.52,
           0.52,
           0.52,
           0.52,
           0.52,
           0.52,
           0.52,
           0.52,
           0.52,
           0.52,
           0.52,
           0.52,
           0.52,
           0.52,
           0.52
          ],
          [
           0.56,
           0.56,
           0.56,
           0.56,
           0.56,
           0.56,
           0.56,
           0.56,
           0.56,
           0.56,
           0.56,
           0.56,
           0.56,
           0.56,
           0.56,
           0.56,
           0.56,
           0.56,
           0.56,
           0.56,
           0.56,
           0.56,
           0.56,
           0.56,
           0.56
          ],
          [
           0.6,
           0.6,
           0.6,
           0.6,
           0.6,
           0.6,
           0.6,
           0.6,
           0.6,
           0.6,
           0.6,
           0.6,
           0.6,
           0.6,
           0.6,
           0.6,
           0.6,
           0.6,
           0.6,
           0.6,
           0.6,
           0.6,
           0.6,
           0.6,
           0.6
          ],
          [
           0.64,
           0.64,
           0.64,
           0.64,
           0.64,
           0.64,
           0.64,
           0.64,
           0.64,
           0.64,
           0.64,
           0.64,
           0.64,
           0.64,
           0.64,
           0.64,
           0.64,
           0.64,
           0.64,
           0.64,
           0.64,
           0.64,
           0.64,
           0.64,
           0.64
          ],
          [
           0.68,
           0.68,
           0.68,
           0.68,
           0.68,
           0.68,
           0.68,
           0.68,
           0.68,
           0.68,
           0.68,
           0.68,
           0.68,
           0.68,
           0.68,
           0.68,
           0.68,
           0.68,
           0.68,
           0.68,
           0.68,
           0.68,
           0.68,
           0.68,
           0.68
          ],
          [
           0.72,
           0.72,
           0.72,
           0.72,
           0.72,
           0.72,
           0.72,
           0.72,
           0.72,
           0.72,
           0.72,
           0.72,
           0.72,
           0.72,
           0.72,
           0.72,
           0.72,
           0.72,
           0.72,
           0.72,
           0.72,
           0.72,
           0.72,
           0.72,
           0.72
          ],
          [
           0.76,
           0.76,
           0.76,
           0.76,
           0.76,
           0.76,
           0.76,
           0.76,
           0.76,
           0.76,
           0.76,
           0.76,
           0.76,
           0.76,
           0.76,
           0.76,
           0.76,
           0.76,
           0.76,
           0.76,
           0.76,
           0.76,
           0.76,
           0.76,
           0.76
          ],
          [
           0.8,
           0.8,
           0.8,
           0.8,
           0.8,
           0.8,
           0.8,
           0.8,
           0.8,
           0.8,
           0.8,
           0.8,
           0.8,
           0.8,
           0.8,
           0.8,
           0.8,
           0.8,
           0.8,
           0.8,
           0.8,
           0.8,
           0.8,
           0.8,
           0.8
          ],
          [
           0.84,
           0.84,
           0.84,
           0.84,
           0.84,
           0.84,
           0.84,
           0.84,
           0.84,
           0.84,
           0.84,
           0.84,
           0.84,
           0.84,
           0.84,
           0.84,
           0.84,
           0.84,
           0.84,
           0.84,
           0.84,
           0.84,
           0.84,
           0.84,
           0.84
          ],
          [
           0.88,
           0.88,
           0.88,
           0.88,
           0.88,
           0.88,
           0.88,
           0.88,
           0.88,
           0.88,
           0.88,
           0.88,
           0.88,
           0.88,
           0.88,
           0.88,
           0.88,
           0.88,
           0.88,
           0.88,
           0.88,
           0.88,
           0.88,
           0.88,
           0.88
          ],
          [
           0.92,
           0.92,
           0.92,
           0.92,
           0.92,
           0.92,
           0.92,
           0.92,
           0.92,
           0.92,
           0.92,
           0.92,
           0.92,
           0.92,
           0.92,
           0.92,
           0.92,
           0.92,
           0.92,
           0.92,
           0.92,
           0.92,
           0.92,
           0.92,
           0.92
          ],
          [
           0.96,
           0.96,
           0.96,
           0.96,
           0.96,
           0.96,
           0.96,
           0.96,
           0.96,
           0.96,
           0.96,
           0.96,
           0.96,
           0.96,
           0.96,
           0.96,
           0.96,
           0.96,
           0.96,
           0.96,
           0.96,
           0.96,
           0.96,
           0.96,
           0.96
          ]
         ],
         "z": [
          [
           null,
           null,
           null,
           null,
           null,
           null,
           null,
           null,
           null,
           null,
           null,
           null,
           null,
           null,
           null,
           null,
           null,
           null,
           null,
           null,
           null,
           null,
           null,
           null,
           null
          ],
          [
           null,
           null,
           null,
           null,
           null,
           null,
           null,
           null,
           null,
           null,
           null,
           null,
           null,
           null,
           0.6113766858106481,
           null,
           null,
           null,
           null,
           null,
           null,
           null,
           null,
           null,
           null
          ],
          [
           null,
           null,
           null,
           null,
           null,
           null,
           null,
           0.6188392030967019,
           0.6170967678870296,
           0.615654629336145,
           0.6143550887443986,
           0.6130467810479843,
           0.6115783745157995,
           0.6097882728982688,
           0.6075285955896742,
           0.6053639459281168,
           0.6037876843631466,
           null,
           null,
           null,
           null,
           null,
           null,
           null,
           null
          ],
          [
           null,
           null,
           null,
           null,
           null,
           null,
           0.6212754118747041,
           0.6190224250032663,
           0.6167655652979004,
           0.6147897329853013,
           0.6130306178301133,
           0.6112639729374663,
           0.6092620246699016,
           0.606801353663325,
           0.6041045478743927,
           0.6016103387582792,
           0.5995886072888339,
           0.5981848707936743,
           0.5970757618577596,
           0.5962276660652461,
           null,
           null,
           null,
           null,
           null
          ],
          [
           null,
           null,
           null,
           null,
           null,
           0.6242476457508265,
           0.6218967361860558,
           0.619434178694207,
           0.6169331589741145,
           0.614470356776406,
           0.6122762236746411,
           0.610014548733356,
           0.6073181880079869,
           0.6043455089885037,
           0.6014413161828298,
           0.5987547001074296,
           0.5964122208811378,
           0.594706659158163,
           0.5935478562263359,
           0.5927780209724143,
           0.5921875772800232,
           null,
           null,
           null,
           null
          ],
          [
           null,
           null,
           null,
           null,
           0.6271218571200451,
           0.6253517253106645,
           0.6230487584862837,
           0.6203799387167129,
           0.6176287754060369,
           0.6148992186561065,
           0.6122624526964435,
           0.60930555248587,
           0.6061636644860183,
           0.6030089568832898,
           0.5999642452227796,
           0.5971682497570724,
           0.5947201054976903,
           0.5926450648554186,
           0.5911953536588684,
           0.5902046300958337,
           0.5896079076893248,
           0.5892018740499333,
           null,
           null,
           null
          ],
          [
           null,
           null,
           null,
           null,
           0.6282953556675906,
           0.6267164440647915,
           0.6246524929656561,
           0.6220137284541425,
           0.6191067578402115,
           0.6161681565765228,
           0.6132818273049621,
           0.6102030235321488,
           0.6069413033574291,
           0.6036780032069995,
           0.6005273302761787,
           0.5975164079689252,
           0.5945849214987696,
           0.5919317640425479,
           0.5902272845138264,
           0.5892542896918529,
           0.5885973992175683,
           0.588075092895998,
           0.5875418764954918,
           null,
           null
          ],
          [
           null,
           null,
           null,
           0.6307042286754045,
           0.6297670816952134,
           0.6283624504428129,
           0.6264931419764809,
           0.6241116970375187,
           0.6211934890195945,
           0.6182204378096634,
           0.6152916026150288,
           0.6122742526337954,
           0.6090625105738999,
           0.6056651588794779,
           0.6023128166316511,
           0.5989583300936218,
           0.59562540275842,
           0.5925525905262597,
           0.5902657670583527,
           0.5889178789106886,
           0.5881932198602631,
           0.5877955536780912,
           0.5875681993695685,
           0.5873870626244222,
           null
          ],
          [
           null,
           null,
           null,
           0.6324540341958896,
           0.6315698289165851,
           0.6303172138081451,
           0.6286182273082945,
           0.6264721392322565,
           0.6237622521590496,
           0.6209144915928995,
           0.6180277988808206,
           0.6149449624339935,
           0.6117018581550413,
           0.6083104760897025,
           0.604782066065828,
           0.6011911424738449,
           0.5976676667697329,
           0.594342746535642,
           0.5915347137652117,
           0.589640145012501,
           0.5885615894853555,
           0.5880874134787969,
           0.5881111863677881,
           0.5889576974225531,
           null
          ],
          [
           null,
           null,
           null,
           0.6347491578267761,
           0.6341013273804521,
           0.632797772238799,
           0.6311170923924239,
           0.6290832569677118,
           0.6266637493488023,
           0.6239917052025643,
           0.6210827174527288,
           0.6179791516751704,
           0.6147139305553649,
           0.6113788698467133,
           0.60783898801675,
           0.6040907526449515,
           0.6004864960547541,
           0.5970633526778479,
           0.5939410774427819,
           0.5914525596983236,
           0.5899077835773919,
           0.5892809434245432,
           0.590120154540722,
           0.5905880652567275,
           null
          ],
          [
           null,
           null,
           0.6346416097937562,
           0.6369558585541745,
           0.6366164635318986,
           0.6355609476337225,
           0.6340383990631796,
           0.6320688360937542,
           0.6296964173483481,
           0.6270433818914349,
           0.6241552591128552,
           0.6210658329911161,
           0.6178311603313219,
           0.6145940467168438,
           0.611336612360571,
           0.607965834619344,
           0.604178151601557,
           0.6004620775685074,
           0.5971210814029166,
           0.5943075675343138,
           0.5922337502015036,
           0.5917966779012542,
           0.5930563816391915,
           0.5922278559266134,
           null
          ],
          [
           null,
           null,
           0.6360568760237542,
           0.638833678812163,
           0.6387922309007343,
           0.6381112398840353,
           0.6368582795126876,
           0.6350740233730647,
           0.6328141969098253,
           0.6301966979226743,
           0.6273242180952403,
           0.6242454422258544,
           0.621078022754672,
           0.6179231136777542,
           0.6147459997386078,
           0.611523207835507,
           0.6082375091133673,
           0.6046503272312838,
           0.6011563984181908,
           0.598034267700473,
           0.5955879634102189,
           0.5949859907815116,
           0.5959943037281228,
           0.593922947666835,
           null
          ],
          [
           null,
           null,
           0.6375192074927083,
           0.6403846417393881,
           0.6408916901205455,
           0.6404000266701279,
           0.6394118081976402,
           0.6379564412360454,
           0.6359529544654948,
           0.6334369380107353,
           0.6305810239419016,
           0.6275216081207163,
           0.624444372809134,
           0.6213527437483336,
           0.6182299662817446,
           0.6150675284118704,
           0.611856918141213,
           0.6085896234722754,
           0.6053341583143952,
           0.6023203517329814,
           0.599663003369445,
           0.5983931323773423,
           0.5988605811206087,
           0.5957884233675086,
           null
          ],
          [
           null,
           null,
           0.6387571179322662,
           0.6420603080864233,
           0.64345814020944,
           0.643303813550309,
           0.6423954533199039,
           0.6409504148332967,
           0.6390349841951306,
           0.6366798159400792,
           0.6339154941459029,
           0.6308921533845584,
           0.6278379632305806,
           0.6247494468600022,
           0.6216204130036956,
           0.6184446703925339,
           0.6152401477855839,
           0.612087415816987,
           0.6089370091563906,
           0.6061916232045231,
           0.6039795412151281,
           0.6020783345693105,
           0.6016419870134923,
           0.5978475295810413,
           null
          ],
          [
           null,
           0.634654947976684,
           0.639994141828768,
           0.6438059654665849,
           0.6460244136237923,
           0.6464947026253113,
           0.6458719238707535,
           0.6446096354857859,
           0.642767482737876,
           0.6403475979078009,
           0.6372681278074092,
           0.6341122364505746,
           0.6308813514125474,
           0.6276975956298987,
           0.6245515297079511,
           0.6214194783211717,
           0.6183305838822755,
           0.6153023415830648,
           0.6122769196446327,
           0.6093047497380537,
           0.6069964416635231,
           0.6053618619084025,
           0.6043453779632403,
           0.6000930736755928,
           null
          ],
          [
           null,
           0.636211655028401,
           0.6414626683184055,
           0.6456070008250459,
           0.6484312802714032,
           0.6497144766858074,
           0.6494156878405265,
           0.6483403630424132,
           0.6465347961065202,
           0.6438964228350091,
           0.640483987810801,
           0.6373405378150107,
           0.6340008925961576,
           0.6306929440488325,
           0.6274675707257851,
           0.6243484340287024,
           0.621308991143353,
           0.6183150861095505,
           0.6153523367695913,
           0.6123318865279521,
           0.6097243581972498,
           0.6079292259443078,
           0.6069373507230046,
           null,
           null
          ],
          [
           null,
           0.63780585342378,
           0.6443798940839958,
           0.6481773546130258,
           0.6508687239939269,
           0.6526098275405593,
           0.6528745629288722,
           0.6519567095871556,
           0.6500564502451336,
           0.6471518578932584,
           0.6435283172279737,
           0.640377011514964,
           0.6370657704125309,
           0.6337327039561436,
           0.6304748286709114,
           0.6273387382703285,
           0.6242382018234678,
           0.6211985183080296,
           0.6182100670578146,
           0.6152635301739258,
           0.612396741722659,
           0.6103578748502276,
           0.6093548903440562,
           null,
           null
          ],
          [
           null,
           null,
           0.6465825544889586,
           0.6519797197981092,
           0.6546065034365698,
           0.6559358219562884,
           0.6561078243592257,
           0.6551709266531272,
           0.6531745001535283,
           0.6501350462174786,
           0.646349301978438,
           0.6431471175630181,
           0.639907034809164,
           0.6366107521289976,
           0.6333556320018859,
           0.6304232285719673,
           0.6273627154194255,
           0.6241218812827142,
           0.6209781542620316,
           0.6179749838872497,
           0.6150526176249873,
           0.6126948626744936,
           0.6116050003338759,
           null,
           null
          ],
          [
           null,
           null,
           0.6477630392961615,
           0.6540247001576514,
           0.6572745591929475,
           0.6585612526498072,
           0.6585527281066663,
           0.6574038194571631,
           0.6554307781821065,
           0.6526377818305216,
           0.6488951279817043,
           0.6455952921711774,
           0.6424263216620414,
           0.6391742500909804,
           0.6362104467109566,
           0.6334130515248118,
           0.630500900803337,
           0.627284419275555,
           0.6240312439149263,
           0.6208203449622036,
           0.6176989582249958,
           0.6149794422177169,
           0.6137100827969518,
           null,
           null
          ],
          [
           null,
           null,
           0.6482028514982833,
           0.6547582525822985,
           0.6580440829119688,
           0.6594925612149083,
           0.659675786912027,
           0.6587187877814223,
           0.6567919514712541,
           0.6541745971554275,
           0.6510423640595296,
           0.6476659715514458,
           0.6445758298545452,
           0.6416292426646781,
           0.6388870421150294,
           0.6361390923511567,
           0.6333181205385822,
           0.6302506081406654,
           0.6270720903427693,
           0.6238322324803645,
           0.620586951942671,
           0.6176005532615323,
           0.6156928593828285,
           null,
           null
          ],
          [
           null,
           null,
           0.647903501068831,
           0.6534877767914002,
           0.6563424332894943,
           0.6578309315230116,
           0.6583178751287512,
           0.6579670230627046,
           0.6568168096073578,
           0.6549046868481729,
           0.6522881488437441,
           0.6493035919158273,
           0.6464623791413336,
           0.643731846435578,
           0.6410332471204424,
           0.6383289743513589,
           0.6356230896143695,
           0.6328210404423545,
           0.6299231818352659,
           0.6268895467193566,
           0.6237420677344228,
           0.6205787947249191,
           0.6178745716530586,
           null,
           null
          ],
          [
           null,
           null,
           0.6465040958921686,
           0.6503316923640441,
           0.6525203900568501,
           0.6537640051174434,
           0.6545079751889514,
           0.6547950803143269,
           0.6546526626268604,
           0.6538881738406784,
           0.6524217043038616,
           0.6502884605977318,
           0.6476073642291658,
           0.6449253624554301,
           0.642290190213333,
           0.6397320334777097,
           0.6371151807112186,
           0.6344235599699539,
           0.6316907533008433,
           0.6289324453136049,
           0.6261617156887221,
           0.6233916441066801,
           0.6206237236684011,
           null,
           null
          ],
          [
           null,
           null,
           0.6437739425693406,
           0.6465983206342115,
           0.6489407011801481,
           0.6507245838853202,
           0.6519583081687792,
           0.6526504607370165,
           0.6528100084215718,
           0.652440136116363,
           0.6515298311795324,
           0.6500506095018095,
           0.647975418748289,
           0.6454470090407219,
           0.642973807724335,
           0.6405255759810737,
           0.6379866441770965,
           0.635432875349425,
           0.6328946171537521,
           0.6303849492705623,
           null,
           null,
           null,
           null,
           null
          ],
          [
           null,
           null,
           null,
           null,
           null,
           null,
           null,
           null,
           null,
           null,
           null,
           null,
           0.6475566590834282,
           0.645595845268032,
           0.6433079677412148,
           null,
           null,
           null,
           null,
           null,
           null,
           null,
           null,
           null,
           null
          ],
          [
           null,
           null,
           null,
           null,
           null,
           null,
           null,
           null,
           null,
           null,
           null,
           null,
           null,
           null,
           null,
           null,
           null,
           null,
           null,
           null,
           null,
           null,
           null,
           null,
           null
          ]
         ]
        }
       ],
       "layout": {
        "autosize": false,
        "height": 800,
        "margin": {
         "b": 65,
         "l": 65,
         "r": 50,
         "t": 90
        },
        "template": {
         "data": {
          "bar": [
           {
            "error_x": {
             "color": "#2a3f5f"
            },
            "error_y": {
             "color": "#2a3f5f"
            },
            "marker": {
             "line": {
              "color": "#E5ECF6",
              "width": 0.5
             }
            },
            "type": "bar"
           }
          ],
          "barpolar": [
           {
            "marker": {
             "line": {
              "color": "#E5ECF6",
              "width": 0.5
             }
            },
            "type": "barpolar"
           }
          ],
          "carpet": [
           {
            "aaxis": {
             "endlinecolor": "#2a3f5f",
             "gridcolor": "white",
             "linecolor": "white",
             "minorgridcolor": "white",
             "startlinecolor": "#2a3f5f"
            },
            "baxis": {
             "endlinecolor": "#2a3f5f",
             "gridcolor": "white",
             "linecolor": "white",
             "minorgridcolor": "white",
             "startlinecolor": "#2a3f5f"
            },
            "type": "carpet"
           }
          ],
          "choropleth": [
           {
            "colorbar": {
             "outlinewidth": 0,
             "ticks": ""
            },
            "type": "choropleth"
           }
          ],
          "contour": [
           {
            "colorbar": {
             "outlinewidth": 0,
             "ticks": ""
            },
            "colorscale": [
             [
              0,
              "#0d0887"
             ],
             [
              0.1111111111111111,
              "#46039f"
             ],
             [
              0.2222222222222222,
              "#7201a8"
             ],
             [
              0.3333333333333333,
              "#9c179e"
             ],
             [
              0.4444444444444444,
              "#bd3786"
             ],
             [
              0.5555555555555556,
              "#d8576b"
             ],
             [
              0.6666666666666666,
              "#ed7953"
             ],
             [
              0.7777777777777778,
              "#fb9f3a"
             ],
             [
              0.8888888888888888,
              "#fdca26"
             ],
             [
              1,
              "#f0f921"
             ]
            ],
            "type": "contour"
           }
          ],
          "contourcarpet": [
           {
            "colorbar": {
             "outlinewidth": 0,
             "ticks": ""
            },
            "type": "contourcarpet"
           }
          ],
          "heatmap": [
           {
            "colorbar": {
             "outlinewidth": 0,
             "ticks": ""
            },
            "colorscale": [
             [
              0,
              "#0d0887"
             ],
             [
              0.1111111111111111,
              "#46039f"
             ],
             [
              0.2222222222222222,
              "#7201a8"
             ],
             [
              0.3333333333333333,
              "#9c179e"
             ],
             [
              0.4444444444444444,
              "#bd3786"
             ],
             [
              0.5555555555555556,
              "#d8576b"
             ],
             [
              0.6666666666666666,
              "#ed7953"
             ],
             [
              0.7777777777777778,
              "#fb9f3a"
             ],
             [
              0.8888888888888888,
              "#fdca26"
             ],
             [
              1,
              "#f0f921"
             ]
            ],
            "type": "heatmap"
           }
          ],
          "heatmapgl": [
           {
            "colorbar": {
             "outlinewidth": 0,
             "ticks": ""
            },
            "colorscale": [
             [
              0,
              "#0d0887"
             ],
             [
              0.1111111111111111,
              "#46039f"
             ],
             [
              0.2222222222222222,
              "#7201a8"
             ],
             [
              0.3333333333333333,
              "#9c179e"
             ],
             [
              0.4444444444444444,
              "#bd3786"
             ],
             [
              0.5555555555555556,
              "#d8576b"
             ],
             [
              0.6666666666666666,
              "#ed7953"
             ],
             [
              0.7777777777777778,
              "#fb9f3a"
             ],
             [
              0.8888888888888888,
              "#fdca26"
             ],
             [
              1,
              "#f0f921"
             ]
            ],
            "type": "heatmapgl"
           }
          ],
          "histogram": [
           {
            "marker": {
             "colorbar": {
              "outlinewidth": 0,
              "ticks": ""
             }
            },
            "type": "histogram"
           }
          ],
          "histogram2d": [
           {
            "colorbar": {
             "outlinewidth": 0,
             "ticks": ""
            },
            "colorscale": [
             [
              0,
              "#0d0887"
             ],
             [
              0.1111111111111111,
              "#46039f"
             ],
             [
              0.2222222222222222,
              "#7201a8"
             ],
             [
              0.3333333333333333,
              "#9c179e"
             ],
             [
              0.4444444444444444,
              "#bd3786"
             ],
             [
              0.5555555555555556,
              "#d8576b"
             ],
             [
              0.6666666666666666,
              "#ed7953"
             ],
             [
              0.7777777777777778,
              "#fb9f3a"
             ],
             [
              0.8888888888888888,
              "#fdca26"
             ],
             [
              1,
              "#f0f921"
             ]
            ],
            "type": "histogram2d"
           }
          ],
          "histogram2dcontour": [
           {
            "colorbar": {
             "outlinewidth": 0,
             "ticks": ""
            },
            "colorscale": [
             [
              0,
              "#0d0887"
             ],
             [
              0.1111111111111111,
              "#46039f"
             ],
             [
              0.2222222222222222,
              "#7201a8"
             ],
             [
              0.3333333333333333,
              "#9c179e"
             ],
             [
              0.4444444444444444,
              "#bd3786"
             ],
             [
              0.5555555555555556,
              "#d8576b"
             ],
             [
              0.6666666666666666,
              "#ed7953"
             ],
             [
              0.7777777777777778,
              "#fb9f3a"
             ],
             [
              0.8888888888888888,
              "#fdca26"
             ],
             [
              1,
              "#f0f921"
             ]
            ],
            "type": "histogram2dcontour"
           }
          ],
          "mesh3d": [
           {
            "colorbar": {
             "outlinewidth": 0,
             "ticks": ""
            },
            "type": "mesh3d"
           }
          ],
          "parcoords": [
           {
            "line": {
             "colorbar": {
              "outlinewidth": 0,
              "ticks": ""
             }
            },
            "type": "parcoords"
           }
          ],
          "pie": [
           {
            "automargin": true,
            "type": "pie"
           }
          ],
          "scatter": [
           {
            "marker": {
             "colorbar": {
              "outlinewidth": 0,
              "ticks": ""
             }
            },
            "type": "scatter"
           }
          ],
          "scatter3d": [
           {
            "line": {
             "colorbar": {
              "outlinewidth": 0,
              "ticks": ""
             }
            },
            "marker": {
             "colorbar": {
              "outlinewidth": 0,
              "ticks": ""
             }
            },
            "type": "scatter3d"
           }
          ],
          "scattercarpet": [
           {
            "marker": {
             "colorbar": {
              "outlinewidth": 0,
              "ticks": ""
             }
            },
            "type": "scattercarpet"
           }
          ],
          "scattergeo": [
           {
            "marker": {
             "colorbar": {
              "outlinewidth": 0,
              "ticks": ""
             }
            },
            "type": "scattergeo"
           }
          ],
          "scattergl": [
           {
            "marker": {
             "colorbar": {
              "outlinewidth": 0,
              "ticks": ""
             }
            },
            "type": "scattergl"
           }
          ],
          "scattermapbox": [
           {
            "marker": {
             "colorbar": {
              "outlinewidth": 0,
              "ticks": ""
             }
            },
            "type": "scattermapbox"
           }
          ],
          "scatterpolar": [
           {
            "marker": {
             "colorbar": {
              "outlinewidth": 0,
              "ticks": ""
             }
            },
            "type": "scatterpolar"
           }
          ],
          "scatterpolargl": [
           {
            "marker": {
             "colorbar": {
              "outlinewidth": 0,
              "ticks": ""
             }
            },
            "type": "scatterpolargl"
           }
          ],
          "scatterternary": [
           {
            "marker": {
             "colorbar": {
              "outlinewidth": 0,
              "ticks": ""
             }
            },
            "type": "scatterternary"
           }
          ],
          "surface": [
           {
            "colorbar": {
             "outlinewidth": 0,
             "ticks": ""
            },
            "colorscale": [
             [
              0,
              "#0d0887"
             ],
             [
              0.1111111111111111,
              "#46039f"
             ],
             [
              0.2222222222222222,
              "#7201a8"
             ],
             [
              0.3333333333333333,
              "#9c179e"
             ],
             [
              0.4444444444444444,
              "#bd3786"
             ],
             [
              0.5555555555555556,
              "#d8576b"
             ],
             [
              0.6666666666666666,
              "#ed7953"
             ],
             [
              0.7777777777777778,
              "#fb9f3a"
             ],
             [
              0.8888888888888888,
              "#fdca26"
             ],
             [
              1,
              "#f0f921"
             ]
            ],
            "type": "surface"
           }
          ],
          "table": [
           {
            "cells": {
             "fill": {
              "color": "#EBF0F8"
             },
             "line": {
              "color": "white"
             }
            },
            "header": {
             "fill": {
              "color": "#C8D4E3"
             },
             "line": {
              "color": "white"
             }
            },
            "type": "table"
           }
          ]
         },
         "layout": {
          "annotationdefaults": {
           "arrowcolor": "#2a3f5f",
           "arrowhead": 0,
           "arrowwidth": 1
          },
          "coloraxis": {
           "colorbar": {
            "outlinewidth": 0,
            "ticks": ""
           }
          },
          "colorscale": {
           "diverging": [
            [
             0,
             "#8e0152"
            ],
            [
             0.1,
             "#c51b7d"
            ],
            [
             0.2,
             "#de77ae"
            ],
            [
             0.3,
             "#f1b6da"
            ],
            [
             0.4,
             "#fde0ef"
            ],
            [
             0.5,
             "#f7f7f7"
            ],
            [
             0.6,
             "#e6f5d0"
            ],
            [
             0.7,
             "#b8e186"
            ],
            [
             0.8,
             "#7fbc41"
            ],
            [
             0.9,
             "#4d9221"
            ],
            [
             1,
             "#276419"
            ]
           ],
           "sequential": [
            [
             0,
             "#0d0887"
            ],
            [
             0.1111111111111111,
             "#46039f"
            ],
            [
             0.2222222222222222,
             "#7201a8"
            ],
            [
             0.3333333333333333,
             "#9c179e"
            ],
            [
             0.4444444444444444,
             "#bd3786"
            ],
            [
             0.5555555555555556,
             "#d8576b"
            ],
            [
             0.6666666666666666,
             "#ed7953"
            ],
            [
             0.7777777777777778,
             "#fb9f3a"
            ],
            [
             0.8888888888888888,
             "#fdca26"
            ],
            [
             1,
             "#f0f921"
            ]
           ],
           "sequentialminus": [
            [
             0,
             "#0d0887"
            ],
            [
             0.1111111111111111,
             "#46039f"
            ],
            [
             0.2222222222222222,
             "#7201a8"
            ],
            [
             0.3333333333333333,
             "#9c179e"
            ],
            [
             0.4444444444444444,
             "#bd3786"
            ],
            [
             0.5555555555555556,
             "#d8576b"
            ],
            [
             0.6666666666666666,
             "#ed7953"
            ],
            [
             0.7777777777777778,
             "#fb9f3a"
            ],
            [
             0.8888888888888888,
             "#fdca26"
            ],
            [
             1,
             "#f0f921"
            ]
           ]
          },
          "colorway": [
           "#636efa",
           "#EF553B",
           "#00cc96",
           "#ab63fa",
           "#FFA15A",
           "#19d3f3",
           "#FF6692",
           "#B6E880",
           "#FF97FF",
           "#FECB52"
          ],
          "font": {
           "color": "#2a3f5f"
          },
          "geo": {
           "bgcolor": "white",
           "lakecolor": "white",
           "landcolor": "#E5ECF6",
           "showlakes": true,
           "showland": true,
           "subunitcolor": "white"
          },
          "hoverlabel": {
           "align": "left"
          },
          "hovermode": "closest",
          "mapbox": {
           "style": "light"
          },
          "paper_bgcolor": "white",
          "plot_bgcolor": "#E5ECF6",
          "polar": {
           "angularaxis": {
            "gridcolor": "white",
            "linecolor": "white",
            "ticks": ""
           },
           "bgcolor": "#E5ECF6",
           "radialaxis": {
            "gridcolor": "white",
            "linecolor": "white",
            "ticks": ""
           }
          },
          "scene": {
           "xaxis": {
            "backgroundcolor": "#E5ECF6",
            "gridcolor": "white",
            "gridwidth": 2,
            "linecolor": "white",
            "showbackground": true,
            "ticks": "",
            "zerolinecolor": "white"
           },
           "yaxis": {
            "backgroundcolor": "#E5ECF6",
            "gridcolor": "white",
            "gridwidth": 2,
            "linecolor": "white",
            "showbackground": true,
            "ticks": "",
            "zerolinecolor": "white"
           },
           "zaxis": {
            "backgroundcolor": "#E5ECF6",
            "gridcolor": "white",
            "gridwidth": 2,
            "linecolor": "white",
            "showbackground": true,
            "ticks": "",
            "zerolinecolor": "white"
           }
          },
          "shapedefaults": {
           "line": {
            "color": "#2a3f5f"
           }
          },
          "ternary": {
           "aaxis": {
            "gridcolor": "white",
            "linecolor": "white",
            "ticks": ""
           },
           "baxis": {
            "gridcolor": "white",
            "linecolor": "white",
            "ticks": ""
           },
           "bgcolor": "#E5ECF6",
           "caxis": {
            "gridcolor": "white",
            "linecolor": "white",
            "ticks": ""
           }
          },
          "title": {
           "x": 0.05
          },
          "xaxis": {
           "automargin": true,
           "gridcolor": "white",
           "linecolor": "white",
           "ticks": "",
           "title": {
            "standoff": 15
           },
           "zerolinecolor": "white",
           "zerolinewidth": 2
          },
          "yaxis": {
           "automargin": true,
           "gridcolor": "white",
           "linecolor": "white",
           "ticks": "",
           "title": {
            "standoff": 15
           },
           "zerolinecolor": "white",
           "zerolinewidth": 2
          }
         }
        },
        "title": {
         "text": "Approximate solution of Burgers equation t=0.95"
        },
        "width": 800
       }
      },
      "text/html": [
       "<div>                            <div id=\"f4b36921-e0a0-49a1-a2bd-856711492223\" class=\"plotly-graph-div\" style=\"height:800px; width:800px;\"></div>            <script type=\"text/javascript\">                require([\"plotly\"], function(Plotly) {                    window.PLOTLYENV=window.PLOTLYENV || {};                                    if (document.getElementById(\"f4b36921-e0a0-49a1-a2bd-856711492223\")) {                    Plotly.newPlot(                        \"f4b36921-e0a0-49a1-a2bd-856711492223\",                        [{\"colorscale\": [[0.0, \"#440154\"], [0.1111111111111111, \"#482878\"], [0.2222222222222222, \"#3e4989\"], [0.3333333333333333, \"#31688e\"], [0.4444444444444444, \"#26828e\"], [0.5555555555555556, \"#1f9e89\"], [0.6666666666666666, \"#35b779\"], [0.7777777777777778, \"#6ece58\"], [0.8888888888888888, \"#b5de2b\"], [1.0, \"#fde725\"]], \"contours\": {\"z\": {\"highlightcolor\": \"limegreen\", \"project\": {\"z\": true}, \"show\": true, \"usecolormap\": true}}, \"type\": \"surface\", \"x\": [[0.0, 0.04, 0.08, 0.12, 0.16, 0.2, 0.24, 0.28, 0.32, 0.36, 0.4, 0.44, 0.48, 0.52, 0.56, 0.6, 0.64, 0.68, 0.72, 0.76, 0.8, 0.84, 0.88, 0.92, 0.96], [0.0, 0.04, 0.08, 0.12, 0.16, 0.2, 0.24, 0.28, 0.32, 0.36, 0.4, 0.44, 0.48, 0.52, 0.56, 0.6, 0.64, 0.68, 0.72, 0.76, 0.8, 0.84, 0.88, 0.92, 0.96], [0.0, 0.04, 0.08, 0.12, 0.16, 0.2, 0.24, 0.28, 0.32, 0.36, 0.4, 0.44, 0.48, 0.52, 0.56, 0.6, 0.64, 0.68, 0.72, 0.76, 0.8, 0.84, 0.88, 0.92, 0.96], [0.0, 0.04, 0.08, 0.12, 0.16, 0.2, 0.24, 0.28, 0.32, 0.36, 0.4, 0.44, 0.48, 0.52, 0.56, 0.6, 0.64, 0.68, 0.72, 0.76, 0.8, 0.84, 0.88, 0.92, 0.96], [0.0, 0.04, 0.08, 0.12, 0.16, 0.2, 0.24, 0.28, 0.32, 0.36, 0.4, 0.44, 0.48, 0.52, 0.56, 0.6, 0.64, 0.68, 0.72, 0.76, 0.8, 0.84, 0.88, 0.92, 0.96], [0.0, 0.04, 0.08, 0.12, 0.16, 0.2, 0.24, 0.28, 0.32, 0.36, 0.4, 0.44, 0.48, 0.52, 0.56, 0.6, 0.64, 0.68, 0.72, 0.76, 0.8, 0.84, 0.88, 0.92, 0.96], [0.0, 0.04, 0.08, 0.12, 0.16, 0.2, 0.24, 0.28, 0.32, 0.36, 0.4, 0.44, 0.48, 0.52, 0.56, 0.6, 0.64, 0.68, 0.72, 0.76, 0.8, 0.84, 0.88, 0.92, 0.96], [0.0, 0.04, 0.08, 0.12, 0.16, 0.2, 0.24, 0.28, 0.32, 0.36, 0.4, 0.44, 0.48, 0.52, 0.56, 0.6, 0.64, 0.68, 0.72, 0.76, 0.8, 0.84, 0.88, 0.92, 0.96], [0.0, 0.04, 0.08, 0.12, 0.16, 0.2, 0.24, 0.28, 0.32, 0.36, 0.4, 0.44, 0.48, 0.52, 0.56, 0.6, 0.64, 0.68, 0.72, 0.76, 0.8, 0.84, 0.88, 0.92, 0.96], [0.0, 0.04, 0.08, 0.12, 0.16, 0.2, 0.24, 0.28, 0.32, 0.36, 0.4, 0.44, 0.48, 0.52, 0.56, 0.6, 0.64, 0.68, 0.72, 0.76, 0.8, 0.84, 0.88, 0.92, 0.96], [0.0, 0.04, 0.08, 0.12, 0.16, 0.2, 0.24, 0.28, 0.32, 0.36, 0.4, 0.44, 0.48, 0.52, 0.56, 0.6, 0.64, 0.68, 0.72, 0.76, 0.8, 0.84, 0.88, 0.92, 0.96], [0.0, 0.04, 0.08, 0.12, 0.16, 0.2, 0.24, 0.28, 0.32, 0.36, 0.4, 0.44, 0.48, 0.52, 0.56, 0.6, 0.64, 0.68, 0.72, 0.76, 0.8, 0.84, 0.88, 0.92, 0.96], [0.0, 0.04, 0.08, 0.12, 0.16, 0.2, 0.24, 0.28, 0.32, 0.36, 0.4, 0.44, 0.48, 0.52, 0.56, 0.6, 0.64, 0.68, 0.72, 0.76, 0.8, 0.84, 0.88, 0.92, 0.96], [0.0, 0.04, 0.08, 0.12, 0.16, 0.2, 0.24, 0.28, 0.32, 0.36, 0.4, 0.44, 0.48, 0.52, 0.56, 0.6, 0.64, 0.68, 0.72, 0.76, 0.8, 0.84, 0.88, 0.92, 0.96], [0.0, 0.04, 0.08, 0.12, 0.16, 0.2, 0.24, 0.28, 0.32, 0.36, 0.4, 0.44, 0.48, 0.52, 0.56, 0.6, 0.64, 0.68, 0.72, 0.76, 0.8, 0.84, 0.88, 0.92, 0.96], [0.0, 0.04, 0.08, 0.12, 0.16, 0.2, 0.24, 0.28, 0.32, 0.36, 0.4, 0.44, 0.48, 0.52, 0.56, 0.6, 0.64, 0.68, 0.72, 0.76, 0.8, 0.84, 0.88, 0.92, 0.96], [0.0, 0.04, 0.08, 0.12, 0.16, 0.2, 0.24, 0.28, 0.32, 0.36, 0.4, 0.44, 0.48, 0.52, 0.56, 0.6, 0.64, 0.68, 0.72, 0.76, 0.8, 0.84, 0.88, 0.92, 0.96], [0.0, 0.04, 0.08, 0.12, 0.16, 0.2, 0.24, 0.28, 0.32, 0.36, 0.4, 0.44, 0.48, 0.52, 0.56, 0.6, 0.64, 0.68, 0.72, 0.76, 0.8, 0.84, 0.88, 0.92, 0.96], [0.0, 0.04, 0.08, 0.12, 0.16, 0.2, 0.24, 0.28, 0.32, 0.36, 0.4, 0.44, 0.48, 0.52, 0.56, 0.6, 0.64, 0.68, 0.72, 0.76, 0.8, 0.84, 0.88, 0.92, 0.96], [0.0, 0.04, 0.08, 0.12, 0.16, 0.2, 0.24, 0.28, 0.32, 0.36, 0.4, 0.44, 0.48, 0.52, 0.56, 0.6, 0.64, 0.68, 0.72, 0.76, 0.8, 0.84, 0.88, 0.92, 0.96], [0.0, 0.04, 0.08, 0.12, 0.16, 0.2, 0.24, 0.28, 0.32, 0.36, 0.4, 0.44, 0.48, 0.52, 0.56, 0.6, 0.64, 0.68, 0.72, 0.76, 0.8, 0.84, 0.88, 0.92, 0.96], [0.0, 0.04, 0.08, 0.12, 0.16, 0.2, 0.24, 0.28, 0.32, 0.36, 0.4, 0.44, 0.48, 0.52, 0.56, 0.6, 0.64, 0.68, 0.72, 0.76, 0.8, 0.84, 0.88, 0.92, 0.96], [0.0, 0.04, 0.08, 0.12, 0.16, 0.2, 0.24, 0.28, 0.32, 0.36, 0.4, 0.44, 0.48, 0.52, 0.56, 0.6, 0.64, 0.68, 0.72, 0.76, 0.8, 0.84, 0.88, 0.92, 0.96], [0.0, 0.04, 0.08, 0.12, 0.16, 0.2, 0.24, 0.28, 0.32, 0.36, 0.4, 0.44, 0.48, 0.52, 0.56, 0.6, 0.64, 0.68, 0.72, 0.76, 0.8, 0.84, 0.88, 0.92, 0.96], [0.0, 0.04, 0.08, 0.12, 0.16, 0.2, 0.24, 0.28, 0.32, 0.36, 0.4, 0.44, 0.48, 0.52, 0.56, 0.6, 0.64, 0.68, 0.72, 0.76, 0.8, 0.84, 0.88, 0.92, 0.96]], \"y\": [[0.0, 0.0, 0.0, 0.0, 0.0, 0.0, 0.0, 0.0, 0.0, 0.0, 0.0, 0.0, 0.0, 0.0, 0.0, 0.0, 0.0, 0.0, 0.0, 0.0, 0.0, 0.0, 0.0, 0.0, 0.0], [0.04, 0.04, 0.04, 0.04, 0.04, 0.04, 0.04, 0.04, 0.04, 0.04, 0.04, 0.04, 0.04, 0.04, 0.04, 0.04, 0.04, 0.04, 0.04, 0.04, 0.04, 0.04, 0.04, 0.04, 0.04], [0.08, 0.08, 0.08, 0.08, 0.08, 0.08, 0.08, 0.08, 0.08, 0.08, 0.08, 0.08, 0.08, 0.08, 0.08, 0.08, 0.08, 0.08, 0.08, 0.08, 0.08, 0.08, 0.08, 0.08, 0.08], [0.12, 0.12, 0.12, 0.12, 0.12, 0.12, 0.12, 0.12, 0.12, 0.12, 0.12, 0.12, 0.12, 0.12, 0.12, 0.12, 0.12, 0.12, 0.12, 0.12, 0.12, 0.12, 0.12, 0.12, 0.12], [0.16, 0.16, 0.16, 0.16, 0.16, 0.16, 0.16, 0.16, 0.16, 0.16, 0.16, 0.16, 0.16, 0.16, 0.16, 0.16, 0.16, 0.16, 0.16, 0.16, 0.16, 0.16, 0.16, 0.16, 0.16], [0.2, 0.2, 0.2, 0.2, 0.2, 0.2, 0.2, 0.2, 0.2, 0.2, 0.2, 0.2, 0.2, 0.2, 0.2, 0.2, 0.2, 0.2, 0.2, 0.2, 0.2, 0.2, 0.2, 0.2, 0.2], [0.24, 0.24, 0.24, 0.24, 0.24, 0.24, 0.24, 0.24, 0.24, 0.24, 0.24, 0.24, 0.24, 0.24, 0.24, 0.24, 0.24, 0.24, 0.24, 0.24, 0.24, 0.24, 0.24, 0.24, 0.24], [0.28, 0.28, 0.28, 0.28, 0.28, 0.28, 0.28, 0.28, 0.28, 0.28, 0.28, 0.28, 0.28, 0.28, 0.28, 0.28, 0.28, 0.28, 0.28, 0.28, 0.28, 0.28, 0.28, 0.28, 0.28], [0.32, 0.32, 0.32, 0.32, 0.32, 0.32, 0.32, 0.32, 0.32, 0.32, 0.32, 0.32, 0.32, 0.32, 0.32, 0.32, 0.32, 0.32, 0.32, 0.32, 0.32, 0.32, 0.32, 0.32, 0.32], [0.36, 0.36, 0.36, 0.36, 0.36, 0.36, 0.36, 0.36, 0.36, 0.36, 0.36, 0.36, 0.36, 0.36, 0.36, 0.36, 0.36, 0.36, 0.36, 0.36, 0.36, 0.36, 0.36, 0.36, 0.36], [0.4, 0.4, 0.4, 0.4, 0.4, 0.4, 0.4, 0.4, 0.4, 0.4, 0.4, 0.4, 0.4, 0.4, 0.4, 0.4, 0.4, 0.4, 0.4, 0.4, 0.4, 0.4, 0.4, 0.4, 0.4], [0.44, 0.44, 0.44, 0.44, 0.44, 0.44, 0.44, 0.44, 0.44, 0.44, 0.44, 0.44, 0.44, 0.44, 0.44, 0.44, 0.44, 0.44, 0.44, 0.44, 0.44, 0.44, 0.44, 0.44, 0.44], [0.48, 0.48, 0.48, 0.48, 0.48, 0.48, 0.48, 0.48, 0.48, 0.48, 0.48, 0.48, 0.48, 0.48, 0.48, 0.48, 0.48, 0.48, 0.48, 0.48, 0.48, 0.48, 0.48, 0.48, 0.48], [0.52, 0.52, 0.52, 0.52, 0.52, 0.52, 0.52, 0.52, 0.52, 0.52, 0.52, 0.52, 0.52, 0.52, 0.52, 0.52, 0.52, 0.52, 0.52, 0.52, 0.52, 0.52, 0.52, 0.52, 0.52], [0.56, 0.56, 0.56, 0.56, 0.56, 0.56, 0.56, 0.56, 0.56, 0.56, 0.56, 0.56, 0.56, 0.56, 0.56, 0.56, 0.56, 0.56, 0.56, 0.56, 0.56, 0.56, 0.56, 0.56, 0.56], [0.6, 0.6, 0.6, 0.6, 0.6, 0.6, 0.6, 0.6, 0.6, 0.6, 0.6, 0.6, 0.6, 0.6, 0.6, 0.6, 0.6, 0.6, 0.6, 0.6, 0.6, 0.6, 0.6, 0.6, 0.6], [0.64, 0.64, 0.64, 0.64, 0.64, 0.64, 0.64, 0.64, 0.64, 0.64, 0.64, 0.64, 0.64, 0.64, 0.64, 0.64, 0.64, 0.64, 0.64, 0.64, 0.64, 0.64, 0.64, 0.64, 0.64], [0.68, 0.68, 0.68, 0.68, 0.68, 0.68, 0.68, 0.68, 0.68, 0.68, 0.68, 0.68, 0.68, 0.68, 0.68, 0.68, 0.68, 0.68, 0.68, 0.68, 0.68, 0.68, 0.68, 0.68, 0.68], [0.72, 0.72, 0.72, 0.72, 0.72, 0.72, 0.72, 0.72, 0.72, 0.72, 0.72, 0.72, 0.72, 0.72, 0.72, 0.72, 0.72, 0.72, 0.72, 0.72, 0.72, 0.72, 0.72, 0.72, 0.72], [0.76, 0.76, 0.76, 0.76, 0.76, 0.76, 0.76, 0.76, 0.76, 0.76, 0.76, 0.76, 0.76, 0.76, 0.76, 0.76, 0.76, 0.76, 0.76, 0.76, 0.76, 0.76, 0.76, 0.76, 0.76], [0.8, 0.8, 0.8, 0.8, 0.8, 0.8, 0.8, 0.8, 0.8, 0.8, 0.8, 0.8, 0.8, 0.8, 0.8, 0.8, 0.8, 0.8, 0.8, 0.8, 0.8, 0.8, 0.8, 0.8, 0.8], [0.84, 0.84, 0.84, 0.84, 0.84, 0.84, 0.84, 0.84, 0.84, 0.84, 0.84, 0.84, 0.84, 0.84, 0.84, 0.84, 0.84, 0.84, 0.84, 0.84, 0.84, 0.84, 0.84, 0.84, 0.84], [0.88, 0.88, 0.88, 0.88, 0.88, 0.88, 0.88, 0.88, 0.88, 0.88, 0.88, 0.88, 0.88, 0.88, 0.88, 0.88, 0.88, 0.88, 0.88, 0.88, 0.88, 0.88, 0.88, 0.88, 0.88], [0.92, 0.92, 0.92, 0.92, 0.92, 0.92, 0.92, 0.92, 0.92, 0.92, 0.92, 0.92, 0.92, 0.92, 0.92, 0.92, 0.92, 0.92, 0.92, 0.92, 0.92, 0.92, 0.92, 0.92, 0.92], [0.96, 0.96, 0.96, 0.96, 0.96, 0.96, 0.96, 0.96, 0.96, 0.96, 0.96, 0.96, 0.96, 0.96, 0.96, 0.96, 0.96, 0.96, 0.96, 0.96, 0.96, 0.96, 0.96, 0.96, 0.96]], \"z\": [[null, null, null, null, null, null, null, null, null, null, null, null, null, null, null, null, null, null, null, null, null, null, null, null, null], [null, null, null, null, null, null, null, null, null, null, null, null, null, null, 0.6113766858106481, null, null, null, null, null, null, null, null, null, null], [null, null, null, null, null, null, null, 0.6188392030967019, 0.6170967678870296, 0.615654629336145, 0.6143550887443986, 0.6130467810479843, 0.6115783745157995, 0.6097882728982688, 0.6075285955896742, 0.6053639459281168, 0.6037876843631466, null, null, null, null, null, null, null, null], [null, null, null, null, null, null, 0.6212754118747041, 0.6190224250032663, 0.6167655652979004, 0.6147897329853013, 0.6130306178301133, 0.6112639729374663, 0.6092620246699016, 0.606801353663325, 0.6041045478743927, 0.6016103387582792, 0.5995886072888339, 0.5981848707936743, 0.5970757618577596, 0.5962276660652461, null, null, null, null, null], [null, null, null, null, null, 0.6242476457508265, 0.6218967361860558, 0.619434178694207, 0.6169331589741145, 0.614470356776406, 0.6122762236746411, 0.610014548733356, 0.6073181880079869, 0.6043455089885037, 0.6014413161828298, 0.5987547001074296, 0.5964122208811378, 0.594706659158163, 0.5935478562263359, 0.5927780209724143, 0.5921875772800232, null, null, null, null], [null, null, null, null, 0.6271218571200451, 0.6253517253106645, 0.6230487584862837, 0.6203799387167129, 0.6176287754060369, 0.6148992186561065, 0.6122624526964435, 0.60930555248587, 0.6061636644860183, 0.6030089568832898, 0.5999642452227796, 0.5971682497570724, 0.5947201054976903, 0.5926450648554186, 0.5911953536588684, 0.5902046300958337, 0.5896079076893248, 0.5892018740499333, null, null, null], [null, null, null, null, 0.6282953556675906, 0.6267164440647915, 0.6246524929656561, 0.6220137284541425, 0.6191067578402115, 0.6161681565765228, 0.6132818273049621, 0.6102030235321488, 0.6069413033574291, 0.6036780032069995, 0.6005273302761787, 0.5975164079689252, 0.5945849214987696, 0.5919317640425479, 0.5902272845138264, 0.5892542896918529, 0.5885973992175683, 0.588075092895998, 0.5875418764954918, null, null], [null, null, null, 0.6307042286754045, 0.6297670816952134, 0.6283624504428129, 0.6264931419764809, 0.6241116970375187, 0.6211934890195945, 0.6182204378096634, 0.6152916026150288, 0.6122742526337954, 0.6090625105738999, 0.6056651588794779, 0.6023128166316511, 0.5989583300936218, 0.59562540275842, 0.5925525905262597, 0.5902657670583527, 0.5889178789106886, 0.5881932198602631, 0.5877955536780912, 0.5875681993695685, 0.5873870626244222, null], [null, null, null, 0.6324540341958896, 0.6315698289165851, 0.6303172138081451, 0.6286182273082945, 0.6264721392322565, 0.6237622521590496, 0.6209144915928995, 0.6180277988808206, 0.6149449624339935, 0.6117018581550413, 0.6083104760897025, 0.604782066065828, 0.6011911424738449, 0.5976676667697329, 0.594342746535642, 0.5915347137652117, 0.589640145012501, 0.5885615894853555, 0.5880874134787969, 0.5881111863677881, 0.5889576974225531, null], [null, null, null, 0.6347491578267761, 0.6341013273804521, 0.632797772238799, 0.6311170923924239, 0.6290832569677118, 0.6266637493488023, 0.6239917052025643, 0.6210827174527288, 0.6179791516751704, 0.6147139305553649, 0.6113788698467133, 0.60783898801675, 0.6040907526449515, 0.6004864960547541, 0.5970633526778479, 0.5939410774427819, 0.5914525596983236, 0.5899077835773919, 0.5892809434245432, 0.590120154540722, 0.5905880652567275, null], [null, null, 0.6346416097937562, 0.6369558585541745, 0.6366164635318986, 0.6355609476337225, 0.6340383990631796, 0.6320688360937542, 0.6296964173483481, 0.6270433818914349, 0.6241552591128552, 0.6210658329911161, 0.6178311603313219, 0.6145940467168438, 0.611336612360571, 0.607965834619344, 0.604178151601557, 0.6004620775685074, 0.5971210814029166, 0.5943075675343138, 0.5922337502015036, 0.5917966779012542, 0.5930563816391915, 0.5922278559266134, null], [null, null, 0.6360568760237542, 0.638833678812163, 0.6387922309007343, 0.6381112398840353, 0.6368582795126876, 0.6350740233730647, 0.6328141969098253, 0.6301966979226743, 0.6273242180952403, 0.6242454422258544, 0.621078022754672, 0.6179231136777542, 0.6147459997386078, 0.611523207835507, 0.6082375091133673, 0.6046503272312838, 0.6011563984181908, 0.598034267700473, 0.5955879634102189, 0.5949859907815116, 0.5959943037281228, 0.593922947666835, null], [null, null, 0.6375192074927083, 0.6403846417393881, 0.6408916901205455, 0.6404000266701279, 0.6394118081976402, 0.6379564412360454, 0.6359529544654948, 0.6334369380107353, 0.6305810239419016, 0.6275216081207163, 0.624444372809134, 0.6213527437483336, 0.6182299662817446, 0.6150675284118704, 0.611856918141213, 0.6085896234722754, 0.6053341583143952, 0.6023203517329814, 0.599663003369445, 0.5983931323773423, 0.5988605811206087, 0.5957884233675086, null], [null, null, 0.6387571179322662, 0.6420603080864233, 0.64345814020944, 0.643303813550309, 0.6423954533199039, 0.6409504148332967, 0.6390349841951306, 0.6366798159400792, 0.6339154941459029, 0.6308921533845584, 0.6278379632305806, 0.6247494468600022, 0.6216204130036956, 0.6184446703925339, 0.6152401477855839, 0.612087415816987, 0.6089370091563906, 0.6061916232045231, 0.6039795412151281, 0.6020783345693105, 0.6016419870134923, 0.5978475295810413, null], [null, 0.634654947976684, 0.639994141828768, 0.6438059654665849, 0.6460244136237923, 0.6464947026253113, 0.6458719238707535, 0.6446096354857859, 0.642767482737876, 0.6403475979078009, 0.6372681278074092, 0.6341122364505746, 0.6308813514125474, 0.6276975956298987, 0.6245515297079511, 0.6214194783211717, 0.6183305838822755, 0.6153023415830648, 0.6122769196446327, 0.6093047497380537, 0.6069964416635231, 0.6053618619084025, 0.6043453779632403, 0.6000930736755928, null], [null, 0.636211655028401, 0.6414626683184055, 0.6456070008250459, 0.6484312802714032, 0.6497144766858074, 0.6494156878405265, 0.6483403630424132, 0.6465347961065202, 0.6438964228350091, 0.640483987810801, 0.6373405378150107, 0.6340008925961576, 0.6306929440488325, 0.6274675707257851, 0.6243484340287024, 0.621308991143353, 0.6183150861095505, 0.6153523367695913, 0.6123318865279521, 0.6097243581972498, 0.6079292259443078, 0.6069373507230046, null, null], [null, 0.63780585342378, 0.6443798940839958, 0.6481773546130258, 0.6508687239939269, 0.6526098275405593, 0.6528745629288722, 0.6519567095871556, 0.6500564502451336, 0.6471518578932584, 0.6435283172279737, 0.640377011514964, 0.6370657704125309, 0.6337327039561436, 0.6304748286709114, 0.6273387382703285, 0.6242382018234678, 0.6211985183080296, 0.6182100670578146, 0.6152635301739258, 0.612396741722659, 0.6103578748502276, 0.6093548903440562, null, null], [null, null, 0.6465825544889586, 0.6519797197981092, 0.6546065034365698, 0.6559358219562884, 0.6561078243592257, 0.6551709266531272, 0.6531745001535283, 0.6501350462174786, 0.646349301978438, 0.6431471175630181, 0.639907034809164, 0.6366107521289976, 0.6333556320018859, 0.6304232285719673, 0.6273627154194255, 0.6241218812827142, 0.6209781542620316, 0.6179749838872497, 0.6150526176249873, 0.6126948626744936, 0.6116050003338759, null, null], [null, null, 0.6477630392961615, 0.6540247001576514, 0.6572745591929475, 0.6585612526498072, 0.6585527281066663, 0.6574038194571631, 0.6554307781821065, 0.6526377818305216, 0.6488951279817043, 0.6455952921711774, 0.6424263216620414, 0.6391742500909804, 0.6362104467109566, 0.6334130515248118, 0.630500900803337, 0.627284419275555, 0.6240312439149263, 0.6208203449622036, 0.6176989582249958, 0.6149794422177169, 0.6137100827969518, null, null], [null, null, 0.6482028514982833, 0.6547582525822985, 0.6580440829119688, 0.6594925612149083, 0.659675786912027, 0.6587187877814223, 0.6567919514712541, 0.6541745971554275, 0.6510423640595296, 0.6476659715514458, 0.6445758298545452, 0.6416292426646781, 0.6388870421150294, 0.6361390923511567, 0.6333181205385822, 0.6302506081406654, 0.6270720903427693, 0.6238322324803645, 0.620586951942671, 0.6176005532615323, 0.6156928593828285, null, null], [null, null, 0.647903501068831, 0.6534877767914002, 0.6563424332894943, 0.6578309315230116, 0.6583178751287512, 0.6579670230627046, 0.6568168096073578, 0.6549046868481729, 0.6522881488437441, 0.6493035919158273, 0.6464623791413336, 0.643731846435578, 0.6410332471204424, 0.6383289743513589, 0.6356230896143695, 0.6328210404423545, 0.6299231818352659, 0.6268895467193566, 0.6237420677344228, 0.6205787947249191, 0.6178745716530586, null, null], [null, null, 0.6465040958921686, 0.6503316923640441, 0.6525203900568501, 0.6537640051174434, 0.6545079751889514, 0.6547950803143269, 0.6546526626268604, 0.6538881738406784, 0.6524217043038616, 0.6502884605977318, 0.6476073642291658, 0.6449253624554301, 0.642290190213333, 0.6397320334777097, 0.6371151807112186, 0.6344235599699539, 0.6316907533008433, 0.6289324453136049, 0.6261617156887221, 0.6233916441066801, 0.6206237236684011, null, null], [null, null, 0.6437739425693406, 0.6465983206342115, 0.6489407011801481, 0.6507245838853202, 0.6519583081687792, 0.6526504607370165, 0.6528100084215718, 0.652440136116363, 0.6515298311795324, 0.6500506095018095, 0.647975418748289, 0.6454470090407219, 0.642973807724335, 0.6405255759810737, 0.6379866441770965, 0.635432875349425, 0.6328946171537521, 0.6303849492705623, null, null, null, null, null], [null, null, null, null, null, null, null, null, null, null, null, null, 0.6475566590834282, 0.645595845268032, 0.6433079677412148, null, null, null, null, null, null, null, null, null, null], [null, null, null, null, null, null, null, null, null, null, null, null, null, null, null, null, null, null, null, null, null, null, null, null, null]]}],                        {\"autosize\": false, \"height\": 800, \"margin\": {\"b\": 65, \"l\": 65, \"r\": 50, \"t\": 90}, \"template\": {\"data\": {\"bar\": [{\"error_x\": {\"color\": \"#2a3f5f\"}, \"error_y\": {\"color\": \"#2a3f5f\"}, \"marker\": {\"line\": {\"color\": \"#E5ECF6\", \"width\": 0.5}}, \"type\": \"bar\"}], \"barpolar\": [{\"marker\": {\"line\": {\"color\": \"#E5ECF6\", \"width\": 0.5}}, \"type\": \"barpolar\"}], \"carpet\": [{\"aaxis\": {\"endlinecolor\": \"#2a3f5f\", \"gridcolor\": \"white\", \"linecolor\": \"white\", \"minorgridcolor\": \"white\", \"startlinecolor\": \"#2a3f5f\"}, \"baxis\": {\"endlinecolor\": \"#2a3f5f\", \"gridcolor\": \"white\", \"linecolor\": \"white\", \"minorgridcolor\": \"white\", \"startlinecolor\": \"#2a3f5f\"}, \"type\": \"carpet\"}], \"choropleth\": [{\"colorbar\": {\"outlinewidth\": 0, \"ticks\": \"\"}, \"type\": \"choropleth\"}], \"contour\": [{\"colorbar\": {\"outlinewidth\": 0, \"ticks\": \"\"}, \"colorscale\": [[0.0, \"#0d0887\"], [0.1111111111111111, \"#46039f\"], [0.2222222222222222, \"#7201a8\"], [0.3333333333333333, \"#9c179e\"], [0.4444444444444444, \"#bd3786\"], [0.5555555555555556, \"#d8576b\"], [0.6666666666666666, \"#ed7953\"], [0.7777777777777778, \"#fb9f3a\"], [0.8888888888888888, \"#fdca26\"], [1.0, \"#f0f921\"]], \"type\": \"contour\"}], \"contourcarpet\": [{\"colorbar\": {\"outlinewidth\": 0, \"ticks\": \"\"}, \"type\": \"contourcarpet\"}], \"heatmap\": [{\"colorbar\": {\"outlinewidth\": 0, \"ticks\": \"\"}, \"colorscale\": [[0.0, \"#0d0887\"], [0.1111111111111111, \"#46039f\"], [0.2222222222222222, \"#7201a8\"], [0.3333333333333333, \"#9c179e\"], [0.4444444444444444, \"#bd3786\"], [0.5555555555555556, \"#d8576b\"], [0.6666666666666666, \"#ed7953\"], [0.7777777777777778, \"#fb9f3a\"], [0.8888888888888888, \"#fdca26\"], [1.0, \"#f0f921\"]], \"type\": \"heatmap\"}], \"heatmapgl\": [{\"colorbar\": {\"outlinewidth\": 0, \"ticks\": \"\"}, \"colorscale\": [[0.0, \"#0d0887\"], [0.1111111111111111, \"#46039f\"], [0.2222222222222222, \"#7201a8\"], [0.3333333333333333, \"#9c179e\"], [0.4444444444444444, \"#bd3786\"], [0.5555555555555556, \"#d8576b\"], [0.6666666666666666, \"#ed7953\"], [0.7777777777777778, \"#fb9f3a\"], [0.8888888888888888, \"#fdca26\"], [1.0, \"#f0f921\"]], \"type\": \"heatmapgl\"}], \"histogram\": [{\"marker\": {\"colorbar\": {\"outlinewidth\": 0, \"ticks\": \"\"}}, \"type\": \"histogram\"}], \"histogram2d\": [{\"colorbar\": {\"outlinewidth\": 0, \"ticks\": \"\"}, \"colorscale\": [[0.0, \"#0d0887\"], [0.1111111111111111, \"#46039f\"], [0.2222222222222222, \"#7201a8\"], [0.3333333333333333, \"#9c179e\"], [0.4444444444444444, \"#bd3786\"], [0.5555555555555556, \"#d8576b\"], [0.6666666666666666, \"#ed7953\"], [0.7777777777777778, \"#fb9f3a\"], [0.8888888888888888, \"#fdca26\"], [1.0, \"#f0f921\"]], \"type\": \"histogram2d\"}], \"histogram2dcontour\": [{\"colorbar\": {\"outlinewidth\": 0, \"ticks\": \"\"}, \"colorscale\": [[0.0, \"#0d0887\"], [0.1111111111111111, \"#46039f\"], [0.2222222222222222, \"#7201a8\"], [0.3333333333333333, \"#9c179e\"], [0.4444444444444444, \"#bd3786\"], [0.5555555555555556, \"#d8576b\"], [0.6666666666666666, \"#ed7953\"], [0.7777777777777778, \"#fb9f3a\"], [0.8888888888888888, \"#fdca26\"], [1.0, \"#f0f921\"]], \"type\": \"histogram2dcontour\"}], \"mesh3d\": [{\"colorbar\": {\"outlinewidth\": 0, \"ticks\": \"\"}, \"type\": \"mesh3d\"}], \"parcoords\": [{\"line\": {\"colorbar\": {\"outlinewidth\": 0, \"ticks\": \"\"}}, \"type\": \"parcoords\"}], \"pie\": [{\"automargin\": true, \"type\": \"pie\"}], \"scatter\": [{\"marker\": {\"colorbar\": {\"outlinewidth\": 0, \"ticks\": \"\"}}, \"type\": \"scatter\"}], \"scatter3d\": [{\"line\": {\"colorbar\": {\"outlinewidth\": 0, \"ticks\": \"\"}}, \"marker\": {\"colorbar\": {\"outlinewidth\": 0, \"ticks\": \"\"}}, \"type\": \"scatter3d\"}], \"scattercarpet\": [{\"marker\": {\"colorbar\": {\"outlinewidth\": 0, \"ticks\": \"\"}}, \"type\": \"scattercarpet\"}], \"scattergeo\": [{\"marker\": {\"colorbar\": {\"outlinewidth\": 0, \"ticks\": \"\"}}, \"type\": \"scattergeo\"}], \"scattergl\": [{\"marker\": {\"colorbar\": {\"outlinewidth\": 0, \"ticks\": \"\"}}, \"type\": \"scattergl\"}], \"scattermapbox\": [{\"marker\": {\"colorbar\": {\"outlinewidth\": 0, \"ticks\": \"\"}}, \"type\": \"scattermapbox\"}], \"scatterpolar\": [{\"marker\": {\"colorbar\": {\"outlinewidth\": 0, \"ticks\": \"\"}}, \"type\": \"scatterpolar\"}], \"scatterpolargl\": [{\"marker\": {\"colorbar\": {\"outlinewidth\": 0, \"ticks\": \"\"}}, \"type\": \"scatterpolargl\"}], \"scatterternary\": [{\"marker\": {\"colorbar\": {\"outlinewidth\": 0, \"ticks\": \"\"}}, \"type\": \"scatterternary\"}], \"surface\": [{\"colorbar\": {\"outlinewidth\": 0, \"ticks\": \"\"}, \"colorscale\": [[0.0, \"#0d0887\"], [0.1111111111111111, \"#46039f\"], [0.2222222222222222, \"#7201a8\"], [0.3333333333333333, \"#9c179e\"], [0.4444444444444444, \"#bd3786\"], [0.5555555555555556, \"#d8576b\"], [0.6666666666666666, \"#ed7953\"], [0.7777777777777778, \"#fb9f3a\"], [0.8888888888888888, \"#fdca26\"], [1.0, \"#f0f921\"]], \"type\": \"surface\"}], \"table\": [{\"cells\": {\"fill\": {\"color\": \"#EBF0F8\"}, \"line\": {\"color\": \"white\"}}, \"header\": {\"fill\": {\"color\": \"#C8D4E3\"}, \"line\": {\"color\": \"white\"}}, \"type\": \"table\"}]}, \"layout\": {\"annotationdefaults\": {\"arrowcolor\": \"#2a3f5f\", \"arrowhead\": 0, \"arrowwidth\": 1}, \"coloraxis\": {\"colorbar\": {\"outlinewidth\": 0, \"ticks\": \"\"}}, \"colorscale\": {\"diverging\": [[0, \"#8e0152\"], [0.1, \"#c51b7d\"], [0.2, \"#de77ae\"], [0.3, \"#f1b6da\"], [0.4, \"#fde0ef\"], [0.5, \"#f7f7f7\"], [0.6, \"#e6f5d0\"], [0.7, \"#b8e186\"], [0.8, \"#7fbc41\"], [0.9, \"#4d9221\"], [1, \"#276419\"]], \"sequential\": [[0.0, \"#0d0887\"], [0.1111111111111111, \"#46039f\"], [0.2222222222222222, \"#7201a8\"], [0.3333333333333333, \"#9c179e\"], [0.4444444444444444, \"#bd3786\"], [0.5555555555555556, \"#d8576b\"], [0.6666666666666666, \"#ed7953\"], [0.7777777777777778, \"#fb9f3a\"], [0.8888888888888888, \"#fdca26\"], [1.0, \"#f0f921\"]], \"sequentialminus\": [[0.0, \"#0d0887\"], [0.1111111111111111, \"#46039f\"], [0.2222222222222222, \"#7201a8\"], [0.3333333333333333, \"#9c179e\"], [0.4444444444444444, \"#bd3786\"], [0.5555555555555556, \"#d8576b\"], [0.6666666666666666, \"#ed7953\"], [0.7777777777777778, \"#fb9f3a\"], [0.8888888888888888, \"#fdca26\"], [1.0, \"#f0f921\"]]}, \"colorway\": [\"#636efa\", \"#EF553B\", \"#00cc96\", \"#ab63fa\", \"#FFA15A\", \"#19d3f3\", \"#FF6692\", \"#B6E880\", \"#FF97FF\", \"#FECB52\"], \"font\": {\"color\": \"#2a3f5f\"}, \"geo\": {\"bgcolor\": \"white\", \"lakecolor\": \"white\", \"landcolor\": \"#E5ECF6\", \"showlakes\": true, \"showland\": true, \"subunitcolor\": \"white\"}, \"hoverlabel\": {\"align\": \"left\"}, \"hovermode\": \"closest\", \"mapbox\": {\"style\": \"light\"}, \"paper_bgcolor\": \"white\", \"plot_bgcolor\": \"#E5ECF6\", \"polar\": {\"angularaxis\": {\"gridcolor\": \"white\", \"linecolor\": \"white\", \"ticks\": \"\"}, \"bgcolor\": \"#E5ECF6\", \"radialaxis\": {\"gridcolor\": \"white\", \"linecolor\": \"white\", \"ticks\": \"\"}}, \"scene\": {\"xaxis\": {\"backgroundcolor\": \"#E5ECF6\", \"gridcolor\": \"white\", \"gridwidth\": 2, \"linecolor\": \"white\", \"showbackground\": true, \"ticks\": \"\", \"zerolinecolor\": \"white\"}, \"yaxis\": {\"backgroundcolor\": \"#E5ECF6\", \"gridcolor\": \"white\", \"gridwidth\": 2, \"linecolor\": \"white\", \"showbackground\": true, \"ticks\": \"\", \"zerolinecolor\": \"white\"}, \"zaxis\": {\"backgroundcolor\": \"#E5ECF6\", \"gridcolor\": \"white\", \"gridwidth\": 2, \"linecolor\": \"white\", \"showbackground\": true, \"ticks\": \"\", \"zerolinecolor\": \"white\"}}, \"shapedefaults\": {\"line\": {\"color\": \"#2a3f5f\"}}, \"ternary\": {\"aaxis\": {\"gridcolor\": \"white\", \"linecolor\": \"white\", \"ticks\": \"\"}, \"baxis\": {\"gridcolor\": \"white\", \"linecolor\": \"white\", \"ticks\": \"\"}, \"bgcolor\": \"#E5ECF6\", \"caxis\": {\"gridcolor\": \"white\", \"linecolor\": \"white\", \"ticks\": \"\"}}, \"title\": {\"x\": 0.05}, \"xaxis\": {\"automargin\": true, \"gridcolor\": \"white\", \"linecolor\": \"white\", \"ticks\": \"\", \"title\": {\"standoff\": 15}, \"zerolinecolor\": \"white\", \"zerolinewidth\": 2}, \"yaxis\": {\"automargin\": true, \"gridcolor\": \"white\", \"linecolor\": \"white\", \"ticks\": \"\", \"title\": {\"standoff\": 15}, \"zerolinecolor\": \"white\", \"zerolinewidth\": 2}}}, \"title\": {\"text\": \"Approximate solution of Burgers equation t=0.95\"}, \"width\": 800},                        {\"responsive\": true}                    ).then(function(){\n",
       "                            \n",
       "var gd = document.getElementById('f4b36921-e0a0-49a1-a2bd-856711492223');\n",
       "var x = new MutationObserver(function (mutations, observer) {{\n",
       "        var display = window.getComputedStyle(gd).display;\n",
       "        if (!display || display === 'none') {{\n",
       "            console.log([gd, 'removed!']);\n",
       "            Plotly.purge(gd);\n",
       "            observer.disconnect();\n",
       "        }}\n",
       "}});\n",
       "\n",
       "// Listen for the removal of the full notebook cells\n",
       "var notebookContainer = gd.closest('#notebook-container');\n",
       "if (notebookContainer) {{\n",
       "    x.observe(notebookContainer, {childList: true});\n",
       "}}\n",
       "\n",
       "// Listen for the clearing of the current output cell\n",
       "var outputEl = gd.closest('.output');\n",
       "if (outputEl) {{\n",
       "    x.observe(outputEl, {childList: true});\n",
       "}}\n",
       "\n",
       "                        })                };                });            </script>        </div>"
      ]
     },
     "metadata": {},
     "output_type": "display_data"
    }
   ],
   "source": [
    "fig = go.Figure(data=[go.Surface(z=zi, x=xi, y=yi)])\n",
    "fig.update_layout(title='Approximate solution of Burgers equation t=0.95', autosize=False,\n",
    "                  width=800, height=800,\n",
    "                  margin=dict(l=65, r=50, b=65, t=90))\n",
    "\n",
    "fig.update_traces(contours_z=dict(show=True, usecolormap=True,\n",
    "                                  highlightcolor=\"limegreen\", project_z=True), colorscale=\"viridis\")\n",
    "\n",
    "fig.show()"
   ]
  },
  {
   "cell_type": "code",
   "execution_count": null,
   "metadata": {},
   "outputs": [],
   "source": []
  }
 ],
 "metadata": {
  "interpreter": {
   "hash": "d77697815d4265ed8aea6c9072aebcc1fd7d3b7c82495dbb54be4f3932164dd9"
  },
  "kernelspec": {
   "display_name": "Python 3",
   "language": "python",
   "name": "python3"
  },
  "language_info": {
   "codemirror_mode": {
    "name": "ipython",
    "version": 3
   },
   "file_extension": ".py",
   "mimetype": "text/x-python",
   "name": "python",
   "nbconvert_exporter": "python",
   "pygments_lexer": "ipython3",
   "version": "3.7.3"
  }
 },
 "nbformat": 4,
 "nbformat_minor": 2
}

{
 "cells": [
  {
   "cell_type": "code",
   "execution_count": null,
   "metadata": {},
   "outputs": [],
   "source": [
    "import json\n",
    "\n",
    "import os\n",
    "\n",
    "import glob\n",
    "import numpy as np\n",
    "from scipy.interpolate import griddata\n",
    "import matplotlib.pyplot as plt\n",
    "\n",
    "from mpl_toolkits.axes_grid1 import make_axes_locatable\n",
    "import plotly.graph_objects as go\n",
    "\n",
    "import ipywidgets as widgets\n",
    "from ipywidgets import interact, interact_manual\n",
    "\n",
    "from analytical_solution import *\n",
    "\n",
    "from plotly.subplots import make_subplots"
   ]
  },
  {
   "cell_type": "code",
   "execution_count": null,
   "metadata": {},
   "outputs": [],
   "source": [
    "path_data = os.path.join(os.getcwd(), 'data/simulations')"
   ]
  },
  {
   "cell_type": "code",
   "execution_count": null,
   "metadata": {},
   "outputs": [],
   "source": [
    "glob.glob(os.path.join(path_data) + '/*')"
   ]
  },
  {
   "cell_type": "code",
   "execution_count": null,
   "metadata": {},
   "outputs": [],
   "source": [
    "with open(os.path.join(os.path.join(path_data), 'test.json'), 'r') as f:\n",
    "#with open(os.path.join(os.path.join(path_data), 'solution_TPS_Mi_500_Mb_52_nu_0.02_Hermite.json'), 'r') as f:\n",
    "    dataTPS500 = json.load(f)"
   ]
  },
  {
   "cell_type": "code",
   "execution_count": null,
   "metadata": {},
   "outputs": [],
   "source": [
    "nu = dataTPS500['nu']\n",
    "rbf = dataTPS500['RBF']\n",
    "Mi = np.array(dataTPS500['points']['Interior'])\n",
    "#Mb = np.array(dataTPS500['points']['boundary'])\n",
    "uh_t = dataTPS500['solution']"
   ]
  },
  {
   "cell_type": "code",
   "execution_count": null,
   "metadata": {},
   "outputs": [],
   "source": [
    "def sol_uh(Mi, uh_t, t, j=0):\n",
    "    X = Mi.copy()\n",
    "    # data coordinates and values\n",
    "    x = X[:,0]\n",
    "    y = X[:,1]\n",
    "    z = np.array(uh_t[t])[:, j]\n",
    "\n",
    "    # target grid to interpolate to\n",
    "    xi = yi = np.arange(0, 1, 1/(X.shape[0]))\n",
    "    xi,yi = np.meshgrid(xi,yi)\n",
    "\n",
    "    # set mask\n",
    "    #mask = np.sqrt((xi - domain.c_x)**2 + (yi - domain.c_y)**2) < domain.radius\n",
    "\n",
    "    # interpolate\n",
    "    zi = griddata((x,y),z,(xi,yi), method='cubic')\n",
    "\n",
    "    # mask out the field\n",
    "    #zi[mask] = np.nan\n",
    "\n",
    "    # plot\n",
    "    fig = plt.figure(figsize=(10,10))\n",
    "    ax = fig.add_subplot(111)\n",
    "    im = plt.contourf(xi,yi,zi)\n",
    "    plt.plot(x,y,'k.')\n",
    "    plt.xlabel('$x$')\n",
    "    plt.ylabel('$y$')\n",
    "    divider = make_axes_locatable(ax)\n",
    "    cax = divider.append_axes(\"right\", size=\"5%\", pad=0.05)\n",
    "\n",
    "    plt.colorbar(im, cax=cax)\n",
    "    #plt.clim(0.48, 0.76)\n",
    "    #plt.savefig('interpolated.png',dpi=100)\n",
    "    plt.show()"
   ]
  },
  {
   "cell_type": "code",
   "execution_count": null,
   "metadata": {},
   "outputs": [],
   "source": [
    "@interact\n",
    "def show_solution(t=(0, 10, 1)):\n",
    "    return sol_uh(Mi, uh_t, str(t/10), j=0)"
   ]
  },
  {
   "cell_type": "code",
   "execution_count": null,
   "metadata": {},
   "outputs": [],
   "source": [
    "def error_u(Mi, uht, nu):\n",
    "    X = Mi.copy()\n",
    "    U_dict = dict()\n",
    "    U_obj = exact_solution(X, nu)\n",
    "    U_sol = dict()\n",
    "    for t in uht.keys():\n",
    "        my_U = U_obj.u(float(t))\n",
    "        U_sol[t] = my_U\n",
    "        r = np.linalg.norm(my_U - np.array(uht[t]), axis=-1)\n",
    "        U_dict[t] = r.reshape(-1,1).tolist() #U_obj.u(float(t)).tolist()\n",
    "\n",
    "    return U_dict, U_sol"
   ]
  },
  {
   "cell_type": "code",
   "execution_count": null,
   "metadata": {},
   "outputs": [],
   "source": [
    "U_e, U_s = error_u(Mi, uh_t, nu)"
   ]
  },
  {
   "cell_type": "code",
   "execution_count": null,
   "metadata": {},
   "outputs": [],
   "source": [
    "@interact\n",
    "def show_solution(t=(0, 10, 1)):\n",
    "    return sol_uh(Mi, U_s, str(t/10), j=0)"
   ]
  },
  {
   "cell_type": "code",
   "execution_count": null,
   "metadata": {},
   "outputs": [],
   "source": [
    "X = Mi.copy()\n",
    "my_t = '0.1'\n",
    "\n",
    "# data coordinates and values\n",
    "x = X[:,0]\n",
    "y = X[:,1]\n",
    "z = np.array(U_e[my_t])[:, 0]\n",
    "\n",
    "# target grid to interpolate to\n",
    "xi = yi = np.arange(0, 1, 1/(X.shape[0]))\n",
    "xi,yi = np.meshgrid(xi,yi)\n",
    "\n",
    "# set mask\n",
    "#mask = np.sqrt((xi - domain.c_x)**2 + (yi - domain.c_y)**2) < domain.radius\n",
    "\n",
    "# interpolate\n",
    "zi = griddata((x,y),z,(xi,yi), method='cubic')\n",
    "\n",
    "# mask out the field\n",
    "#zi[mask] = np.nan\n",
    "\n",
    "# plot\n",
    "fig = plt.figure(figsize=(10,10))\n",
    "ax = fig.add_subplot(111)\n",
    "im = plt.contourf(xi,yi,zi)\n",
    "plt.plot(x,y,'k.')\n",
    "plt.xlabel('$x$')\n",
    "plt.ylabel('$y$')\n",
    "divider = make_axes_locatable(ax)\n",
    "cax = divider.append_axes(\"right\", size=\"5%\", pad=0.05)\n",
    "\n",
    "plt.colorbar(im, cax=cax)\n",
    "#plt.savefig('interpolated.png',dpi=100)\n",
    "plt.show()\n"
   ]
  },
  {
   "cell_type": "code",
   "execution_count": null,
   "metadata": {},
   "outputs": [],
   "source": [
    "\n",
    "fig = go.Figure(data=[go.Surface(z=zi, x=xi, y=yi)])\n",
    "fig.update_layout(title='Approximate solution o.f Burgers equation t={}'.format(my_t), autosize=False,\n",
    "                  width=800, height=800,\n",
    "                  margin=dict(l=65, r=50, b=65, t=90))\n",
    "\n",
    "fig.update_traces(contours_z=dict(show=True, usecolormap=True,\n",
    "                                  highlightcolor=\"limegreen\", project_z=True), colorscale=\"viridis\")\n",
    "\n",
    "fig.show()"
   ]
  },
  {
   "cell_type": "code",
   "execution_count": null,
   "metadata": {},
   "outputs": [],
   "source": [
    "class get_metrics(object):\n",
    "\n",
    "    def __init__(self, Mi, nu, uh, *args, **kwargs):\n",
    "        self.X = Mi.copy()\n",
    "        self.x = self.X[:, 0]  # Plot error 2D\n",
    "        self.y = self.X[:, 1]  # Plot error 2D\n",
    "        self.xi, self.yi = np.meshgrid(np.arange(\n",
    "            0, 1, 1/(self.X.shape[0])), np.arange(0, 1, 1/(self.X.shape[0])))  # Plot error 2D\n",
    "        # self.mask = np.sqrt((self.xi - self.domain.c_x)**2 + (self.yi - self.domain.c_y)**2) < self.domain.radius #Plot error 2D\n",
    "        self.nu = nu\n",
    "        self.uh = uh\n",
    "        self.errorl2_dict = dict()\n",
    "        self.errorinf_dict = dict()\n",
    "        self.solution_u = dict()\n",
    "        self.error_dict = dict()\n",
    "\n",
    "    def calculate_errors(self):\n",
    "        U_obj = exact_solution(self.X, self.nu)\n",
    "        for t in self.uh.keys():\n",
    "            my_U = U_obj.u(float(t))\n",
    "            self.solution_u[t] = my_U\n",
    "            errorp2p = abs(my_U - np.array(self.uh[t]))/my_U * 1e-2\n",
    "            error_l2 = np.linalg.norm(\n",
    "                my_U - np.array(self.uh[t]), axis=0, )/np.linalg.norm(my_U, axis=0)\n",
    "            self.errorl2_dict[t] = error_l2.tolist()\n",
    "            error_inf = np.linalg.norm(\n",
    "                my_U - np.array(self.uh[t]), axis=0, ord=np.inf)/np.linalg.norm(my_U, axis=0, ord=np.inf)\n",
    "            self.errorinf_dict[t] = error_inf.tolist()\n",
    "            self.error_dict[t] = errorp2p.tolist()\n",
    "\n",
    "    def plot_error_2D(self, t, j=0):\n",
    "        z = np.array(self.error_dict[t])[:, j]\n",
    "        # target grid to interpolate t\n",
    "\n",
    "        # interpolate\n",
    "        zi = griddata((self.x, self.y), z, (self.xi, self.yi), method='cubic')\n",
    "\n",
    "        # mask out the field\n",
    "        #zi[self.mask] = np.nan\n",
    "\n",
    "        # plot\n",
    "        fig = plt.figure(figsize=(10, 10))\n",
    "        ax = fig.add_subplot(111)\n",
    "        im = plt.contourf(self.xi, self.yi, zi)\n",
    "        plt.plot(self.x, self.y, 'k.')\n",
    "        plt.xlabel('$x$')\n",
    "        plt.ylabel('$y$')\n",
    "        divider = make_axes_locatable(ax)\n",
    "        cax = divider.append_axes(\"right\", size=\"5%\", pad=0.05)\n",
    "        plt.colorbar(im, cax=cax)\n",
    "        #plt.clim(0.48, 0.76)\n",
    "        # plt.savefig('interpolated.png',dpi=100)\n",
    "        plt.show()\n",
    "\n",
    "    def plot_solutions_3D(self, t, j=0, t_label=None):\n",
    "\n",
    "        fig = make_subplots(rows=1, cols=2, specs=[\n",
    "            [\n",
    "                {'type': 'surface'},\n",
    "                {'type': 'surface'}\n",
    "            ]\n",
    "        ],\n",
    "        )\n",
    "\n",
    "        z_u = np.array(self.solution_u[t])[:, j]\n",
    "        zi_u = griddata((self.x, self.y), z_u,\n",
    "                        (self.xi, self.yi), method='cubic')\n",
    "        fig_u = go.Surface(z=zi_u, x=self.xi, y=self.yi, showscale=False)\n",
    "        # fig_u.update_traces(contours_z=dict(show=True, usecolormap=True,\n",
    "        #                                 highlightcolor=\"limegreen\", project_z=True), colorscale=\"viridis\")\n",
    "\n",
    "        z_uh = np.array(self.uh[t])[:, j]\n",
    "        zi_uh = griddata((self.x, self.y), z_uh,\n",
    "                         (self.xi, self.yi), method='cubic')\n",
    "        fig_uh = go.Surface(z=zi_uh, x=self.xi, y=self.yi)\n",
    "        # fig_uh.update_traces(contours_z=dict(show=True, usecolormap=True,\n",
    "        #                                 highlightcolor=\"limegreen\", project_z=True), colorscale=\"viridis\")\n",
    "\n",
    "        fig.add_trace(fig_u, row=1, col=1)\n",
    "        fig.add_trace(fig_uh, row=1, col=2)\n",
    "\n",
    "        fig.update_traces(contours_z=dict(show=True,\n",
    "                                          usecolormap=True,\n",
    "                                          highlightcolor=\"limegreen\",\n",
    "                                          project_z=True),\n",
    "                          colorscale=\"viridis\")\n",
    "\n",
    "        fig.update_layout(title='Approximate solution of Burgers equation t={}'.format(t),\n",
    "                          # autosize=False,\n",
    "                          width=1000,\n",
    "                          # height=800,\n",
    "                          margin=dict(l=0, r=0, b=10, t=50)\n",
    "                          )\n",
    "\n",
    "        fig.show()\n",
    "\n",
    "        # fig2 = go.Figure(data=[fig_u, fig_uh])\n",
    "\n",
    "        # fig2.show()\n"
   ]
  },
  {
   "cell_type": "code",
   "execution_count": null,
   "metadata": {},
   "outputs": [],
   "source": [
    "U = get_metrics(Mi, nu, uh_t)\n",
    "U.calculate_errors()"
   ]
  },
  {
   "cell_type": "code",
   "execution_count": null,
   "metadata": {},
   "outputs": [],
   "source": [
    "t='0.1'\n",
    "U.plot_error_2D(t, j=0)\n",
    "U.plot_solutions_3D(t)"
   ]
  },
  {
   "cell_type": "code",
   "execution_count": null,
   "metadata": {},
   "outputs": [],
   "source": []
  },
  {
   "cell_type": "code",
   "execution_count": null,
   "metadata": {},
   "outputs": [],
   "source": []
  }
 ],
 "metadata": {
  "interpreter": {
   "hash": "d77697815d4265ed8aea6c9072aebcc1fd7d3b7c82495dbb54be4f3932164dd9"
  },
  "kernelspec": {
   "display_name": "Python 3.7.6 64-bit ('.env': virtualenv)",
   "name": "python3"
  },
  "language_info": {
   "codemirror_mode": {
    "name": "ipython",
    "version": 3
   },
   "file_extension": ".py",
   "mimetype": "text/x-python",
   "name": "python",
   "nbconvert_exporter": "python",
   "pygments_lexer": "ipython3",
   "version": "3.9.10"
  },
  "orig_nbformat": 4
 },
 "nbformat": 4,
 "nbformat_minor": 2
}

{
 "cells": [
  {
   "cell_type": "code",
   "execution_count": 53,
   "metadata": {},
   "outputs": [],
   "source": [
    "import json\n",
    "import numpy as np\n",
    "from scipy.interpolate import griddata\n",
    "import matplotlib.pyplot as plt\n",
    "\n",
    "from mpl_toolkits.axes_grid1 import make_axes_locatable\n",
    "\n",
    "import ipywidgets as widgets\n",
    "from ipywidgets import interact, interact_manual"
   ]
  },
  {
   "cell_type": "code",
   "execution_count": 73,
   "metadata": {},
   "outputs": [],
   "source": [
    "with open('solution_TPS_Mi_500_Mb_52_nu_0.01_Hermite.json', 'r') as f:\n",
    "    dataTPS500 = json.load(f)"
   ]
  },
  {
   "cell_type": "code",
   "execution_count": 74,
   "metadata": {},
   "outputs": [],
   "source": [
    "nu = dataTPS500['nu']\n",
    "rbf = dataTPS500['RBF']\n",
    "Mi = np.array(dataTPS500['points']['Interior'])\n",
    "Mb = np.array(dataTPS500['points']['boundary'])\n",
    "uh_t = dataTPS500['solution']"
   ]
  },
  {
   "cell_type": "code",
   "execution_count": 75,
   "metadata": {},
   "outputs": [],
   "source": [
    "def sol_uh(Mi, uh_t, t, j=0):\n",
    "    X = Mi.copy()\n",
    "    # data coordinates and values\n",
    "    x = X[:,0]\n",
    "    y = X[:,1]\n",
    "    z = np.array(uh_t[t])[:, j]\n",
    "\n",
    "    # target grid to interpolate to\n",
    "    xi = yi = np.arange(0, 1, 1/(X.shape[0]))\n",
    "    xi,yi = np.meshgrid(xi,yi)\n",
    "\n",
    "    # set mask\n",
    "    #mask = np.sqrt((xi - domain.c_x)**2 + (yi - domain.c_y)**2) < domain.radius\n",
    "\n",
    "    # interpolate\n",
    "    zi = griddata((x,y),z,(xi,yi), method='cubic')\n",
    "\n",
    "    # mask out the field\n",
    "    #zi[mask] = np.nan\n",
    "\n",
    "    # plot\n",
    "    fig = plt.figure(figsize=(10,10))\n",
    "    ax = fig.add_subplot(111)\n",
    "    im = plt.contourf(xi,yi,zi)\n",
    "    plt.plot(x,y,'k.')\n",
    "    plt.xlabel('$x$')\n",
    "    plt.ylabel('$y$')\n",
    "    divider = make_axes_locatable(ax)\n",
    "    cax = divider.append_axes(\"right\", size=\"5%\", pad=0.05)\n",
    "\n",
    "    plt.colorbar(im, cax=cax)\n",
    "    plt.clim(0.48, 0.76)\n",
    "    #plt.savefig('interpolated.png',dpi=100)\n",
    "    plt.show()"
   ]
  },
  {
   "cell_type": "code",
   "execution_count": 76,
   "metadata": {},
   "outputs": [
    {
     "data": {
      "application/vnd.jupyter.widget-view+json": {
       "model_id": "b5fb9834b6944de0a8c856971333b1c4",
       "version_major": 2,
       "version_minor": 0
      },
      "text/plain": [
       "interactive(children=(IntSlider(value=5, description='t', max=10), Output()), _dom_classes=('widget-interact',…"
      ]
     },
     "metadata": {},
     "output_type": "display_data"
    }
   ],
   "source": [
    "@interact\n",
    "def show_solution(t=(0, 10, 1)):\n",
    "    return sol_uh(Mi, uh_t, str(t/10), j=0)"
   ]
  },
  {
   "cell_type": "code",
   "execution_count": null,
   "metadata": {},
   "outputs": [],
   "source": []
  }
 ],
 "metadata": {
  "kernelspec": {
   "display_name": "Python 3",
   "language": "python",
   "name": "python3"
  },
  "language_info": {
   "codemirror_mode": {
    "name": "ipython",
    "version": 3
   },
   "file_extension": ".py",
   "mimetype": "text/x-python",
   "name": "python",
   "nbconvert_exporter": "python",
   "pygments_lexer": "ipython3",
   "version": "3.7.3"
  }
 },
 "nbformat": 4,
 "nbformat_minor": 2
}

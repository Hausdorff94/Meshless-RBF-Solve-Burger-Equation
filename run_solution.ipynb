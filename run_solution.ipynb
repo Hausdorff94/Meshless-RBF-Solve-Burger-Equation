{
 "cells": [
  {
   "cell_type": "code",
   "execution_count": 1,
   "source": [
    "import matplotlib.pyplot as plt\r\n",
    "import pandas as pd\r\n",
    "import seaborn as sns\r\n",
    "import numpy as np\r\n",
    "\r\n",
    "from halton_points import HaltonPoints\r\n",
    "from function_Fm import *\r\n",
    "from explicit_RK import *"
   ],
   "outputs": [],
   "metadata": {}
  },
  {
   "cell_type": "markdown",
   "source": [
    "## Boundary"
   ],
   "metadata": {}
  },
  {
   "cell_type": "code",
   "execution_count": 2,
   "source": [
    "nf = 18\r\n",
    "r = HaltonPoints(2, nf).haltonPoints()\r\n",
    "fxl = r.copy()\r\n",
    "fxl[:, 0] = 0\r\n",
    "fxr = r.copy()\r\n",
    "fxr[:, 0] = 1\r\n",
    "fyu = r.copy()\r\n",
    "fyu[:, 1] = 0\r\n",
    "fyd = r.copy()\r\n",
    "fyd[:, 1] = 1\r\n",
    "Mb = np.vstack((fxl, fxr, fyu, fyd))\r\n",
    "\r\n",
    "boundary_points = pd.DataFrame(Mb, columns=['x', 'y'])\r\n",
    "boundary_points['Collocation'] = 'Boundary'"
   ],
   "outputs": [],
   "metadata": {}
  },
  {
   "cell_type": "markdown",
   "source": [
    "## Interior"
   ],
   "metadata": {}
  },
  {
   "cell_type": "code",
   "execution_count": 3,
   "source": [
    "poly_b = np.array([[-1, -1, 1], [1/2, 3/2, -1], [3/2, 1/8, -3/8]])\r\n",
    "npnts = 7\r\n",
    "t0, te = 0, 1.\r\n",
    "N = 200\r\n",
    "timegrid = np.linspace(0, 1)  # np.linspace(t0,te, N)\r\n",
    "\r\n",
    "uh = assembled_matrix(Mb=Mb, npnts=npnts, poly_b=poly_b, rbf='MQ')\r\n",
    "X0 = uh.X_0()\r\n",
    "\r\n",
    "interior_points = pd.DataFrame(uh.Mi, columns=['x', 'y'])\r\n",
    "interior_points['Collocation'] = 'Interior'"
   ],
   "outputs": [],
   "metadata": {}
  },
  {
   "cell_type": "code",
   "execution_count": 4,
   "source": [
    "points = pd.concat([interior_points, boundary_points])\r\n",
    "plt.figure(figsize=(8,8))\r\n",
    "sns.scatterplot(x='x', y='y', data=points, hue='Collocation', style='Collocation', palette='Set2')\r\n",
    "plt.legend(bbox_to_anchor=(1.01, 1), loc=2, borderaxespad=0.)"
   ],
   "outputs": [
    {
     "output_type": "execute_result",
     "data": {
      "text/plain": [
       "<matplotlib.legend.Legend at 0x2199b7d25e0>"
      ]
     },
     "metadata": {},
     "execution_count": 4
    },
    {
     "output_type": "display_data",
     "data": {
      "text/plain": [
       "<Figure size 576x576 with 1 Axes>"
      ],
      "image/png": "[encoded data removed]"
     },
     "metadata": {
      "needs_background": "light"
     }
    }
   ],
   "metadata": {}
  },
  {
   "cell_type": "code",
   "execution_count": 5,
   "source": [
    "exp_RK = explicit_RungeKutta(Fm, X0, t0, te, N, uh)"
   ],
   "outputs": [],
   "metadata": {}
  },
  {
   "cell_type": "code",
   "execution_count": 6,
   "source": [
    "exp_RK.solve()"
   ],
   "outputs": [
    {
     "output_type": "stream",
     "name": "stderr",
     "text": [
      "d:\\projects\\MSc Thesis\\expressions.py:265: RuntimeWarning: overflow encountered in matmul\n",
      "  return np.matmul(self.nu * self.lap_am().T - np.matmul(self.mu * self.a_m().T, np.matmul(X0, self.grad_am().T)), X0)\n",
      "d:\\projects\\MSc Thesis\\expressions.py:265: RuntimeWarning: invalid value encountered in matmul\n",
      "  return np.matmul(self.nu * self.lap_am().T - np.matmul(self.mu * self.a_m().T, np.matmul(X0, self.grad_am().T)), X0)\n"
     ]
    }
   ],
   "metadata": {}
  },
  {
   "cell_type": "code",
   "execution_count": 10,
   "source": [
    "exp_RK.solution[0]"
   ],
   "outputs": [
    {
     "output_type": "execute_result",
     "data": {
      "text/plain": [
       "array([[ 5.00000000e-01,  5.30287619e-17],\n",
       "       [-3.53553391e-01,  6.12372436e-01],\n",
       "       [ 6.64463024e-01, -2.41844763e-01],\n",
       "       [ 6.64522807e-02,  9.09843726e-01],\n",
       "       [-7.07732782e-01, -2.45984169e-01],\n",
       "       [ 7.07732782e-01,  2.45984169e-01],\n",
       "       [-6.64522807e-02, -9.09843726e-01]])"
      ]
     },
     "metadata": {},
     "execution_count": 10
    }
   ],
   "metadata": {}
  },
  {
   "cell_type": "code",
   "execution_count": null,
   "source": [
    "def plot_solution(M, Mi, i):\r\n",
    "    n = int(M.shape[0]/Mi.shape[0])\r\n",
    "    df_i = pd.DataFrame()\r\n",
    "    for ind in range(n):\r\n",
    "        df_i = pd.concat([df_i, pd.DataFrame(Mi, columns=['x', 'y'])])\r\n",
    "    df_i = df_i.reset_index().rename(columns={'index': 'i'})\r\n",
    "    df = pd.DataFrame(M, columns=['u', 'v', 't'])\r\n",
    "    df = pd.concat([df_i, df], axis=1)\r\n",
    "    dff = df.loc[df['i'] == i]\r\n",
    "    plt.figure(figsize=(8, 8))\r\n",
    "    sns.lineplot(x='t', y='u', data=dff)\r\n",
    "    return df\r\n",
    "\r\n",
    "def u(Mi, norm_x, t, alpha=1):\r\n",
    "    return Mi/((t+alpha) + (t+alpha)**2 * np.exp(norm_x**2/(4*(alpha +t))))"
   ],
   "outputs": [],
   "metadata": {}
  },
  {
   "cell_type": "markdown",
   "source": [
    "## Exact solution"
   ],
   "metadata": {}
  },
  {
   "cell_type": "code",
   "execution_count": null,
   "source": [
    "norm_x = np.linalg.norm(uh.Mi, axis=1).reshape(-1,1)\r\n",
    "ni = uh.Mi.shape[0]\r\n",
    "u0= u(uh.Mi, norm_x, 0.)\r\n",
    "u0 = np.hstack((u0, np.array([0.]*ni).reshape(-1,1)))\r\n",
    "for t in timegrid[1:]:\r\n",
    "    ui= u(uh.Mi, norm_x, t)\r\n",
    "    ui = np.hstack((ui, np.array([t]*ni).reshape(-1,1)))\r\n",
    "    u0 = np.vstack((u0, ui))\r\n",
    "\r\n",
    "exact_sol = plot_solution(u0, uh.Mi, 0)"
   ],
   "outputs": [],
   "metadata": {}
  },
  {
   "cell_type": "code",
   "execution_count": null,
   "source": [
    "ti = exact_sol.t.unique()[5]\r\n",
    "sol_i = exact_sol[exact_sol['t'] == ti][['u', 'v']].values"
   ],
   "outputs": [],
   "metadata": {}
  },
  {
   "cell_type": "code",
   "execution_count": null,
   "source": [
    "app_u_i = X0 + ti*Fm(X0, uh)\r\n",
    "np.mean(abs(sol_i- app_u_i)[:,0])"
   ],
   "outputs": [],
   "metadata": {}
  },
  {
   "cell_type": "markdown",
   "source": [
    "## Solution"
   ],
   "metadata": {}
  },
  {
   "cell_type": "code",
   "execution_count": null,
   "source": [
    "sol = FDM_time(timegrid, X0, uh)\r\n",
    "for t, s in sol.items():\r\n",
    "    print('Time: {:,.4f}'.format(t))\r\n",
    "    print(s, '\\n')"
   ],
   "outputs": [],
   "metadata": {}
  }
 ],
 "metadata": {
  "orig_nbformat": 4,
  "language_info": {
   "name": "python",
   "version": "3.8.7",
   "mimetype": "text/x-python",
   "codemirror_mode": {
    "name": "ipython",
    "version": 3
   },
   "pygments_lexer": "ipython3",
   "nbconvert_exporter": "python",
   "file_extension": ".py"
  },
  "kernelspec": {
   "name": "python3",
   "display_name": "Python 3.8.7 64-bit ('.env': venv)"
  },
  "interpreter": {
   "hash": "fccb9517d606ba26fe6e3dd53d793bcb80acb520ee7565573cbdc619fa47b8f5"
  }
 },
 "nbformat": 4,
 "nbformat_minor": 2
}
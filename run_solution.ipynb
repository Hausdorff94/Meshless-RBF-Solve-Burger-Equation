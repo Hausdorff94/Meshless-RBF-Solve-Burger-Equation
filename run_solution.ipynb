{
 "cells": [
  {
   "cell_type": "code",
   "execution_count": 1,
   "source": [
    "import matplotlib.pyplot as plt\r\n",
    "import pandas as pd\r\n",
    "import seaborn as sns\r\n",
    "import numpy as np\r\n",
    "\r\n",
    "from halton_points import HaltonPoints\r\n",
    "from function_Fm import *\r\n",
    "from explicit_RK import *"
   ],
   "outputs": [],
   "metadata": {}
  },
  {
   "cell_type": "markdown",
   "source": [
    "## Boundary"
   ],
   "metadata": {}
  },
  {
   "cell_type": "code",
   "execution_count": 2,
   "source": [
    "nf = (2**1+1)**2\r\n",
    "r = HaltonPoints(2, nf).haltonPoints()\r\n",
    "fxl = r.copy()\r\n",
    "fxl[:, 0] = 0\r\n",
    "fxr = r.copy()\r\n",
    "fxr[:, 0] = 1\r\n",
    "fyu = r.copy()\r\n",
    "fyu[:, 1] = 0\r\n",
    "fyd = r.copy()\r\n",
    "fyd[:, 1] = 1\r\n",
    "Mb = np.vstack((fxl, fxr, fyu, fyd))\r\n",
    "\r\n",
    "boundary_points = pd.DataFrame(Mb, columns=['x', 'y'])\r\n",
    "boundary_points['Collocation'] = 'Boundary'"
   ],
   "outputs": [],
   "metadata": {}
  },
  {
   "cell_type": "markdown",
   "source": [
    "## Interior"
   ],
   "metadata": {}
  },
  {
   "cell_type": "code",
   "execution_count": 3,
   "source": [
    "poly_b = np.array([[-1, -1, 1], [1/2, 3/2, -1], [3/2, 1/8, -3/8]])\r\n",
    "npnts = (2**3+1)**2\r\n",
    "\r\n",
    "uh = assembled_matrix(Mb=Mb, npnts=npnts, poly_b=poly_b, rbf='TPS')\r\n",
    "X0 = uh.X_0()\r\n",
    "\r\n",
    "interior_points = pd.DataFrame(uh.Mi, columns=['x', 'y'])\r\n",
    "interior_points['Collocation'] = 'Interior'"
   ],
   "outputs": [],
   "metadata": {}
  },
  {
   "cell_type": "code",
   "execution_count": 4,
   "source": [
    "points = pd.concat([interior_points, boundary_points])\r\n",
    "\r\n",
    "stable = stabillity(Mb, npnts)\r\n",
    "qx = stable.qX()\r\n",
    "\r\n",
    "fig, ax = plt.subplots(figsize=(8, 8))\r\n",
    "sns.scatterplot(x='x', y='y', data=points, hue='Collocation',\r\n",
    "                style='Collocation', palette='Set2')\r\n",
    "for hk in points[['x', 'y']].values:\r\n",
    "    c = plt.Circle(hk, qx, fill=False, alpha=0.2, color='b')\r\n",
    "    ax.add_patch(c)\r\n",
    "\r\n",
    "plt.legend(bbox_to_anchor=(1.01, 1), loc=2, borderaxespad=0.);"
   ],
   "outputs": [
    {
     "output_type": "display_data",
     "data": {
      "text/plain": [
       "<Figure size 576x576 with 1 Axes>"
      ],
      "image/svg+xml": "<?xml version=\"1.0\" encoding=\"utf-8\" standalone=\"no\"?>\r\n<!DOCTYPE svg PUBLIC \"-//W3C//DTD SVG 1.1//EN\"\r\n  \"http://www.w3.org/Graphics/SVG/1.1/DTD/svg11.dtd\">\r\n<svg height=\"479.63625pt\" version=\"1.1\" viewBox=\"0 0 586.006188 479.63625\" width=\"586.006188pt\" xmlns=\"http://www.w3.org/2000/svg\" xmlns:xlink=\"http://www.w3.org/1999/xlink\">\r\n <metadata>\r\n  <rdf:RDF xmlns:cc=\"http://creativecommons.org/ns#\" xmlns:dc=\"http://purl.org/dc/elements/1.1/\" xmlns:rdf=\"http://www.w3.org/1999/02/22-rdf-syntax-ns#\">\r\n   <cc:Work>\r\n    <dc:type rdf:resource=\"http://purl.org/dc/dcmitype/StillImage\"/>\r\n    <dc:date>2021-08-25T19:09:33.458148</dc:date>\r\n    <dc:format>image/svg+xml</dc:format>\r\n    <dc:creator>\r\n     <cc:Agent>\r\n      <dc:title>Matplotlib v3.4.2, https://matplotlib.org/</dc:title>\r\n     </cc:Agent>\r\n    </dc:creator>\r\n   </cc:Work>\r\n  </rdf:RDF>\r\n </metadata>\r\n <defs>\r\n  <style type=\"text/css\">*{stroke-linecap:butt;stroke-linejoin:round;}</style>\r\n </defs>\r\n <g id=\"figure_1\">\r\n  <g id=\"patch_1\">\r\n   <path d=\"M 0 479.63625 \r\nL 586.006188 479.63625 \r\nL 586.006188 0 \r\nL 0 0 \r\nz\r\n\" style=\"fill:none;\"/>\r\n  </g>\r\n  <g id=\"axes_1\">\r\n   <g id=\"patch_2\">\r\n    <path d=\"M 43.78125 442.08 \r\nL 490.18125 442.08 \r\nL 490.18125 7.2 \r\nL 43.78125 7.2 \r\nz\r\n\" style=\"fill:#ffffff;\"/>\r\n   </g>\r\n   <g id=\"PathCollection_1\">\r\n    <path clip-path=\"url(#p66033eaeaf)\" d=\"M 266.98125 280.352727 \r\nC 267.776859 280.352727 268.53999 280.036628 269.10257 279.474048 \r\nC 269.665151 278.911467 269.98125 278.148337 269.98125 277.352727 \r\nC 269.98125 276.557118 269.665151 275.793988 269.10257 275.231407 \r\nC 268.53999 274.668826 267.776859 274.352727 266.98125 274.352727 \r\nC 266.185641 274.352727 265.42251 274.668826 264.85993 275.231407 \r\nC 264.297349 275.793988 263.98125 276.557118 263.98125 277.352727 \r\nC 263.98125 278.148337 264.297349 278.911467 264.85993 279.474048 \r\nC 265.42251 280.036628 266.185641 280.352727 266.98125 280.352727 \r\nz\r\n\" style=\"fill:#66c2a5;stroke:#ffffff;stroke-width:0.48;\"/>\r\n    <path clip-path=\"url(#p66033eaeaf)\" d=\"M 185.817614 174.927273 \r\nC 186.613223 174.927273 187.376353 174.611174 187.938934 174.048593 \r\nC 188.501515 173.486012 188.817614 172.722882 188.817614 171.927273 \r\nC 188.817614 171.131663 188.501515 170.368533 187.938934 169.805952 \r\nC 187.376353 169.243372 186.613223 168.927273 185.817614 168.927273 \r\nC 185.022004 168.927273 184.258874 169.243372 183.696293 169.805952 \r\nC 183.133713 170.368533 182.817614 171.131663 182.817614 171.927273 \r\nC 182.817614 172.722882 183.133713 173.486012 183.696293 174.048593 \r\nC 184.258874 174.611174 185.022004 174.927273 185.817614 174.927273 \r\nz\r\n\" style=\"fill:#66c2a5;stroke:#ffffff;stroke-width:0.48;\"/>\r\n    <path clip-path=\"url(#p66033eaeaf)\" d=\"M 348.144886 350.636364 \r\nC 348.940496 350.636364 349.703626 350.320265 350.266207 349.757684 \r\nC 350.828787 349.195103 351.144886 348.431973 351.144886 347.636364 \r\nC 351.144886 346.840754 350.828787 346.077624 350.266207 345.515043 \r\nC 349.703626 344.952463 348.940496 344.636364 348.144886 344.636364 \r\nC 347.349277 344.636364 346.586147 344.952463 346.023566 345.515043 \r\nC 345.460985 346.077624 345.144886 346.840754 345.144886 347.636364 \r\nC 345.144886 348.431973 345.460985 349.195103 346.023566 349.757684 \r\nC 346.586147 350.320265 347.349277 350.636364 348.144886 350.636364 \r\nz\r\n\" style=\"fill:#66c2a5;stroke:#ffffff;stroke-width:0.48;\"/>\r\n    <path clip-path=\"url(#p66033eaeaf)\" d=\"M 103.153977 280.352727 \r\nL 104.653977 278.852727 \r\nL 106.153977 280.352727 \r\nL 107.653977 278.852727 \r\nL 106.153977 277.352727 \r\nL 107.653977 275.852727 \r\nL 106.153977 274.352727 \r\nL 104.653977 275.852727 \r\nL 103.153977 274.352727 \r\nL 101.653977 275.852727 \r\nL 103.153977 277.352727 \r\nL 101.653977 278.852727 \r\nz\r\n\" style=\"fill:#fc8d62;stroke:#ffffff;stroke-width:0.48;\"/>\r\n    <path clip-path=\"url(#p66033eaeaf)\" d=\"M 103.153977 174.927273 \r\nL 104.653977 173.427273 \r\nL 106.153977 174.927273 \r\nL 107.653977 173.427273 \r\nL 106.153977 171.927273 \r\nL 107.653977 170.427273 \r\nL 106.153977 168.927273 \r\nL 104.653977 170.427273 \r\nL 103.153977 168.927273 \r\nL 101.653977 170.427273 \r\nL 103.153977 171.927273 \r\nL 101.653977 173.427273 \r\nz\r\n\" style=\"fill:#fc8d62;stroke:#ffffff;stroke-width:0.48;\"/>\r\n    <path clip-path=\"url(#p66033eaeaf)\" d=\"M 427.808523 280.352727 \r\nL 429.308523 278.852727 \r\nL 430.808523 280.352727 \r\nL 432.308523 278.852727 \r\nL 430.808523 277.352727 \r\nL 432.308523 275.852727 \r\nL 430.808523 274.352727 \r\nL 429.308523 275.852727 \r\nL 427.808523 274.352727 \r\nL 426.308523 275.852727 \r\nL 427.808523 277.352727 \r\nL 426.308523 278.852727 \r\nz\r\n\" style=\"fill:#fc8d62;stroke:#ffffff;stroke-width:0.48;\"/>\r\n    <path clip-path=\"url(#p66033eaeaf)\" d=\"M 427.808523 174.927273 \r\nL 429.308523 173.427273 \r\nL 430.808523 174.927273 \r\nL 432.308523 173.427273 \r\nL 430.808523 171.927273 \r\nL 432.308523 170.427273 \r\nL 430.808523 168.927273 \r\nL 429.308523 170.427273 \r\nL 427.808523 168.927273 \r\nL 426.308523 170.427273 \r\nL 427.808523 171.927273 \r\nL 426.308523 173.427273 \r\nz\r\n\" style=\"fill:#fc8d62;stroke:#ffffff;stroke-width:0.48;\"/>\r\n    <path clip-path=\"url(#p66033eaeaf)\" d=\"M 265.48125 385.778182 \r\nL 266.98125 384.278182 \r\nL 268.48125 385.778182 \r\nL 269.98125 384.278182 \r\nL 268.48125 382.778182 \r\nL 269.98125 381.278182 \r\nL 268.48125 379.778182 \r\nL 266.98125 381.278182 \r\nL 265.48125 379.778182 \r\nL 263.98125 381.278182 \r\nL 265.48125 382.778182 \r\nL 263.98125 384.278182 \r\nz\r\n\" style=\"fill:#fc8d62;stroke:#ffffff;stroke-width:0.48;\"/>\r\n    <path clip-path=\"url(#p66033eaeaf)\" d=\"M 184.317614 385.778182 \r\nL 185.817614 384.278182 \r\nL 187.317614 385.778182 \r\nL 188.817614 384.278182 \r\nL 187.317614 382.778182 \r\nL 188.817614 381.278182 \r\nL 187.317614 379.778182 \r\nL 185.817614 381.278182 \r\nL 184.317614 379.778182 \r\nL 182.817614 381.278182 \r\nL 184.317614 382.778182 \r\nL 182.817614 384.278182 \r\nz\r\n\" style=\"fill:#fc8d62;stroke:#ffffff;stroke-width:0.48;\"/>\r\n    <path clip-path=\"url(#p66033eaeaf)\" d=\"M 265.48125 69.501818 \r\nL 266.98125 68.001818 \r\nL 268.48125 69.501818 \r\nL 269.98125 68.001818 \r\nL 268.48125 66.501818 \r\nL 269.98125 65.001818 \r\nL 268.48125 63.501818 \r\nL 266.98125 65.001818 \r\nL 265.48125 63.501818 \r\nL 263.98125 65.001818 \r\nL 265.48125 66.501818 \r\nL 263.98125 68.001818 \r\nz\r\n\" style=\"fill:#fc8d62;stroke:#ffffff;stroke-width:0.48;\"/>\r\n    <path clip-path=\"url(#p66033eaeaf)\" d=\"M 184.317614 69.501818 \r\nL 185.817614 68.001818 \r\nL 187.317614 69.501818 \r\nL 188.817614 68.001818 \r\nL 187.317614 66.501818 \r\nL 188.817614 65.001818 \r\nL 187.317614 63.501818 \r\nL 185.817614 65.001818 \r\nL 184.317614 63.501818 \r\nL 182.817614 65.001818 \r\nL 184.317614 66.501818 \r\nL 182.817614 68.001818 \r\nz\r\n\" style=\"fill:#fc8d62;stroke:#ffffff;stroke-width:0.48;\"/>\r\n   </g>\r\n   <g id=\"PathCollection_2\"/>\r\n   <g id=\"PathCollection_3\"/>\r\n   <g id=\"patch_3\">\r\n    <path clip-path=\"url(#p66033eaeaf)\" d=\"M 266.98125 316.887273 \r\nC 277.743674 316.887273 288.066746 312.721664 295.676929 305.307872 \r\nC 303.287112 297.894081 307.563068 287.837411 307.563068 277.352727 \r\nC 307.563068 266.868043 303.287112 256.811373 295.676929 249.397582 \r\nC 288.066746 241.983791 277.743674 237.818182 266.98125 237.818182 \r\nC 256.218826 237.818182 245.895754 241.983791 238.285571 249.397582 \r\nC 230.675388 256.811373 226.399432 266.868043 226.399432 277.352727 \r\nC 226.399432 287.837411 230.675388 297.894081 238.285571 305.307872 \r\nC 245.895754 312.721664 256.218826 316.887273 266.98125 316.887273 \r\nz\r\n\" style=\"fill:none;opacity:0.2;stroke:#0000ff;stroke-linejoin:miter;\"/>\r\n   </g>\r\n   <g id=\"patch_4\">\r\n    <path clip-path=\"url(#p66033eaeaf)\" d=\"M 185.817614 211.461818 \r\nC 196.580038 211.461818 206.903109 207.296209 214.513292 199.882418 \r\nC 222.123475 192.468627 226.399432 182.411957 226.399432 171.927273 \r\nC 226.399432 161.442589 222.123475 151.385919 214.513292 143.972128 \r\nC 206.903109 136.558336 196.580038 132.392727 185.817614 132.392727 \r\nC 175.05519 132.392727 164.732118 136.558336 157.121935 143.972128 \r\nC 149.511752 151.385919 145.235795 161.442589 145.235795 171.927273 \r\nC 145.235795 182.411957 149.511752 192.468627 157.121935 199.882418 \r\nC 164.732118 207.296209 175.05519 211.461818 185.817614 211.461818 \r\nz\r\n\" style=\"fill:none;opacity:0.2;stroke:#0000ff;stroke-linejoin:miter;\"/>\r\n   </g>\r\n   <g id=\"patch_5\">\r\n    <path clip-path=\"url(#p66033eaeaf)\" d=\"M 348.144886 387.170909 \r\nC 358.90731 387.170909 369.230382 383.0053 376.840565 375.591509 \r\nC 384.450748 368.177718 388.726705 358.121048 388.726705 347.636364 \r\nC 388.726705 337.15168 384.450748 327.09501 376.840565 319.681218 \r\nC 369.230382 312.267427 358.90731 308.101818 348.144886 308.101818 \r\nC 337.382462 308.101818 327.059391 312.267427 319.449208 319.681218 \r\nC 311.839025 327.09501 307.563068 337.15168 307.563068 347.636364 \r\nC 307.563068 358.121048 311.839025 368.177718 319.449208 375.591509 \r\nC 327.059391 383.0053 337.382462 387.170909 348.144886 387.170909 \r\nz\r\n\" style=\"fill:none;opacity:0.2;stroke:#0000ff;stroke-linejoin:miter;\"/>\r\n   </g>\r\n   <g id=\"patch_6\">\r\n    <path clip-path=\"url(#p66033eaeaf)\" d=\"M 104.653977 316.887273 \r\nC 115.416401 316.887273 125.739473 312.721664 133.349656 305.307872 \r\nC 140.959839 297.894081 145.235795 287.837411 145.235795 277.352727 \r\nC 145.235795 266.868043 140.959839 256.811373 133.349656 249.397582 \r\nC 125.739473 241.983791 115.416401 237.818182 104.653977 237.818182 \r\nC 93.891553 237.818182 83.568481 241.983791 75.958298 249.397582 \r\nC 68.348115 256.811373 64.072159 266.868043 64.072159 277.352727 \r\nC 64.072159 287.837411 68.348115 297.894081 75.958298 305.307872 \r\nC 83.568481 312.721664 93.891553 316.887273 104.653977 316.887273 \r\nz\r\n\" style=\"fill:none;opacity:0.2;stroke:#0000ff;stroke-linejoin:miter;\"/>\r\n   </g>\r\n   <g id=\"patch_7\">\r\n    <path clip-path=\"url(#p66033eaeaf)\" d=\"M 104.653977 211.461818 \r\nC 115.416401 211.461818 125.739473 207.296209 133.349656 199.882418 \r\nC 140.959839 192.468627 145.235795 182.411957 145.235795 171.927273 \r\nC 145.235795 161.442589 140.959839 151.385919 133.349656 143.972128 \r\nC 125.739473 136.558336 115.416401 132.392727 104.653977 132.392727 \r\nC 93.891553 132.392727 83.568481 136.558336 75.958298 143.972128 \r\nC 68.348115 151.385919 64.072159 161.442589 64.072159 171.927273 \r\nC 64.072159 182.411957 68.348115 192.468627 75.958298 199.882418 \r\nC 83.568481 207.296209 93.891553 211.461818 104.653977 211.461818 \r\nz\r\n\" style=\"fill:none;opacity:0.2;stroke:#0000ff;stroke-linejoin:miter;\"/>\r\n   </g>\r\n   <g id=\"patch_8\">\r\n    <path clip-path=\"url(#p66033eaeaf)\" d=\"M 429.308523 316.887273 \r\nC 440.070947 316.887273 450.394019 312.721664 458.004202 305.307872 \r\nC 465.614385 297.894081 469.890341 287.837411 469.890341 277.352727 \r\nC 469.890341 266.868043 465.614385 256.811373 458.004202 249.397582 \r\nC 450.394019 241.983791 440.070947 237.818182 429.308523 237.818182 \r\nC 418.546099 237.818182 408.223027 241.983791 400.612844 249.397582 \r\nC 393.002661 256.811373 388.726705 266.868043 388.726705 277.352727 \r\nC 388.726705 287.837411 393.002661 297.894081 400.612844 305.307872 \r\nC 408.223027 312.721664 418.546099 316.887273 429.308523 316.887273 \r\nz\r\n\" style=\"fill:none;opacity:0.2;stroke:#0000ff;stroke-linejoin:miter;\"/>\r\n   </g>\r\n   <g id=\"patch_9\">\r\n    <path clip-path=\"url(#p66033eaeaf)\" d=\"M 429.308523 211.461818 \r\nC 440.070947 211.461818 450.394019 207.296209 458.004202 199.882418 \r\nC 465.614385 192.468627 469.890341 182.411957 469.890341 171.927273 \r\nC 469.890341 161.442589 465.614385 151.385919 458.004202 143.972128 \r\nC 450.394019 136.558336 440.070947 132.392727 429.308523 132.392727 \r\nC 418.546099 132.392727 408.223027 136.558336 400.612844 143.972128 \r\nC 393.002661 151.385919 388.726705 161.442589 388.726705 171.927273 \r\nC 388.726705 182.411957 393.002661 192.468627 400.612844 199.882418 \r\nC 408.223027 207.296209 418.546099 211.461818 429.308523 211.461818 \r\nz\r\n\" style=\"fill:none;opacity:0.2;stroke:#0000ff;stroke-linejoin:miter;\"/>\r\n   </g>\r\n   <g id=\"patch_10\">\r\n    <path clip-path=\"url(#p66033eaeaf)\" d=\"M 266.98125 422.312727 \r\nC 277.743674 422.312727 288.066746 418.147118 295.676929 410.733327 \r\nC 303.287112 403.319536 307.563068 393.262866 307.563068 382.778182 \r\nC 307.563068 372.293498 303.287112 362.236828 295.676929 354.823037 \r\nC 288.066746 347.409245 277.743674 343.243636 266.98125 343.243636 \r\nC 256.218826 343.243636 245.895754 347.409245 238.285571 354.823037 \r\nC 230.675388 362.236828 226.399432 372.293498 226.399432 382.778182 \r\nC 226.399432 393.262866 230.675388 403.319536 238.285571 410.733327 \r\nC 245.895754 418.147118 256.218826 422.312727 266.98125 422.312727 \r\nz\r\n\" style=\"fill:none;opacity:0.2;stroke:#0000ff;stroke-linejoin:miter;\"/>\r\n   </g>\r\n   <g id=\"patch_11\">\r\n    <path clip-path=\"url(#p66033eaeaf)\" d=\"M 185.817614 422.312727 \r\nC 196.580038 422.312727 206.903109 418.147118 214.513292 410.733327 \r\nC 222.123475 403.319536 226.399432 393.262866 226.399432 382.778182 \r\nC 226.399432 372.293498 222.123475 362.236828 214.513292 354.823037 \r\nC 206.903109 347.409245 196.580038 343.243636 185.817614 343.243636 \r\nC 175.05519 343.243636 164.732118 347.409245 157.121935 354.823037 \r\nC 149.511752 362.236828 145.235795 372.293498 145.235795 382.778182 \r\nC 145.235795 393.262866 149.511752 403.319536 157.121935 410.733327 \r\nC 164.732118 418.147118 175.05519 422.312727 185.817614 422.312727 \r\nz\r\n\" style=\"fill:none;opacity:0.2;stroke:#0000ff;stroke-linejoin:miter;\"/>\r\n   </g>\r\n   <g id=\"patch_12\">\r\n    <path clip-path=\"url(#p66033eaeaf)\" d=\"M 266.98125 106.036364 \r\nC 277.743674 106.036364 288.066746 101.870755 295.676929 94.456963 \r\nC 303.287112 87.043172 307.563068 76.986502 307.563068 66.501818 \r\nC 307.563068 56.017134 303.287112 45.960464 295.676929 38.546673 \r\nC 288.066746 31.132882 277.743674 26.967273 266.98125 26.967273 \r\nC 256.218826 26.967273 245.895754 31.132882 238.285571 38.546673 \r\nC 230.675388 45.960464 226.399432 56.017134 226.399432 66.501818 \r\nC 226.399432 76.986502 230.675388 87.043172 238.285571 94.456963 \r\nC 245.895754 101.870755 256.218826 106.036364 266.98125 106.036364 \r\nz\r\n\" style=\"fill:none;opacity:0.2;stroke:#0000ff;stroke-linejoin:miter;\"/>\r\n   </g>\r\n   <g id=\"patch_13\">\r\n    <path clip-path=\"url(#p66033eaeaf)\" d=\"M 185.817614 106.036364 \r\nC 196.580038 106.036364 206.903109 101.870755 214.513292 94.456963 \r\nC 222.123475 87.043172 226.399432 76.986502 226.399432 66.501818 \r\nC 226.399432 56.017134 222.123475 45.960464 214.513292 38.546673 \r\nC 206.903109 31.132882 196.580038 26.967273 185.817614 26.967273 \r\nC 175.05519 26.967273 164.732118 31.132882 157.121935 38.546673 \r\nC 149.511752 45.960464 145.235795 56.017134 145.235795 66.501818 \r\nC 145.235795 76.986502 149.511752 87.043172 157.121935 94.456963 \r\nC 164.732118 101.870755 175.05519 106.036364 185.817614 106.036364 \r\nz\r\n\" style=\"fill:none;opacity:0.2;stroke:#0000ff;stroke-linejoin:miter;\"/>\r\n   </g>\r\n   <g id=\"matplotlib.axis_1\">\r\n    <g id=\"xtick_1\">\r\n     <g id=\"line2d_1\">\r\n      <defs>\r\n       <path d=\"M 0 0 \r\nL 0 3.5 \r\n\" id=\"mf542640ebe\" style=\"stroke:#000000;stroke-width:0.8;\"/>\r\n      </defs>\r\n      <g>\r\n       <use style=\"stroke:#000000;stroke-width:0.8;\" x=\"104.653977\" xlink:href=\"#mf542640ebe\" y=\"442.08\"/>\r\n      </g>\r\n     </g>\r\n     <g id=\"text_1\">\r\n      <!-- 0.0 -->\r\n      <g transform=\"translate(96.702415 456.678437)scale(0.1 -0.1)\">\r\n       <defs>\r\n        <path d=\"M 2034 4250 \r\nQ 1547 4250 1301 3770 \r\nQ 1056 3291 1056 2328 \r\nQ 1056 1369 1301 889 \r\nQ 1547 409 2034 409 \r\nQ 2525 409 2770 889 \r\nQ 3016 1369 3016 2328 \r\nQ 3016 3291 2770 3770 \r\nQ 2525 4250 2034 4250 \r\nz\r\nM 2034 4750 \r\nQ 2819 4750 3233 4129 \r\nQ 3647 3509 3647 2328 \r\nQ 3647 1150 3233 529 \r\nQ 2819 -91 2034 -91 \r\nQ 1250 -91 836 529 \r\nQ 422 1150 422 2328 \r\nQ 422 3509 836 4129 \r\nQ 1250 4750 2034 4750 \r\nz\r\n\" id=\"DejaVuSans-30\" transform=\"scale(0.015625)\"/>\r\n        <path d=\"M 684 794 \r\nL 1344 794 \r\nL 1344 0 \r\nL 684 0 \r\nL 684 794 \r\nz\r\n\" id=\"DejaVuSans-2e\" transform=\"scale(0.015625)\"/>\r\n       </defs>\r\n       <use xlink:href=\"#DejaVuSans-30\"/>\r\n       <use x=\"63.623047\" xlink:href=\"#DejaVuSans-2e\"/>\r\n       <use x=\"95.410156\" xlink:href=\"#DejaVuSans-30\"/>\r\n      </g>\r\n     </g>\r\n    </g>\r\n    <g id=\"xtick_2\">\r\n     <g id=\"line2d_2\">\r\n      <g>\r\n       <use style=\"stroke:#000000;stroke-width:0.8;\" x=\"169.584886\" xlink:href=\"#mf542640ebe\" y=\"442.08\"/>\r\n      </g>\r\n     </g>\r\n     <g id=\"text_2\">\r\n      <!-- 0.2 -->\r\n      <g transform=\"translate(161.633324 456.678437)scale(0.1 -0.1)\">\r\n       <defs>\r\n        <path d=\"M 1228 531 \r\nL 3431 531 \r\nL 3431 0 \r\nL 469 0 \r\nL 469 531 \r\nQ 828 903 1448 1529 \r\nQ 2069 2156 2228 2338 \r\nQ 2531 2678 2651 2914 \r\nQ 2772 3150 2772 3378 \r\nQ 2772 3750 2511 3984 \r\nQ 2250 4219 1831 4219 \r\nQ 1534 4219 1204 4116 \r\nQ 875 4013 500 3803 \r\nL 500 4441 \r\nQ 881 4594 1212 4672 \r\nQ 1544 4750 1819 4750 \r\nQ 2544 4750 2975 4387 \r\nQ 3406 4025 3406 3419 \r\nQ 3406 3131 3298 2873 \r\nQ 3191 2616 2906 2266 \r\nQ 2828 2175 2409 1742 \r\nQ 1991 1309 1228 531 \r\nz\r\n\" id=\"DejaVuSans-32\" transform=\"scale(0.015625)\"/>\r\n       </defs>\r\n       <use xlink:href=\"#DejaVuSans-30\"/>\r\n       <use x=\"63.623047\" xlink:href=\"#DejaVuSans-2e\"/>\r\n       <use x=\"95.410156\" xlink:href=\"#DejaVuSans-32\"/>\r\n      </g>\r\n     </g>\r\n    </g>\r\n    <g id=\"xtick_3\">\r\n     <g id=\"line2d_3\">\r\n      <g>\r\n       <use style=\"stroke:#000000;stroke-width:0.8;\" x=\"234.515795\" xlink:href=\"#mf542640ebe\" y=\"442.08\"/>\r\n      </g>\r\n     </g>\r\n     <g id=\"text_3\">\r\n      <!-- 0.4 -->\r\n      <g transform=\"translate(226.564233 456.678437)scale(0.1 -0.1)\">\r\n       <defs>\r\n        <path d=\"M 2419 4116 \r\nL 825 1625 \r\nL 2419 1625 \r\nL 2419 4116 \r\nz\r\nM 2253 4666 \r\nL 3047 4666 \r\nL 3047 1625 \r\nL 3713 1625 \r\nL 3713 1100 \r\nL 3047 1100 \r\nL 3047 0 \r\nL 2419 0 \r\nL 2419 1100 \r\nL 313 1100 \r\nL 313 1709 \r\nL 2253 4666 \r\nz\r\n\" id=\"DejaVuSans-34\" transform=\"scale(0.015625)\"/>\r\n       </defs>\r\n       <use xlink:href=\"#DejaVuSans-30\"/>\r\n       <use x=\"63.623047\" xlink:href=\"#DejaVuSans-2e\"/>\r\n       <use x=\"95.410156\" xlink:href=\"#DejaVuSans-34\"/>\r\n      </g>\r\n     </g>\r\n    </g>\r\n    <g id=\"xtick_4\">\r\n     <g id=\"line2d_4\">\r\n      <g>\r\n       <use style=\"stroke:#000000;stroke-width:0.8;\" x=\"299.446705\" xlink:href=\"#mf542640ebe\" y=\"442.08\"/>\r\n      </g>\r\n     </g>\r\n     <g id=\"text_4\">\r\n      <!-- 0.6 -->\r\n      <g transform=\"translate(291.495142 456.678437)scale(0.1 -0.1)\">\r\n       <defs>\r\n        <path d=\"M 2113 2584 \r\nQ 1688 2584 1439 2293 \r\nQ 1191 2003 1191 1497 \r\nQ 1191 994 1439 701 \r\nQ 1688 409 2113 409 \r\nQ 2538 409 2786 701 \r\nQ 3034 994 3034 1497 \r\nQ 3034 2003 2786 2293 \r\nQ 2538 2584 2113 2584 \r\nz\r\nM 3366 4563 \r\nL 3366 3988 \r\nQ 3128 4100 2886 4159 \r\nQ 2644 4219 2406 4219 \r\nQ 1781 4219 1451 3797 \r\nQ 1122 3375 1075 2522 \r\nQ 1259 2794 1537 2939 \r\nQ 1816 3084 2150 3084 \r\nQ 2853 3084 3261 2657 \r\nQ 3669 2231 3669 1497 \r\nQ 3669 778 3244 343 \r\nQ 2819 -91 2113 -91 \r\nQ 1303 -91 875 529 \r\nQ 447 1150 447 2328 \r\nQ 447 3434 972 4092 \r\nQ 1497 4750 2381 4750 \r\nQ 2619 4750 2861 4703 \r\nQ 3103 4656 3366 4563 \r\nz\r\n\" id=\"DejaVuSans-36\" transform=\"scale(0.015625)\"/>\r\n       </defs>\r\n       <use xlink:href=\"#DejaVuSans-30\"/>\r\n       <use x=\"63.623047\" xlink:href=\"#DejaVuSans-2e\"/>\r\n       <use x=\"95.410156\" xlink:href=\"#DejaVuSans-36\"/>\r\n      </g>\r\n     </g>\r\n    </g>\r\n    <g id=\"xtick_5\">\r\n     <g id=\"line2d_5\">\r\n      <g>\r\n       <use style=\"stroke:#000000;stroke-width:0.8;\" x=\"364.377614\" xlink:href=\"#mf542640ebe\" y=\"442.08\"/>\r\n      </g>\r\n     </g>\r\n     <g id=\"text_5\">\r\n      <!-- 0.8 -->\r\n      <g transform=\"translate(356.426051 456.678437)scale(0.1 -0.1)\">\r\n       <defs>\r\n        <path d=\"M 2034 2216 \r\nQ 1584 2216 1326 1975 \r\nQ 1069 1734 1069 1313 \r\nQ 1069 891 1326 650 \r\nQ 1584 409 2034 409 \r\nQ 2484 409 2743 651 \r\nQ 3003 894 3003 1313 \r\nQ 3003 1734 2745 1975 \r\nQ 2488 2216 2034 2216 \r\nz\r\nM 1403 2484 \r\nQ 997 2584 770 2862 \r\nQ 544 3141 544 3541 \r\nQ 544 4100 942 4425 \r\nQ 1341 4750 2034 4750 \r\nQ 2731 4750 3128 4425 \r\nQ 3525 4100 3525 3541 \r\nQ 3525 3141 3298 2862 \r\nQ 3072 2584 2669 2484 \r\nQ 3125 2378 3379 2068 \r\nQ 3634 1759 3634 1313 \r\nQ 3634 634 3220 271 \r\nQ 2806 -91 2034 -91 \r\nQ 1263 -91 848 271 \r\nQ 434 634 434 1313 \r\nQ 434 1759 690 2068 \r\nQ 947 2378 1403 2484 \r\nz\r\nM 1172 3481 \r\nQ 1172 3119 1398 2916 \r\nQ 1625 2713 2034 2713 \r\nQ 2441 2713 2670 2916 \r\nQ 2900 3119 2900 3481 \r\nQ 2900 3844 2670 4047 \r\nQ 2441 4250 2034 4250 \r\nQ 1625 4250 1398 4047 \r\nQ 1172 3844 1172 3481 \r\nz\r\n\" id=\"DejaVuSans-38\" transform=\"scale(0.015625)\"/>\r\n       </defs>\r\n       <use xlink:href=\"#DejaVuSans-30\"/>\r\n       <use x=\"63.623047\" xlink:href=\"#DejaVuSans-2e\"/>\r\n       <use x=\"95.410156\" xlink:href=\"#DejaVuSans-38\"/>\r\n      </g>\r\n     </g>\r\n    </g>\r\n    <g id=\"xtick_6\">\r\n     <g id=\"line2d_6\">\r\n      <g>\r\n       <use style=\"stroke:#000000;stroke-width:0.8;\" x=\"429.308523\" xlink:href=\"#mf542640ebe\" y=\"442.08\"/>\r\n      </g>\r\n     </g>\r\n     <g id=\"text_6\">\r\n      <!-- 1.0 -->\r\n      <g transform=\"translate(421.35696 456.678437)scale(0.1 -0.1)\">\r\n       <defs>\r\n        <path d=\"M 794 531 \r\nL 1825 531 \r\nL 1825 4091 \r\nL 703 3866 \r\nL 703 4441 \r\nL 1819 4666 \r\nL 2450 4666 \r\nL 2450 531 \r\nL 3481 531 \r\nL 3481 0 \r\nL 794 0 \r\nL 794 531 \r\nz\r\n\" id=\"DejaVuSans-31\" transform=\"scale(0.015625)\"/>\r\n       </defs>\r\n       <use xlink:href=\"#DejaVuSans-31\"/>\r\n       <use x=\"63.623047\" xlink:href=\"#DejaVuSans-2e\"/>\r\n       <use x=\"95.410156\" xlink:href=\"#DejaVuSans-30\"/>\r\n      </g>\r\n     </g>\r\n    </g>\r\n    <g id=\"text_7\">\r\n     <!-- x -->\r\n     <g transform=\"translate(264.021875 470.356562)scale(0.1 -0.1)\">\r\n      <defs>\r\n       <path d=\"M 3513 3500 \r\nL 2247 1797 \r\nL 3578 0 \r\nL 2900 0 \r\nL 1881 1375 \r\nL 863 0 \r\nL 184 0 \r\nL 1544 1831 \r\nL 300 3500 \r\nL 978 3500 \r\nL 1906 2253 \r\nL 2834 3500 \r\nL 3513 3500 \r\nz\r\n\" id=\"DejaVuSans-78\" transform=\"scale(0.015625)\"/>\r\n      </defs>\r\n      <use xlink:href=\"#DejaVuSans-78\"/>\r\n     </g>\r\n    </g>\r\n   </g>\r\n   <g id=\"matplotlib.axis_2\">\r\n    <g id=\"ytick_1\">\r\n     <g id=\"line2d_7\">\r\n      <defs>\r\n       <path d=\"M 0 0 \r\nL -3.5 0 \r\n\" id=\"m82f5700df0\" style=\"stroke:#000000;stroke-width:0.8;\"/>\r\n      </defs>\r\n      <g>\r\n       <use style=\"stroke:#000000;stroke-width:0.8;\" x=\"43.78125\" xlink:href=\"#m82f5700df0\" y=\"382.778182\"/>\r\n      </g>\r\n     </g>\r\n     <g id=\"text_8\">\r\n      <!-- 0.0 -->\r\n      <g transform=\"translate(20.878125 386.577401)scale(0.1 -0.1)\">\r\n       <use xlink:href=\"#DejaVuSans-30\"/>\r\n       <use x=\"63.623047\" xlink:href=\"#DejaVuSans-2e\"/>\r\n       <use x=\"95.410156\" xlink:href=\"#DejaVuSans-30\"/>\r\n      </g>\r\n     </g>\r\n    </g>\r\n    <g id=\"ytick_2\">\r\n     <g id=\"line2d_8\">\r\n      <g>\r\n       <use style=\"stroke:#000000;stroke-width:0.8;\" x=\"43.78125\" xlink:href=\"#m82f5700df0\" y=\"319.522909\"/>\r\n      </g>\r\n     </g>\r\n     <g id=\"text_9\">\r\n      <!-- 0.2 -->\r\n      <g transform=\"translate(20.878125 323.322128)scale(0.1 -0.1)\">\r\n       <use xlink:href=\"#DejaVuSans-30\"/>\r\n       <use x=\"63.623047\" xlink:href=\"#DejaVuSans-2e\"/>\r\n       <use x=\"95.410156\" xlink:href=\"#DejaVuSans-32\"/>\r\n      </g>\r\n     </g>\r\n    </g>\r\n    <g id=\"ytick_3\">\r\n     <g id=\"line2d_9\">\r\n      <g>\r\n       <use style=\"stroke:#000000;stroke-width:0.8;\" x=\"43.78125\" xlink:href=\"#m82f5700df0\" y=\"256.267636\"/>\r\n      </g>\r\n     </g>\r\n     <g id=\"text_10\">\r\n      <!-- 0.4 -->\r\n      <g transform=\"translate(20.878125 260.066855)scale(0.1 -0.1)\">\r\n       <use xlink:href=\"#DejaVuSans-30\"/>\r\n       <use x=\"63.623047\" xlink:href=\"#DejaVuSans-2e\"/>\r\n       <use x=\"95.410156\" xlink:href=\"#DejaVuSans-34\"/>\r\n      </g>\r\n     </g>\r\n    </g>\r\n    <g id=\"ytick_4\">\r\n     <g id=\"line2d_10\">\r\n      <g>\r\n       <use style=\"stroke:#000000;stroke-width:0.8;\" x=\"43.78125\" xlink:href=\"#m82f5700df0\" y=\"193.012364\"/>\r\n      </g>\r\n     </g>\r\n     <g id=\"text_11\">\r\n      <!-- 0.6 -->\r\n      <g transform=\"translate(20.878125 196.811582)scale(0.1 -0.1)\">\r\n       <use xlink:href=\"#DejaVuSans-30\"/>\r\n       <use x=\"63.623047\" xlink:href=\"#DejaVuSans-2e\"/>\r\n       <use x=\"95.410156\" xlink:href=\"#DejaVuSans-36\"/>\r\n      </g>\r\n     </g>\r\n    </g>\r\n    <g id=\"ytick_5\">\r\n     <g id=\"line2d_11\">\r\n      <g>\r\n       <use style=\"stroke:#000000;stroke-width:0.8;\" x=\"43.78125\" xlink:href=\"#m82f5700df0\" y=\"129.757091\"/>\r\n      </g>\r\n     </g>\r\n     <g id=\"text_12\">\r\n      <!-- 0.8 -->\r\n      <g transform=\"translate(20.878125 133.55631)scale(0.1 -0.1)\">\r\n       <use xlink:href=\"#DejaVuSans-30\"/>\r\n       <use x=\"63.623047\" xlink:href=\"#DejaVuSans-2e\"/>\r\n       <use x=\"95.410156\" xlink:href=\"#DejaVuSans-38\"/>\r\n      </g>\r\n     </g>\r\n    </g>\r\n    <g id=\"ytick_6\">\r\n     <g id=\"line2d_12\">\r\n      <g>\r\n       <use style=\"stroke:#000000;stroke-width:0.8;\" x=\"43.78125\" xlink:href=\"#m82f5700df0\" y=\"66.501818\"/>\r\n      </g>\r\n     </g>\r\n     <g id=\"text_13\">\r\n      <!-- 1.0 -->\r\n      <g transform=\"translate(20.878125 70.301037)scale(0.1 -0.1)\">\r\n       <use xlink:href=\"#DejaVuSans-31\"/>\r\n       <use x=\"63.623047\" xlink:href=\"#DejaVuSans-2e\"/>\r\n       <use x=\"95.410156\" xlink:href=\"#DejaVuSans-30\"/>\r\n      </g>\r\n     </g>\r\n    </g>\r\n    <g id=\"text_14\">\r\n     <!-- y -->\r\n     <g transform=\"translate(14.798438 227.599375)rotate(-90)scale(0.1 -0.1)\">\r\n      <defs>\r\n       <path d=\"M 2059 -325 \r\nQ 1816 -950 1584 -1140 \r\nQ 1353 -1331 966 -1331 \r\nL 506 -1331 \r\nL 506 -850 \r\nL 844 -850 \r\nQ 1081 -850 1212 -737 \r\nQ 1344 -625 1503 -206 \r\nL 1606 56 \r\nL 191 3500 \r\nL 800 3500 \r\nL 1894 763 \r\nL 2988 3500 \r\nL 3597 3500 \r\nL 2059 -325 \r\nz\r\n\" id=\"DejaVuSans-79\" transform=\"scale(0.015625)\"/>\r\n      </defs>\r\n      <use xlink:href=\"#DejaVuSans-79\"/>\r\n     </g>\r\n    </g>\r\n   </g>\r\n   <g id=\"patch_14\">\r\n    <path d=\"M 43.78125 442.08 \r\nL 43.78125 7.2 \r\n\" style=\"fill:none;stroke:#000000;stroke-linecap:square;stroke-linejoin:miter;stroke-width:0.8;\"/>\r\n   </g>\r\n   <g id=\"patch_15\">\r\n    <path d=\"M 490.18125 442.08 \r\nL 490.18125 7.2 \r\n\" style=\"fill:none;stroke:#000000;stroke-linecap:square;stroke-linejoin:miter;stroke-width:0.8;\"/>\r\n   </g>\r\n   <g id=\"patch_16\">\r\n    <path d=\"M 43.78125 442.08 \r\nL 490.18125 442.08 \r\n\" style=\"fill:none;stroke:#000000;stroke-linecap:square;stroke-linejoin:miter;stroke-width:0.8;\"/>\r\n   </g>\r\n   <g id=\"patch_17\">\r\n    <path d=\"M 43.78125 7.2 \r\nL 490.18125 7.2 \r\n\" style=\"fill:none;stroke:#000000;stroke-linecap:square;stroke-linejoin:miter;stroke-width:0.8;\"/>\r\n   </g>\r\n   <g id=\"legend_1\">\r\n    <g id=\"patch_18\">\r\n     <path d=\"M 496.64525 39.55625 \r\nL 576.806187 39.55625 \r\nQ 578.806187 39.55625 578.806187 37.55625 \r\nL 578.806187 9.2 \r\nQ 578.806187 7.2 576.806187 7.2 \r\nL 496.64525 7.2 \r\nQ 494.64525 7.2 494.64525 9.2 \r\nL 494.64525 37.55625 \r\nQ 494.64525 39.55625 496.64525 39.55625 \r\nz\r\n\" style=\"fill:#ffffff;opacity:0.8;stroke:#cccccc;stroke-linejoin:miter;\"/>\r\n    </g>\r\n    <g id=\"PathCollection_4\">\r\n     <defs>\r\n      <path d=\"M 0 3 \r\nC 0.795609 3 1.55874 2.683901 2.12132 2.12132 \r\nC 2.683901 1.55874 3 0.795609 3 0 \r\nC 3 -0.795609 2.683901 -1.55874 2.12132 -2.12132 \r\nC 1.55874 -2.683901 0.795609 -3 0 -3 \r\nC -0.795609 -3 -1.55874 -2.683901 -2.12132 -2.12132 \r\nC -2.683901 -1.55874 -3 -0.795609 -3 0 \r\nC -3 0.795609 -2.683901 1.55874 -2.12132 2.12132 \r\nC -1.55874 2.683901 -0.795609 3 0 3 \r\nz\r\n\" id=\"m203e65f3b6\" style=\"stroke:#66c2a5;\"/>\r\n     </defs>\r\n     <g>\r\n      <use style=\"fill:#66c2a5;stroke:#66c2a5;\" x=\"508.64525\" xlink:href=\"#m203e65f3b6\" y=\"16.173437\"/>\r\n     </g>\r\n    </g>\r\n    <g id=\"text_15\">\r\n     <!-- Interior -->\r\n     <g transform=\"translate(526.64525 18.798437)scale(0.1 -0.1)\">\r\n      <defs>\r\n       <path d=\"M 628 4666 \r\nL 1259 4666 \r\nL 1259 0 \r\nL 628 0 \r\nL 628 4666 \r\nz\r\n\" id=\"DejaVuSans-49\" transform=\"scale(0.015625)\"/>\r\n       <path d=\"M 3513 2113 \r\nL 3513 0 \r\nL 2938 0 \r\nL 2938 2094 \r\nQ 2938 2591 2744 2837 \r\nQ 2550 3084 2163 3084 \r\nQ 1697 3084 1428 2787 \r\nQ 1159 2491 1159 1978 \r\nL 1159 0 \r\nL 581 0 \r\nL 581 3500 \r\nL 1159 3500 \r\nL 1159 2956 \r\nQ 1366 3272 1645 3428 \r\nQ 1925 3584 2291 3584 \r\nQ 2894 3584 3203 3211 \r\nQ 3513 2838 3513 2113 \r\nz\r\n\" id=\"DejaVuSans-6e\" transform=\"scale(0.015625)\"/>\r\n       <path d=\"M 1172 4494 \r\nL 1172 3500 \r\nL 2356 3500 \r\nL 2356 3053 \r\nL 1172 3053 \r\nL 1172 1153 \r\nQ 1172 725 1289 603 \r\nQ 1406 481 1766 481 \r\nL 2356 481 \r\nL 2356 0 \r\nL 1766 0 \r\nQ 1100 0 847 248 \r\nQ 594 497 594 1153 \r\nL 594 3053 \r\nL 172 3053 \r\nL 172 3500 \r\nL 594 3500 \r\nL 594 4494 \r\nL 1172 4494 \r\nz\r\n\" id=\"DejaVuSans-74\" transform=\"scale(0.015625)\"/>\r\n       <path d=\"M 3597 1894 \r\nL 3597 1613 \r\nL 953 1613 \r\nQ 991 1019 1311 708 \r\nQ 1631 397 2203 397 \r\nQ 2534 397 2845 478 \r\nQ 3156 559 3463 722 \r\nL 3463 178 \r\nQ 3153 47 2828 -22 \r\nQ 2503 -91 2169 -91 \r\nQ 1331 -91 842 396 \r\nQ 353 884 353 1716 \r\nQ 353 2575 817 3079 \r\nQ 1281 3584 2069 3584 \r\nQ 2775 3584 3186 3129 \r\nQ 3597 2675 3597 1894 \r\nz\r\nM 3022 2063 \r\nQ 3016 2534 2758 2815 \r\nQ 2500 3097 2075 3097 \r\nQ 1594 3097 1305 2825 \r\nQ 1016 2553 972 2059 \r\nL 3022 2063 \r\nz\r\n\" id=\"DejaVuSans-65\" transform=\"scale(0.015625)\"/>\r\n       <path d=\"M 2631 2963 \r\nQ 2534 3019 2420 3045 \r\nQ 2306 3072 2169 3072 \r\nQ 1681 3072 1420 2755 \r\nQ 1159 2438 1159 1844 \r\nL 1159 0 \r\nL 581 0 \r\nL 581 3500 \r\nL 1159 3500 \r\nL 1159 2956 \r\nQ 1341 3275 1631 3429 \r\nQ 1922 3584 2338 3584 \r\nQ 2397 3584 2469 3576 \r\nQ 2541 3569 2628 3553 \r\nL 2631 2963 \r\nz\r\n\" id=\"DejaVuSans-72\" transform=\"scale(0.015625)\"/>\r\n       <path d=\"M 603 3500 \r\nL 1178 3500 \r\nL 1178 0 \r\nL 603 0 \r\nL 603 3500 \r\nz\r\nM 603 4863 \r\nL 1178 4863 \r\nL 1178 4134 \r\nL 603 4134 \r\nL 603 4863 \r\nz\r\n\" id=\"DejaVuSans-69\" transform=\"scale(0.015625)\"/>\r\n       <path d=\"M 1959 3097 \r\nQ 1497 3097 1228 2736 \r\nQ 959 2375 959 1747 \r\nQ 959 1119 1226 758 \r\nQ 1494 397 1959 397 \r\nQ 2419 397 2687 759 \r\nQ 2956 1122 2956 1747 \r\nQ 2956 2369 2687 2733 \r\nQ 2419 3097 1959 3097 \r\nz\r\nM 1959 3584 \r\nQ 2709 3584 3137 3096 \r\nQ 3566 2609 3566 1747 \r\nQ 3566 888 3137 398 \r\nQ 2709 -91 1959 -91 \r\nQ 1206 -91 779 398 \r\nQ 353 888 353 1747 \r\nQ 353 2609 779 3096 \r\nQ 1206 3584 1959 3584 \r\nz\r\n\" id=\"DejaVuSans-6f\" transform=\"scale(0.015625)\"/>\r\n      </defs>\r\n      <use xlink:href=\"#DejaVuSans-49\"/>\r\n      <use x=\"29.492188\" xlink:href=\"#DejaVuSans-6e\"/>\r\n      <use x=\"92.871094\" xlink:href=\"#DejaVuSans-74\"/>\r\n      <use x=\"132.080078\" xlink:href=\"#DejaVuSans-65\"/>\r\n      <use x=\"193.603516\" xlink:href=\"#DejaVuSans-72\"/>\r\n      <use x=\"234.716797\" xlink:href=\"#DejaVuSans-69\"/>\r\n      <use x=\"262.5\" xlink:href=\"#DejaVuSans-6f\"/>\r\n      <use x=\"323.681641\" xlink:href=\"#DejaVuSans-72\"/>\r\n     </g>\r\n    </g>\r\n    <g id=\"PathCollection_5\">\r\n     <defs>\r\n      <path d=\"M -1.5 3 \r\nL 0 1.5 \r\nL 1.5 3 \r\nL 3 1.5 \r\nL 1.5 0 \r\nL 3 -1.5 \r\nL 1.5 -3 \r\nL 0 -1.5 \r\nL -1.5 -3 \r\nL -3 -1.5 \r\nL -1.5 0 \r\nL -3 1.5 \r\nz\r\n\" id=\"mbd8743ee6a\" style=\"stroke:#fc8d62;\"/>\r\n     </defs>\r\n     <g>\r\n      <use style=\"fill:#fc8d62;stroke:#fc8d62;\" x=\"508.64525\" xlink:href=\"#mbd8743ee6a\" y=\"30.851562\"/>\r\n     </g>\r\n    </g>\r\n    <g id=\"text_16\">\r\n     <!-- Boundary -->\r\n     <g transform=\"translate(526.64525 33.476562)scale(0.1 -0.1)\">\r\n      <defs>\r\n       <path d=\"M 1259 2228 \r\nL 1259 519 \r\nL 2272 519 \r\nQ 2781 519 3026 730 \r\nQ 3272 941 3272 1375 \r\nQ 3272 1813 3026 2020 \r\nQ 2781 2228 2272 2228 \r\nL 1259 2228 \r\nz\r\nM 1259 4147 \r\nL 1259 2741 \r\nL 2194 2741 \r\nQ 2656 2741 2882 2914 \r\nQ 3109 3088 3109 3444 \r\nQ 3109 3797 2882 3972 \r\nQ 2656 4147 2194 4147 \r\nL 1259 4147 \r\nz\r\nM 628 4666 \r\nL 2241 4666 \r\nQ 2963 4666 3353 4366 \r\nQ 3744 4066 3744 3513 \r\nQ 3744 3084 3544 2831 \r\nQ 3344 2578 2956 2516 \r\nQ 3422 2416 3680 2098 \r\nQ 3938 1781 3938 1306 \r\nQ 3938 681 3513 340 \r\nQ 3088 0 2303 0 \r\nL 628 0 \r\nL 628 4666 \r\nz\r\n\" id=\"DejaVuSans-42\" transform=\"scale(0.015625)\"/>\r\n       <path d=\"M 544 1381 \r\nL 544 3500 \r\nL 1119 3500 \r\nL 1119 1403 \r\nQ 1119 906 1312 657 \r\nQ 1506 409 1894 409 \r\nQ 2359 409 2629 706 \r\nQ 2900 1003 2900 1516 \r\nL 2900 3500 \r\nL 3475 3500 \r\nL 3475 0 \r\nL 2900 0 \r\nL 2900 538 \r\nQ 2691 219 2414 64 \r\nQ 2138 -91 1772 -91 \r\nQ 1169 -91 856 284 \r\nQ 544 659 544 1381 \r\nz\r\nM 1991 3584 \r\nL 1991 3584 \r\nz\r\n\" id=\"DejaVuSans-75\" transform=\"scale(0.015625)\"/>\r\n       <path d=\"M 2906 2969 \r\nL 2906 4863 \r\nL 3481 4863 \r\nL 3481 0 \r\nL 2906 0 \r\nL 2906 525 \r\nQ 2725 213 2448 61 \r\nQ 2172 -91 1784 -91 \r\nQ 1150 -91 751 415 \r\nQ 353 922 353 1747 \r\nQ 353 2572 751 3078 \r\nQ 1150 3584 1784 3584 \r\nQ 2172 3584 2448 3432 \r\nQ 2725 3281 2906 2969 \r\nz\r\nM 947 1747 \r\nQ 947 1113 1208 752 \r\nQ 1469 391 1925 391 \r\nQ 2381 391 2643 752 \r\nQ 2906 1113 2906 1747 \r\nQ 2906 2381 2643 2742 \r\nQ 2381 3103 1925 3103 \r\nQ 1469 3103 1208 2742 \r\nQ 947 2381 947 1747 \r\nz\r\n\" id=\"DejaVuSans-64\" transform=\"scale(0.015625)\"/>\r\n       <path d=\"M 2194 1759 \r\nQ 1497 1759 1228 1600 \r\nQ 959 1441 959 1056 \r\nQ 959 750 1161 570 \r\nQ 1363 391 1709 391 \r\nQ 2188 391 2477 730 \r\nQ 2766 1069 2766 1631 \r\nL 2766 1759 \r\nL 2194 1759 \r\nz\r\nM 3341 1997 \r\nL 3341 0 \r\nL 2766 0 \r\nL 2766 531 \r\nQ 2569 213 2275 61 \r\nQ 1981 -91 1556 -91 \r\nQ 1019 -91 701 211 \r\nQ 384 513 384 1019 \r\nQ 384 1609 779 1909 \r\nQ 1175 2209 1959 2209 \r\nL 2766 2209 \r\nL 2766 2266 \r\nQ 2766 2663 2505 2880 \r\nQ 2244 3097 1772 3097 \r\nQ 1472 3097 1187 3025 \r\nQ 903 2953 641 2809 \r\nL 641 3341 \r\nQ 956 3463 1253 3523 \r\nQ 1550 3584 1831 3584 \r\nQ 2591 3584 2966 3190 \r\nQ 3341 2797 3341 1997 \r\nz\r\n\" id=\"DejaVuSans-61\" transform=\"scale(0.015625)\"/>\r\n      </defs>\r\n      <use xlink:href=\"#DejaVuSans-42\"/>\r\n      <use x=\"68.603516\" xlink:href=\"#DejaVuSans-6f\"/>\r\n      <use x=\"129.785156\" xlink:href=\"#DejaVuSans-75\"/>\r\n      <use x=\"193.164062\" xlink:href=\"#DejaVuSans-6e\"/>\r\n      <use x=\"256.542969\" xlink:href=\"#DejaVuSans-64\"/>\r\n      <use x=\"320.019531\" xlink:href=\"#DejaVuSans-61\"/>\r\n      <use x=\"381.298828\" xlink:href=\"#DejaVuSans-72\"/>\r\n      <use x=\"422.412109\" xlink:href=\"#DejaVuSans-79\"/>\r\n     </g>\r\n    </g>\r\n   </g>\r\n  </g>\r\n </g>\r\n <defs>\r\n  <clipPath id=\"p66033eaeaf\">\r\n   <rect height=\"434.88\" width=\"446.4\" x=\"43.78125\" y=\"7.2\"/>\r\n  </clipPath>\r\n </defs>\r\n</svg>\r\n",
      "image/png": "[encoded data removed]"
     },
     "metadata": {
      "needs_background": "light"
     }
    }
   ],
   "metadata": {}
  },
  {
   "cell_type": "code",
   "execution_count": 5,
   "source": [
    "qx"
   ],
   "outputs": [
    {
     "output_type": "execute_result",
     "data": {
      "text/plain": [
       "0.125"
      ]
     },
     "metadata": {},
     "execution_count": 5
    }
   ],
   "metadata": {}
  },
  {
   "cell_type": "code",
   "execution_count": 6,
   "source": [
    "Gq =stable.G_q()\r\n",
    "Gq"
   ],
   "outputs": [
    {
     "output_type": "execute_result",
     "data": {
      "text/plain": [
       "7.636486373409742e-90"
      ]
     },
     "metadata": {},
     "execution_count": 6
    }
   ],
   "metadata": {}
  },
  {
   "cell_type": "code",
   "execution_count": 7,
   "source": [
    "ACaps = uh.ACaps()\r\n",
    "eigval, eigvect = np.linalg.eig(ACaps)"
   ],
   "outputs": [],
   "metadata": {}
  },
  {
   "cell_type": "code",
   "execution_count": 8,
   "source": [
    "min(abs(eigval))"
   ],
   "outputs": [
    {
     "output_type": "execute_result",
     "data": {
      "text/plain": [
       "0.9250602737312842"
      ]
     },
     "metadata": {},
     "execution_count": 8
    }
   ],
   "metadata": {}
  },
  {
   "cell_type": "code",
   "execution_count": 9,
   "source": [
    "print(\"Interior points: {:,.0f} \\nBoundary points: {:,.0f} \\nTotal points: {:,.0f}\".format(uh.Mi.shape[0], uh.Mb.shape[0], uh.Mi.shape[0] + uh.Mb.shape[0]))"
   ],
   "outputs": [
    {
     "output_type": "stream",
     "name": "stdout",
     "text": [
      "Interior points: 3 \n",
      "Boundary points: 8 \n",
      "Total points: 11\n"
     ]
    }
   ],
   "metadata": {}
  },
  {
   "cell_type": "code",
   "execution_count": 10,
   "source": [
    "#uh.epsilon = 5.956\r\n",
    "stable = stabillity(Mb, npnts)\r\n",
    "cond, det = stable.cond_num(uh.ACaps())\r\n",
    "print('Condition number: {:,.0f} \\nDeterminant: {:,.9f}'.format(cond, det))"
   ],
   "outputs": [
    {
     "output_type": "stream",
     "name": "stdout",
     "text": [
      "Condition number: 6 \n",
      "Determinant: -1,019.810969562\n"
     ]
    }
   ],
   "metadata": {}
  },
  {
   "cell_type": "code",
   "execution_count": 11,
   "source": [
    "t0, te = 0, 1\r\n",
    "N = 100\r\n",
    "X0 = uh.X_0()\r\n",
    "exp_RK = explicit_RungeKutta(Fm, X0, t0, te, N, uh)"
   ],
   "outputs": [],
   "metadata": {}
  },
  {
   "cell_type": "code",
   "execution_count": 12,
   "source": [
    "exp_RK.solve()"
   ],
   "outputs": [],
   "metadata": {}
  },
  {
   "cell_type": "code",
   "execution_count": 13,
   "source": [
    "exp_RK.timegrid"
   ],
   "outputs": [
    {
     "output_type": "execute_result",
     "data": {
      "text/plain": [
       "array([0.  , 0.01, 0.02, 0.03, 0.04, 0.05, 0.06, 0.07, 0.08, 0.09, 0.1 ,\n",
       "       0.11, 0.12, 0.13, 0.14, 0.15, 0.16, 0.17, 0.18, 0.19, 0.2 , 0.21,\n",
       "       0.22, 0.23, 0.24, 0.25, 0.26, 0.27, 0.28, 0.29, 0.3 , 0.31, 0.32,\n",
       "       0.33, 0.34, 0.35, 0.36, 0.37, 0.38, 0.39, 0.4 , 0.41, 0.42, 0.43,\n",
       "       0.44, 0.45, 0.46, 0.47, 0.48, 0.49, 0.5 , 0.51, 0.52, 0.53, 0.54,\n",
       "       0.55, 0.56, 0.57, 0.58, 0.59, 0.6 , 0.61, 0.62, 0.63, 0.64, 0.65,\n",
       "       0.66, 0.67, 0.68, 0.69, 0.7 , 0.71, 0.72, 0.73, 0.74, 0.75, 0.76,\n",
       "       0.77, 0.78, 0.79, 0.8 , 0.81, 0.82, 0.83, 0.84, 0.85, 0.86, 0.87,\n",
       "       0.88, 0.89, 0.9 , 0.91, 0.92, 0.93, 0.94, 0.95, 0.96, 0.97, 0.98,\n",
       "       0.99, 1.  ])"
      ]
     },
     "metadata": {},
     "execution_count": 13
    }
   ],
   "metadata": {}
  },
  {
   "cell_type": "code",
   "execution_count": 14,
   "source": [
    "def plot_solution(M, Mi, i):\r\n",
    "    n = int(M.shape[0]/Mi.shape[0])\r\n",
    "    df_i = pd.DataFrame()\r\n",
    "    for _ in range(n):\r\n",
    "        df_i = pd.concat([df_i, pd.DataFrame(Mi, columns=['x', 'y'])])\r\n",
    "    df_i = df_i.reset_index().rename(columns={'index': 'i'})\r\n",
    "    df = pd.DataFrame(M, columns=['u', 'v', 't'])\r\n",
    "    df = pd.concat([df_i, df], axis=1)\r\n",
    "    dff = df.loc[df['i'] == i]\r\n",
    "    plt.figure(figsize=(8, 8))\r\n",
    "    sns.lineplot(x='t', y='v', data=dff)\r\n",
    "    return df\r\n",
    "\r\n",
    "def u(Mi, norm_x, t, alpha=1.):\r\n",
    "    return Mi/((t+alpha) + (t+alpha)**2 * np.exp(norm_x**2/(4*(alpha +t))))"
   ],
   "outputs": [],
   "metadata": {}
  },
  {
   "cell_type": "code",
   "execution_count": 25,
   "source": [
    "norm_x = np.linalg.norm(uh.Mi, axis=1).reshape(-1,1)\r\n",
    "ex = u(uh.Mi, norm_x, 0.65)\r\n",
    "np.mean(abs(ex - exp_RK.solution[65])/ex)"
   ],
   "outputs": [
    {
     "output_type": "execute_result",
     "data": {
      "text/plain": [
       "0.017617789794736223"
      ]
     },
     "metadata": {},
     "execution_count": 25
    }
   ],
   "metadata": {}
  },
  {
   "cell_type": "markdown",
   "source": [
    "## Exact solution"
   ],
   "metadata": {}
  },
  {
   "cell_type": "code",
   "execution_count": null,
   "source": [
    "norm_x = np.linalg.norm(uh.Mi, axis=1).reshape(-1,1)\r\n",
    "ni = uh.Mi.shape[0]\r\n",
    "u0= u(uh.Mi, norm_x, 0.)\r\n",
    "u0 = np.hstack((u0, np.array([0.]*ni).reshape(-1,1)))\r\n",
    "for t in exp_RK.timegrid[1:]:\r\n",
    "    ui= u(uh.Mi, norm_x, t)\r\n",
    "    ui = np.hstack((ui, np.array([t]*ni).reshape(-1,1)))\r\n",
    "    u0 = np.vstack((u0, ui))\r\n",
    "\r\n",
    "exact_sol = plot_solution(u0, uh.Mi, 0)"
   ],
   "outputs": [],
   "metadata": {}
  },
  {
   "cell_type": "code",
   "execution_count": null,
   "source": [
    "from matplotlib import cm\r\n",
    "fig, ax = plt.subplots(subplot_kw={\"projection\": \"3d\"})\r\n",
    "\r\n",
    "# Make data.\r\n",
    "X = np.arange(0, 1, 0.025)\r\n",
    "Y = np.arange(0, 1, 0.025)\r\n",
    "n_X = np.linalg.norm(np.hstack((X.reshape(-1,1), Y.reshape(-1,1))), axis=1).reshape(-1,1)\r\n",
    "X, Y = np.meshgrid(X, Y)\r\n",
    "t=0.05\r\n",
    "V = Y/((1+t) + (1+t)*np.exp(n_X/(4*(1+t))))\r\n",
    "\r\n",
    "# Plot the surface.\r\n",
    "surf = ax.plot_surface(X, Y, V, cmap=cm.coolwarm,\r\n",
    "                       linewidth=0, antialiased=False)\r\n",
    "\r\n",
    "# Add a color bar which maps values to colors.\r\n",
    "fig.colorbar(surf, shrink=0.5, aspect=5)"
   ],
   "outputs": [],
   "metadata": {}
  },
  {
   "cell_type": "code",
   "execution_count": null,
   "source": [
    "L, H = np.pi*np.mgrid[-1:1:1000j, -1:1:1000j]\r\n",
    "T = np.cos(L)*np.cos(2*H)\r\n",
    "H = np.cos(L) + H\r\n",
    "fig, ax = plt.subplots()\r\n",
    "surf = plt.contourf(L, H, T, cmap=\"hot\")\r\n",
    "# Add a color bar which maps values to colors.\r\n",
    "fig.colorbar(surf, shrink=0.5, aspect=5)\r\n",
    "plt.show()\r\n"
   ],
   "outputs": [],
   "metadata": {}
  },
  {
   "cell_type": "code",
   "execution_count": null,
   "source": [
    "L, H = np.pi*np.mgrid[-1:1:10j, -1:1:10j]\r\n",
    "L"
   ],
   "outputs": [],
   "metadata": {}
  },
  {
   "cell_type": "code",
   "execution_count": null,
   "source": [
    "ti = exact_sol.t.unique()[5]\r\n",
    "sol_i = exact_sol[exact_sol['t'] == ti][['u', 'v']].values"
   ],
   "outputs": [],
   "metadata": {}
  },
  {
   "cell_type": "code",
   "execution_count": null,
   "source": [
    "app_u_i = X0 + ti*Fm(X0, uh)\r\n",
    "np.mean(abs(sol_i- app_u_i)[:,0])"
   ],
   "outputs": [],
   "metadata": {}
  },
  {
   "cell_type": "markdown",
   "source": [
    "## Solution"
   ],
   "metadata": {}
  },
  {
   "cell_type": "code",
   "execution_count": null,
   "source": [
    "sol = FDM_time(timegrid, X0, uh)\r\n",
    "for t, s in sol.items():\r\n",
    "    print('Time: {:,.4f}'.format(t))\r\n",
    "    print(s, '\\n')"
   ],
   "outputs": [],
   "metadata": {}
  }
 ],
 "metadata": {
  "orig_nbformat": 4,
  "language_info": {
   "name": "python",
   "version": "3.7.6",
   "mimetype": "text/x-python",
   "codemirror_mode": {
    "name": "ipython",
    "version": 3
   },
   "pygments_lexer": "ipython3",
   "nbconvert_exporter": "python",
   "file_extension": ".py"
  },
  "kernelspec": {
   "name": "python3",
   "display_name": "Python 3.7.6 64-bit ('.env': virtualenv)"
  },
  "interpreter": {
   "hash": "d77697815d4265ed8aea6c9072aebcc1fd7d3b7c82495dbb54be4f3932164dd9"
  }
 },
 "nbformat": 4,
 "nbformat_minor": 2
}